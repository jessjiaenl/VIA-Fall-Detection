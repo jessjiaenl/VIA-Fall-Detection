{
 "cells": [
  {
   "cell_type": "markdown",
   "metadata": {},
   "source": [
    "### All needed imports"
   ]
  },
  {
   "cell_type": "code",
   "execution_count": 1,
   "metadata": {},
   "outputs": [],
   "source": [
    "import os\n",
    "import cv2\n",
    "import numpy as np\n",
    "import tensorflow as tf\n",
    "assert tf.__version__.startswith('2')\n",
    "from tensorflow.keras import layers\n",
    "from tensorflow.keras.models import Model\n",
    "from tensorflow.keras.layers import Input, Conv2D, MaxPooling2D, Dense, GlobalAveragePooling2D, Dropout, BatchNormalization, Add, Activation, Flatten, concatenate, Lambda\n"
   ]
  },
  {
   "cell_type": "markdown",
   "metadata": {},
   "source": [
    "### Limit GPU Usage"
   ]
  },
  {
   "cell_type": "code",
   "execution_count": 2,
   "metadata": {},
   "outputs": [
    {
     "name": "stdout",
     "output_type": "stream",
     "text": [
      "1 Physical GPUs, 1 Logical GPUs\n"
     ]
    },
    {
     "name": "stderr",
     "output_type": "stream",
     "text": [
      "2023-08-17 10:10:53.541747: I tensorflow/stream_executor/cuda/cuda_gpu_executor.cc:936] successful NUMA node read from SysFS had negative value (-1), but there must be at least one NUMA node, so returning NUMA node zero\n",
      "2023-08-17 10:10:53.567179: I tensorflow/stream_executor/cuda/cuda_gpu_executor.cc:936] successful NUMA node read from SysFS had negative value (-1), but there must be at least one NUMA node, so returning NUMA node zero\n",
      "2023-08-17 10:10:53.567347: I tensorflow/stream_executor/cuda/cuda_gpu_executor.cc:936] successful NUMA node read from SysFS had negative value (-1), but there must be at least one NUMA node, so returning NUMA node zero\n",
      "2023-08-17 10:10:53.568075: I tensorflow/core/platform/cpu_feature_guard.cc:151] This TensorFlow binary is optimized with oneAPI Deep Neural Network Library (oneDNN) to use the following CPU instructions in performance-critical operations:  AVX2 FMA\n",
      "To enable them in other operations, rebuild TensorFlow with the appropriate compiler flags.\n",
      "2023-08-17 10:10:53.568354: I tensorflow/stream_executor/cuda/cuda_gpu_executor.cc:936] successful NUMA node read from SysFS had negative value (-1), but there must be at least one NUMA node, so returning NUMA node zero\n",
      "2023-08-17 10:10:53.568483: I tensorflow/stream_executor/cuda/cuda_gpu_executor.cc:936] successful NUMA node read from SysFS had negative value (-1), but there must be at least one NUMA node, so returning NUMA node zero\n",
      "2023-08-17 10:10:53.568599: I tensorflow/stream_executor/cuda/cuda_gpu_executor.cc:936] successful NUMA node read from SysFS had negative value (-1), but there must be at least one NUMA node, so returning NUMA node zero\n",
      "2023-08-17 10:10:56.496952: I tensorflow/stream_executor/cuda/cuda_gpu_executor.cc:936] successful NUMA node read from SysFS had negative value (-1), but there must be at least one NUMA node, so returning NUMA node zero\n",
      "2023-08-17 10:10:56.497559: I tensorflow/stream_executor/cuda/cuda_gpu_executor.cc:936] successful NUMA node read from SysFS had negative value (-1), but there must be at least one NUMA node, so returning NUMA node zero\n",
      "2023-08-17 10:10:56.498045: I tensorflow/stream_executor/cuda/cuda_gpu_executor.cc:936] successful NUMA node read from SysFS had negative value (-1), but there must be at least one NUMA node, so returning NUMA node zero\n",
      "2023-08-17 10:10:56.498434: I tensorflow/core/common_runtime/gpu/gpu_device.cc:1525] Created device /job:localhost/replica:0/task:0/device:GPU:0 with 2048 MB memory:  -> device: 0, name: NVIDIA GeForce RTX 2080 SUPER, pci bus id: 0000:03:00.0, compute capability: 7.5\n"
     ]
    }
   ],
   "source": [
    "gpus = tf.config.list_physical_devices('GPU')\n",
    "if gpus:\n",
    "    # Restrict TensorFlow to only allocate 2GB of memory on the first GPU\n",
    "    try:\n",
    "        tf.config.set_logical_device_configuration(gpus[0], [tf.config.LogicalDeviceConfiguration(memory_limit=2048)])\n",
    "        logical_gpus = tf.config.list_logical_devices('GPU')\n",
    "        print(len(gpus), \"Physical GPUs,\", len(logical_gpus), \"Logical GPUs\")\n",
    "    except RuntimeError as e:\n",
    "        # Virtual devices must be set before GPUs have been initialized\n",
    "        print(e)"
   ]
  },
  {
   "cell_type": "markdown",
   "metadata": {},
   "source": [
    "### Preprocessing Data for Model 1"
   ]
  },
  {
   "cell_type": "markdown",
   "metadata": {},
   "source": [
    "#### Video Paths"
   ]
  },
  {
   "cell_type": "code",
   "execution_count": 3,
   "metadata": {},
   "outputs": [],
   "source": [
    "falling_paths = [\n",
    "\n",
    "                 \"./../datasets/vids/splitted/new_moving/resized_logitech-fall2.mp4\",\n",
    "                 \"./../datasets/vids/splitted/new_moving/resized_logitech-fall3.mp4\",\n",
    "                 \"./../datasets/vids/splitted/new_moving/resized_logitech-fall4.mp4\",\n",
    "                 \"./../datasets/vids/splitted/new_moving/resized_logitech-fall1.mp4\",\n",
    "                 \"./../datasets/vids/splitted/new_moving/resized_logitech-fall5.mp4\",\n",
    "                 \"./../datasets/vids/splitted/new_moving/resized_logitech-fall6.mp4\",\n",
    "                 \"./../datasets/vids/splitted/new_moving/resized_logitech-fall7.mp4\",\n",
    "                 \"./../datasets/vids/splitted/new_moving/resized_logitech-fall8.mp4\",\n",
    "                 \"./../datasets/vids/splitted/new_moving/resized_logitech-fall9.mp4\",\n",
    "                 \"./../datasets/vids/splitted/new_moving/resized_logitech-fall10.mp4\",\n",
    "                 \"./../datasets/vids/splitted/new_moving/resized_logitech-fall11.mp4\",\n",
    "                 \"./../datasets/vids/splitted/new_moving/resized_logitech-fall12.mp4\",\n",
    "                 \"./../datasets/vids/splitted/new_moving/resized_logitech-fall13.mp4\",\n",
    "                 \"./../datasets/vids/splitted/new_moving/resized_logitech-fall14.mp4\",\n",
    "                 \"./../datasets/vids/splitted/new_moving/resized_logitech-fall15.mp4\",\n",
    "                \"./../datasets/vids/testdata/moving/resized-test-fall1.mp4\",\n",
    "                \"./../datasets/vids/testdata/moving/resized-test-fall2.mp4\",\n",
    "                \"./../datasets/vids/testdata/moving/resized-test-fall3.mp4\",\n",
    "                \"./../datasets/vids/testdata/moving/resized-test-fall4.mp4\",\n",
    "                \"./../datasets/vids/testdata/moving/resized-test-fall5.mp4\",\n",
    "                \"./../datasets/vids/testdata/moving/resized-test-fall6.mp4\",\n",
    "                \"./../datasets/vids/testdata/moving/resized-test-fall7.mp4\",\n",
    "                \"./../datasets/vids/testdata/moving/resized-test-fall8.mp4\",\n",
    "                \"./../datasets/vids/testdata/moving/resized-test-fall9.mp4\",\n",
    "                \"./../datasets/vids/testdata/moving/resized-test-fall10.mp4\",\n",
    "                \"./../datasets/vids/testdata/moving/resized-test-fall11.mp4\",\n",
    "                \"./../datasets/vids/testdata/moving/resized-test-fall12.mp4\",\n",
    "                \"./../datasets/vids/testdata/moving/resized-test-fall13.mp4\",\n",
    "                \"./../datasets/vids/testdata/moving/resized-test-fall14.mp4\",\n",
    "                \"./../datasets/vids/testdata/moving/resized-test-fall15.mp4\"\n",
    "                 ]\n",
    "\n",
    " \n",
    "\n",
    "default_paths = [\n",
    "\n",
    "                 \"./../datasets/vids/splitted/new_still/resized_logitech-default1.mp4\",\n",
    "                 \"./../datasets/vids/splitted/new_still/resized_logitech-default2.mp4\",\n",
    "                 \"./../datasets/vids/splitted/new_still/resized_logitech-default3.mp4\",\n",
    "                 \"./../datasets/vids/splitted/new_still/resized_logitech-default4.mp4\",\n",
    "                 \"./../datasets/vids/splitted/new_still/resized_logitech-default5.mp4\",\n",
    "                 \"./../datasets/vids/splitted/new_still/resized_logitech-default6.mp4\",\n",
    "                 \"./../datasets/vids/splitted/new_still/resized_logitech-default7.mp4\",\n",
    "                 \"./../datasets/vids/splitted/new_still/resized_logitech-default8.mp4\",\n",
    "                 \"./../datasets/vids/splitted/new_still/resized_logitech-default9.mp4\",\n",
    "                 \"./../datasets/vids/splitted/new_still/resized_logitech-default10.mp4\",\n",
    "                 \"./../datasets/vids/splitted/new_still/resized_logitech-default11.mp4\",\n",
    "                 \"./../datasets/vids/splitted/new_still/resized_logitech-default12.mp4\",\n",
    "                 \"./../datasets/vids/splitted/new_still/resized_logitech-default13.mp4\",\n",
    "                 \"./../datasets/vids/splitted/new_still/resized_logitech-default14.mp4\",\n",
    "                 \"./../datasets/vids/splitted/new_still/resized_logitech-default15.mp4\",\n",
    "                 \"./../datasets/vids/splitted/new_still/resized_logitech-default16.mp4\",\n",
    "                 \"./../datasets/vids/splitted/new_still/resized_logitech-default17.mp4\",\n",
    "                #  \"./../datasets/vids/splitted/new_still/resized_logitech-default18.mp4\",\n",
    "                 \"./../datasets/vids/splitted/new_still/resized_logitech-default19.mp4\",\n",
    "                 \"./../datasets/vids/splitted/new_still/resized_logitech-default20.mp4\",\n",
    "                 \"./../datasets/vids/splitted/new_still/resized_logitech-default21.mp4\",\n",
    "                 \"./../datasets/vids/splitted/new_still/resized_logitech-default22.mp4\",\n",
    "                 \"./../datasets/vids/splitted/new_still/resized_logitech-default23.mp4\"\n",
    "                 ]\n",
    "\n",
    "test_falling_paths = [\n",
    "                \"./../datasets/vids/testdata/moving/resized-test-fall1.mp4\",\n",
    "                \"./../datasets/vids/testdata/moving/resized-test-fall2.mp4\",\n",
    "                \"./../datasets/vids/testdata/moving/resized-test-fall3.mp4\",\n",
    "                \"./../datasets/vids/testdata/moving/resized-test-fall4.mp4\",\n",
    "                \"./../datasets/vids/testdata/moving/resized-test-fall5.mp4\",\n",
    "                \"./../datasets/vids/testdata/moving/resized-test-fall6.mp4\",\n",
    "                \"./../datasets/vids/testdata/moving/resized-test-fall7.mp4\",\n",
    "                \"./../datasets/vids/testdata/moving/resized-test-fall8.mp4\",\n",
    "                \"./../datasets/vids/testdata/moving/resized-test-fall9.mp4\",\n",
    "                \"./../datasets/vids/testdata/moving/resized-test-fall10.mp4\",\n",
    "                \"./../datasets/vids/testdata/moving/resized-test-fall11.mp4\",\n",
    "                \"./../datasets/vids/testdata/moving/resized-test-fall12.mp4\",\n",
    "                \"./../datasets/vids/testdata/moving/resized-test-fall13.mp4\",\n",
    "                \"./../datasets/vids/testdata/moving/resized-test-fall14.mp4\",\n",
    "                \"./../datasets/vids/testdata/moving/resized-test-fall15.mp4\"\n",
    "]\n",
    "\n",
    "test_default_paths = [\n",
    "                \"./../datasets/vids/testdata/still/resized-test-default1.mp4\",\n",
    "                \"./../datasets/vids/testdata/still/resized-test-default2.mp4\",\n",
    "                \"./../datasets/vids/testdata/still/resized-test-default3.mp4\",\n",
    "                \"./../datasets/vids/testdata/still/resized-test-default4.mp4\",\n",
    "                \"./../datasets/vids/testdata/still/resized-test-default5.mp4\",\n",
    "                \"./../datasets/vids/testdata/still/resized-test-default6.mp4\",\n",
    "                \"./../datasets/vids/testdata/still/resized-test-default7.mp4\",\n",
    "                \"./../datasets/vids/testdata/still/resized-test-default8.mp4\",\n",
    "                \"./../datasets/vids/testdata/still/resized-test-default9.mp4\",\n",
    "                \"./../datasets/vids/testdata/still/resized-test-default10.mp4\",\n",
    "                \"./../datasets/vids/testdata/still/resized-test-default11.mp4\",\n",
    "                \"./../datasets/vids/testdata/still/resized-test-default12.mp4\",\n",
    "                \"./../datasets/vids/testdata/still/resized-test-default13.mp4\",\n",
    "                \"./../datasets/vids/testdata/still/resized-test-default14.mp4\",\n",
    "                \"./../datasets/vids/testdata/still/resized-test-default15.mp4\"\n",
    "]"
   ]
  },
  {
   "cell_type": "markdown",
   "metadata": {},
   "source": [
    "#### Processing code, returns frame (num_frames, 224,224,3) and frame_diffs (num_frames, 224,224)"
   ]
  },
  {
   "cell_type": "code",
   "execution_count": 4,
   "metadata": {},
   "outputs": [],
   "source": [
    "# Code to apply the same random transformation "
   ]
  },
  {
   "cell_type": "code",
   "execution_count": 5,
   "metadata": {},
   "outputs": [],
   "source": [
    "def process_videos(video_paths, label):\n",
    "    frames = []\n",
    "    frame_diffs = []\n",
    "    labels = []\n",
    "    \n",
    "    for path in video_paths:\n",
    "        video_cap = cv2.VideoCapture(path)\n",
    "        \n",
    "        prev_gray_frame = None\n",
    "        \n",
    "        while video_cap.isOpened():\n",
    "            ret, frame = video_cap.read()\n",
    "            \n",
    "            if not ret:\n",
    "                break\n",
    "            \n",
    "            # Resize and convert frame to RGB\n",
    "            frame_resized = cv2.resize(frame, (224, 224))\n",
    "            frame_rgb = cv2.cvtColor(frame_resized, cv2.COLOR_BGR2RGB)\n",
    "            \n",
    "            # Convert frame to grayscale\n",
    "            gray_frame = cv2.cvtColor(frame_rgb, cv2.COLOR_BGR2GRAY)\n",
    "\n",
    "            if prev_gray_frame is None:\n",
    "                frame_diff = np.zeros_like(gray_frame, dtype=np.float32)\n",
    "            else:\n",
    "                frame_diff = cv2.absdiff(prev_gray_frame, gray_frame)\n",
    "                # frame_diff = cv2.absdiff(prev_gray_frame, gray_frame) / 255.0\n",
    "            \n",
    "            prev_gray_frame = gray_frame\n",
    "            \n",
    "            frames.append(frame_rgb)\n",
    "            frame_diffs.append(frame_diff)\n",
    "            labels.append(label)  # 0 for still, 1 for moving\n",
    "        # print(len(labels))\n",
    "        video_cap.release()\n",
    "\n",
    "    return np.array(frames), np.array(frame_diffs), np.array(labels)"
   ]
  },
  {
   "cell_type": "code",
   "execution_count": 6,
   "metadata": {},
   "outputs": [],
   "source": [
    "# Reshaping to 224 x 224 x 4 for the convolutional model\n",
    "def combine_frames_and_diffs(frames, frame_diffs):\n",
    "    # frame_diffs dimension\n",
    "    # print(frame_diffs.shape)\n",
    "    frame_diffs_expanded = np.expand_dims(frame_diffs, axis=-1) # Add an extra dimension\n",
    "    # frame_diffs_expanded dimension\n",
    "    # print(frame_diffs_expanded.shape)\n",
    "    combined_input = np.concatenate([frames, frame_diffs_expanded], axis=-1) # Concatenate along the last axis\n",
    "    # combined_input dimension\n",
    "    # print(combined_input.shape)\n",
    "    \n",
    "    # Visualize the difference\n",
    "    # cv2.imwrite('img_still.png', combined_input[10])\n",
    "    return combined_input"
   ]
  },
  {
   "cell_type": "code",
   "execution_count": 7,
   "metadata": {},
   "outputs": [
    {
     "name": "stdout",
     "output_type": "stream",
     "text": [
      "(2768, 224, 224, 4)\n",
      "float32\n"
     ]
    }
   ],
   "source": [
    "# Generate the frames and frame_diffs array for still\n",
    "still_frames, still_diff, still_labels = process_videos(default_paths, 0)\n",
    "# test_still_frames, test_still_diff, test_still_labels = process_videos(test_default_paths, 0)\n",
    "# print(still_frames.shape)\n",
    "falling_frames, falling_diff, falling_labels = process_videos(falling_paths, 1)\n",
    "# test_falling_frames, test_falling_diff, test_falling_labels = process_videos(test_falling_paths, 1)\n",
    "# print(falling_frames.shape)\n",
    "\n",
    "# Combine them\n",
    "concatenate_frames = np.concatenate([still_frames, falling_frames], axis = 0)\n",
    "# print(concatenate_frames.shape)\n",
    "concatenate_diff =  np.concatenate([still_diff, falling_diff], axis = 0)\n",
    "# print(concatenate_diff.shape)\n",
    "concatenate_labels =  np.concatenate([still_labels, falling_labels], axis = 0)\n",
    "# print(concatenate_labels.shape)\n",
    "\n",
    "# Create 224x224x4 shape for the model\n",
    "combined_input = combine_frames_and_diffs(concatenate_frames, concatenate_diff)\n",
    "# print(combined_input)\n",
    "\n",
    "# Combine them\n",
    "# test_concatenate_frames = np.concatenate([test_still_frames, test_falling_frames], axis = 0)\n",
    "# test_concatenate_diff =  np.concatenate([test_still_diff, test_falling_diff], axis = 0)\n",
    "# test_concatenate_labels =  np.concatenate([test_still_labels, test_falling_labels], axis = 0)\n",
    "# print(test_concatenate_frames.shape)\n",
    "# Create 224x224x4 shape for the model\n",
    "# test_combined_input = combine_frames_and_diffs(test_concatenate_frames, test_concatenate_diff)\n",
    "print(combined_input.shape)\n",
    "# print(test_combined_input.shape)\n",
    "# Shuffle the data if needed\n",
    "indices = np.arange(combined_input.shape[0])\n",
    "np.random.shuffle(indices)\n",
    "combined_input = combined_input[indices]\n",
    "print(combined_input.dtype)\n",
    "concatenate_labels = concatenate_labels[indices]\n",
    "\n",
    "#data augmentation \n",
    "data_augmentation = tf.keras.Sequential([\n",
    "    # layers.RandomFlip(\"horizontal_and_vertical\"),\n",
    "    layers.RandomRotation(0.2),\n",
    "    layers.RandomContrast(factor=0.1)\n",
    "\n",
    "])\n"
   ]
  },
  {
   "cell_type": "code",
   "execution_count": 8,
   "metadata": {},
   "outputs": [
    {
     "name": "stderr",
     "output_type": "stream",
     "text": [
      "2023-08-17 10:10:59.643958: W tensorflow/core/framework/cpu_allocator_impl.cc:82] Allocation of 2222194688 exceeds 10% of free system memory.\n"
     ]
    }
   ],
   "source": [
    "# Create a TensorFlow dataset\n",
    "with tf.device('/cpu:0'):\n",
    "    # dataset = tf.data.Dataset.from_tensor_slices((combined_input, concatenate_labels))\n",
    "    dataset = tf.data.Dataset.from_tensor_slices((combined_input/255.0, concatenate_labels))\n",
    "    dataset = dataset.batch(16).prefetch(buffer_size=tf.data.AUTOTUNE)\n",
    "    # test_dataset = tf.data.Dataset.from_tensor_slices((test_combined_input, test_concatenate_labels))\n",
    "    # test_dataset = test_dataset.shuffle(buffer_size=len(test_combined_input))\n",
    "    # test_dataset = test_dataset.batch(16).prefetch(buffer_size=tf.data.AUTOTUNE)\n",
    "\n",
    "# Split the dataset into training and validation\n",
    "train_dataset = dataset.take(int(0.85 * len(dataset)))\n",
    "val_dataset = dataset.skip(int(0.85 * len(dataset)))\n",
    "\n",
    "# dataset = tf.data.Dataset.from_tensor_slices((combined_input, concatenate_labels))\n",
    "# Batch and prefetch if needed\n",
    "# dataset = dataset.batch(16).prefetch(buffer_size=tf.data.AUTOTUNE)"
   ]
  },
  {
   "cell_type": "markdown",
   "metadata": {},
   "source": [
    "#### Create the model"
   ]
  },
  {
   "cell_type": "code",
   "execution_count": 9,
   "metadata": {},
   "outputs": [
    {
     "name": "stdout",
     "output_type": "stream",
     "text": [
      "Model: \"model\"\n",
      "_________________________________________________________________\n",
      " Layer (type)                Output Shape              Param #   \n",
      "=================================================================\n",
      " combined_input (InputLayer)  [(None, 224, 224, 4)]    0         \n",
      "                                                                 \n",
      " sequential (Sequential)     (None, 224, 224, 4)       0         \n",
      "                                                                 \n",
      " conv2d (Conv2D)             (None, 222, 222, 32)      1184      \n",
      "                                                                 \n",
      " max_pooling2d (MaxPooling2D  (None, 111, 111, 32)     0         \n",
      " )                                                               \n",
      "                                                                 \n",
      " conv2d_1 (Conv2D)           (None, 109, 109, 64)      18496     \n",
      "                                                                 \n",
      " max_pooling2d_1 (MaxPooling  (None, 54, 54, 64)       0         \n",
      " 2D)                                                             \n",
      "                                                                 \n",
      " conv2d_2 (Conv2D)           (None, 52, 52, 128)       73856     \n",
      "                                                                 \n",
      " max_pooling2d_2 (MaxPooling  (None, 26, 26, 128)      0         \n",
      " 2D)                                                             \n",
      "                                                                 \n",
      " global_average_pooling2d (G  (None, 128)              0         \n",
      " lobalAveragePooling2D)                                          \n",
      "                                                                 \n",
      " dense (Dense)               (None, 128)               16512     \n",
      "                                                                 \n",
      " dense_1 (Dense)             (None, 64)                8256      \n",
      "                                                                 \n",
      " dense_2 (Dense)             (None, 1)                 65        \n",
      "                                                                 \n",
      "=================================================================\n",
      "Total params: 118,369\n",
      "Trainable params: 118,369\n",
      "Non-trainable params: 0\n",
      "_________________________________________________________________\n"
     ]
    }
   ],
   "source": [
    "def create_model():\n",
    "    combined_input = Input(shape=(224, 224, 4), name='combined_input')\n",
    "\n",
    "    # Apply data augmentation here\n",
    "    x = data_augmentation(combined_input)\n",
    "\n",
    "    # Convolutional layers for image processing\n",
    "    # Convolutional layers are useful for learning spatial hierarchies and detecting features \n",
    "    x = Conv2D(32, (3, 3), activation='relu')(x) #  Convolutional layers extract spatial features from the image\n",
    "    x = MaxPooling2D((2, 2))(x) #  Max-pooling layers reduce the size of the feature maps.\n",
    "    x = Conv2D(64, (3, 3), activation='relu')(x)\n",
    "    x = MaxPooling2D((2, 2))(x)\n",
    "    x = Conv2D(128, (3, 3), activation='relu')(x)\n",
    "    x = MaxPooling2D((2, 2))(x)\n",
    "    \n",
    "    # Fully connected layers: These layers learn to make decisions based on the features extracted by the convolutional layers\n",
    "    x = GlobalAveragePooling2D()(x)\n",
    "    x = Dense(128, activation='relu')(x)\n",
    "    x = Dense(64, activation='relu')(x)\n",
    "    output = Dense(1, activation='sigmoid')(x)  # Single output with sigmoid activation\n",
    "\n",
    "    model = Model(inputs=combined_input, outputs=output)\n",
    "    model.compile(optimizer='adam', loss='binary_crossentropy', metrics=['accuracy'])  # Binary cross-entropy loss\n",
    "    \n",
    "    return model\n",
    "    \n",
    "    \n",
    "model = create_model()\n",
    "model.summary()"
   ]
  },
  {
   "cell_type": "code",
   "execution_count": 10,
   "metadata": {},
   "outputs": [],
   "source": [
    "checkpoint_filepath = 'tmp/checkpoints'\n",
    "model_checkpoint_callback = tf.keras.callbacks.ModelCheckpoint(\n",
    "    filepath=checkpoint_filepath,\n",
    "    save_weights_only=True,\n",
    "    monitor='val_accuracy',\n",
    "    mode='max',\n",
    "    save_best_only=True)"
   ]
  },
  {
   "cell_type": "code",
   "execution_count": 11,
   "metadata": {},
   "outputs": [
    {
     "name": "stderr",
     "output_type": "stream",
     "text": [
      "2023-08-17 10:11:00.683759: W tensorflow/core/framework/cpu_allocator_impl.cc:82] Allocation of 2222194688 exceeds 10% of free system memory.\n",
      "2023-08-17 10:11:01.750194: W tensorflow/core/framework/cpu_allocator_impl.cc:82] Allocation of 2222194688 exceeds 10% of free system memory.\n"
     ]
    },
    {
     "name": "stdout",
     "output_type": "stream",
     "text": [
      "Epoch 1/15\n"
     ]
    },
    {
     "name": "stderr",
     "output_type": "stream",
     "text": [
      "2023-08-17 10:11:04.937352: I tensorflow/stream_executor/cuda/cuda_dnn.cc:368] Loaded cuDNN version 8600\n",
      "2023-08-17 10:11:06.006388: W tensorflow/stream_executor/gpu/asm_compiler.cc:111] *** WARNING *** You are using ptxas 10.1.243, which is older than 11.1. ptxas before 11.1 is known to miscompile XLA code, leading to incorrect results or invalid-address errors.\n",
      "\n",
      "You may not need to update to CUDA 11.1; cherry-picking the ptxas binary is often sufficient.\n"
     ]
    },
    {
     "name": "stdout",
     "output_type": "stream",
     "text": [
      "147/147 [==============================] - ETA: 0s - loss: 0.5579 - accuracy: 0.7411"
     ]
    },
    {
     "name": "stderr",
     "output_type": "stream",
     "text": [
      "2023-08-17 10:11:10.166250: W tensorflow/core/framework/cpu_allocator_impl.cc:82] Allocation of 2222194688 exceeds 10% of free system memory.\n",
      "2023-08-17 10:11:11.218995: W tensorflow/core/framework/cpu_allocator_impl.cc:82] Allocation of 2222194688 exceeds 10% of free system memory.\n"
     ]
    },
    {
     "name": "stdout",
     "output_type": "stream",
     "text": [
      "147/147 [==============================] - 10s 42ms/step - loss: 0.5579 - accuracy: 0.7411 - val_loss: 0.4744 - val_accuracy: 0.8389\n",
      "Epoch 2/15\n",
      "147/147 [==============================] - 6s 43ms/step - loss: 0.4554 - accuracy: 0.8176 - val_loss: 0.4163 - val_accuracy: 0.8534\n",
      "Epoch 3/15\n",
      "147/147 [==============================] - 6s 42ms/step - loss: 0.4173 - accuracy: 0.8376 - val_loss: 0.3819 - val_accuracy: 0.8558\n",
      "Epoch 4/15\n",
      "147/147 [==============================] - 6s 41ms/step - loss: 0.4108 - accuracy: 0.8414 - val_loss: 0.3760 - val_accuracy: 0.8510\n",
      "Epoch 5/15\n",
      "147/147 [==============================] - 6s 41ms/step - loss: 0.3827 - accuracy: 0.8546 - val_loss: 0.3564 - val_accuracy: 0.8606\n",
      "Epoch 6/15\n",
      "147/147 [==============================] - 6s 42ms/step - loss: 0.3774 - accuracy: 0.8580 - val_loss: 0.3515 - val_accuracy: 0.8606\n",
      "Epoch 7/15\n",
      "147/147 [==============================] - 6s 42ms/step - loss: 0.3509 - accuracy: 0.8729 - val_loss: 0.3268 - val_accuracy: 0.8798\n",
      "Epoch 8/15\n",
      "147/147 [==============================] - 6s 42ms/step - loss: 0.3389 - accuracy: 0.8716 - val_loss: 0.3030 - val_accuracy: 0.8942\n",
      "Epoch 9/15\n",
      "147/147 [==============================] - 6s 43ms/step - loss: 0.3267 - accuracy: 0.8767 - val_loss: 0.3210 - val_accuracy: 0.8846\n",
      "Epoch 10/15\n",
      "147/147 [==============================] - 6s 42ms/step - loss: 0.3165 - accuracy: 0.8797 - val_loss: 0.3110 - val_accuracy: 0.8942\n",
      "Epoch 11/15\n",
      "147/147 [==============================] - 6s 43ms/step - loss: 0.2961 - accuracy: 0.8929 - val_loss: 0.3015 - val_accuracy: 0.9038\n",
      "Epoch 12/15\n",
      "147/147 [==============================] - 6s 42ms/step - loss: 0.2952 - accuracy: 0.8869 - val_loss: 0.3886 - val_accuracy: 0.8462\n",
      "Epoch 13/15\n",
      "147/147 [==============================] - 6s 43ms/step - loss: 0.2955 - accuracy: 0.8890 - val_loss: 0.2885 - val_accuracy: 0.9111\n",
      "Epoch 14/15\n",
      "147/147 [==============================] - 6s 43ms/step - loss: 0.2827 - accuracy: 0.8967 - val_loss: 0.2979 - val_accuracy: 0.8942\n",
      "Epoch 15/15\n",
      "147/147 [==============================] - 6s 43ms/step - loss: 0.2757 - accuracy: 0.9005 - val_loss: 0.2861 - val_accuracy: 0.9087\n"
     ]
    },
    {
     "data": {
      "text/plain": [
       "<tensorflow.python.training.tracking.util.CheckpointLoadStatus at 0x7f9a46feb5b0>"
      ]
     },
     "execution_count": 11,
     "metadata": {},
     "output_type": "execute_result"
    }
   ],
   "source": [
    "model.fit(train_dataset, validation_data=val_dataset, epochs=15, callbacks=[model_checkpoint_callback])\n",
    "model.load_weights(checkpoint_filepath)"
   ]
  },
  {
   "cell_type": "markdown",
   "metadata": {},
   "source": [
    "#### Save the model"
   ]
  },
  {
   "cell_type": "code",
   "execution_count": 12,
   "metadata": {},
   "outputs": [],
   "source": [
    "# model.evaluate(test)\n",
    "# model.save(\"m1\")"
   ]
  },
  {
   "cell_type": "markdown",
   "metadata": {},
   "source": [
    "#### Quantize and save as tflite"
   ]
  },
  {
   "cell_type": "code",
   "execution_count": 17,
   "metadata": {},
   "outputs": [
    {
     "name": "stdout",
     "output_type": "stream",
     "text": [
      "INFO:tensorflow:Assets written to: /tmp/tmpl1wklek5/assets\n"
     ]
    },
    {
     "name": "stderr",
     "output_type": "stream",
     "text": [
      "INFO:tensorflow:Assets written to: /tmp/tmpl1wklek5/assets\n",
      "/home/sylvia/.local/lib/python3.8/site-packages/tensorflow/lite/python/convert.py:746: UserWarning: Statistics for quantized inputs were expected, but not specified; continuing anyway.\n",
      "  warnings.warn(\"Statistics for quantized inputs were expected, but not \"\n",
      "2023-08-17 10:19:46.785598: W tensorflow/compiler/mlir/lite/python/tf_tfl_flatbuffer_helpers.cc:357] Ignored output_format.\n",
      "2023-08-17 10:19:46.785621: W tensorflow/compiler/mlir/lite/python/tf_tfl_flatbuffer_helpers.cc:360] Ignored drop_control_dependency.\n",
      "2023-08-17 10:19:46.785764: I tensorflow/cc/saved_model/reader.cc:43] Reading SavedModel from: /tmp/tmpl1wklek5\n",
      "2023-08-17 10:19:46.788151: I tensorflow/cc/saved_model/reader.cc:78] Reading meta graph with tags { serve }\n",
      "2023-08-17 10:19:46.788163: I tensorflow/cc/saved_model/reader.cc:119] Reading SavedModel debug info (if present) from: /tmp/tmpl1wklek5\n",
      "2023-08-17 10:19:46.795557: I tensorflow/cc/saved_model/loader.cc:228] Restoring SavedModel bundle.\n",
      "2023-08-17 10:19:46.841430: I tensorflow/cc/saved_model/loader.cc:212] Running initialization op on SavedModel bundle at path: /tmp/tmpl1wklek5\n",
      "2023-08-17 10:19:46.857713: I tensorflow/cc/saved_model/loader.cc:301] SavedModel load for tags { serve }; Status: success: OK. Took 71950 microseconds.\n",
      "fully_quantize: 0, inference_type: 6, input_inference_type: 3, output_inference_type: 3\n"
     ]
    }
   ],
   "source": [
    "def representative_dataset():\n",
    "    for data, label in tf.data.Dataset.from_tensor_slices((combined_input, concatenate_labels)).batch(1).take(100):\n",
    "        yield [tf.dtypes.cast(data, tf.float32)]\n",
    "\n",
    "with tf.device('/cpu:0'):\n",
    "    converter = tf.lite.TFLiteConverter.from_keras_model(model)\n",
    "    converter.optimizations = [tf.lite.Optimize.DEFAULT]\n",
    "    converter.representative_dataset = representative_dataset\n",
    "    converter.target_spec.supported_ops = [tf.lite.OpsSet.TFLITE_BUILTINS_INT8]\n",
    "    converter.inference_input_type = tf.uint8\n",
    "    converter.inference_output_type = tf.uint8\n",
    "    tflite_quant_m1 = converter.convert()\n",
    "\n",
    "# Save the quantized model 1\n",
    "with open('./models/m1_quant_v8.tflite', 'wb') as f: f.write(tflite_quant_m1)"
   ]
  },
  {
   "cell_type": "markdown",
   "metadata": {},
   "source": [
    "#### Pass in video for model 1 to predict to generate data for model 2"
   ]
  },
  {
   "cell_type": "code",
   "execution_count": 18,
   "metadata": {},
   "outputs": [
    {
     "name": "stdout",
     "output_type": "stream",
     "text": [
      "Input shape: [  1 224 224   4]\n",
      "Output shape: [1 1]\n"
     ]
    }
   ],
   "source": [
    "# Load TFLite model and allocate tensors.\n",
    "interpreter = tf.lite.Interpreter(model_path=\"./models/m1_quant_v8.tflite\")\n",
    "interpreter.allocate_tensors()\n",
    "\n",
    "input_details = interpreter.get_input_details()\n",
    "print('Input shape:', input_details[0]['shape'])\n",
    "output_details = interpreter.get_output_details()\n",
    "print('Output shape:', output_details[0]['shape'])\n",
    "\n",
    "# [1,1] u get [[1]], instead of [1]\n",
    "# idk why it wraps an extra bracket but it just does"
   ]
  },
  {
   "cell_type": "markdown",
   "metadata": {},
   "source": [
    "#### Predict with model 1 and save the results into an array"
   ]
  },
  {
   "cell_type": "code",
   "execution_count": 15,
   "metadata": {},
   "outputs": [],
   "source": [
    "def process_single_vid(path):\n",
    "    # know which video I am processing\n",
    "    print(path)\n",
    "    frames = []\n",
    "    frame_diffs = []\n",
    "    video_cap = cv2.VideoCapture(path)\n",
    "    \n",
    "    prev_gray_frame = None\n",
    "    \n",
    "    while video_cap.isOpened():\n",
    "        ret, frame = video_cap.read()\n",
    "        \n",
    "        if not ret:\n",
    "            break\n",
    "        \n",
    "        # Resize and convert frame to RGB\n",
    "        frame_resized = cv2.resize(frame, (224, 224))\n",
    "        frame_rgb = cv2.cvtColor(frame_resized, cv2.COLOR_BGR2RGB)\n",
    "        \n",
    "        # Convert frame to grayscale\n",
    "        gray_frame = cv2.cvtColor(frame_rgb, cv2.COLOR_BGR2GRAY)\n",
    "\n",
    "        if prev_gray_frame is None:\n",
    "            frame_diff = np.zeros_like(gray_frame, dtype=np.float32)\n",
    "        else:\n",
    "            frame_diff = cv2.absdiff(prev_gray_frame, gray_frame)\n",
    "            # frame_diff = cv2.absdiff(prev_gray_frame, gray_frame) / 255.0\n",
    "        \n",
    "        prev_gray_frame = gray_frame\n",
    "        \n",
    "        frames.append(frame_rgb)\n",
    "        frame_diffs.append(frame_diff)\n",
    "\n",
    "    video_cap.release()\n",
    "    return np.array(frames), np.array(frame_diffs)\n",
    "\n",
    "def predict_single_vid(interpreter, input_data):\n",
    "    # Get the input and output details\n",
    "    input_details = interpreter.get_input_details()[0]\n",
    "    output_details = interpreter.get_output_details()[0]\n",
    "\n",
    "    # Initialize an empty list to store the results\n",
    "    results = []\n",
    "\n",
    "    # Iterate over each instance in the input data\n",
    "    for instance in input_data:\n",
    "        # Set the tensor to point to the input data to be inferred\n",
    "        interpreter.set_tensor(input_details['index'], np.expand_dims(instance, axis=0))\n",
    "\n",
    "        # Run the computation\n",
    "        interpreter.invoke()\n",
    "\n",
    "        # Get the output tensor\n",
    "        output = interpreter.get_tensor(output_details['index'])\n",
    "\n",
    "        # Append the output to the results list\n",
    "        results.append(output)\n",
    "\n",
    "    # Convert the results list to an array and return it\n",
    "    return np.array(results)\n",
    "\n",
    "def add_noise(data, noise_level=5):\n",
    "    # Convert to float\n",
    "    float_data = data.astype(np.float32)\n",
    "    \n",
    "    # Generate random noise\n",
    "    noise = np.random.uniform(-noise_level, noise_level, data.shape)\n",
    "    \n",
    "    # Add the noise to the data\n",
    "    noisy_data = float_data + noise\n",
    "    \n",
    "    # Clip values to uint8 range and convert back to uint8\n",
    "    noisy_data = np.clip(noisy_data, 0, 255).astype(np.uint8)\n",
    "    \n",
    "    return noisy_data"
   ]
  },
  {
   "cell_type": "code",
   "execution_count": 19,
   "metadata": {},
   "outputs": [
    {
     "name": "stdout",
     "output_type": "stream",
     "text": [
      "./../datasets/vids/splitted/new_moving/resized_logitech-fall2.mp4\n",
      "./../datasets/vids/splitted/new_moving/resized_logitech-fall3.mp4\n",
      "./../datasets/vids/splitted/new_moving/resized_logitech-fall4.mp4\n",
      "./../datasets/vids/splitted/new_moving/resized_logitech-fall1.mp4\n",
      "./../datasets/vids/splitted/new_moving/resized_logitech-fall5.mp4\n",
      "./../datasets/vids/splitted/new_moving/resized_logitech-fall6.mp4\n",
      "./../datasets/vids/splitted/new_moving/resized_logitech-fall7.mp4\n",
      "./../datasets/vids/splitted/new_moving/resized_logitech-fall8.mp4\n",
      "./../datasets/vids/splitted/new_moving/resized_logitech-fall9.mp4\n",
      "./../datasets/vids/splitted/new_moving/resized_logitech-fall10.mp4\n",
      "./../datasets/vids/splitted/new_moving/resized_logitech-fall11.mp4\n",
      "./../datasets/vids/splitted/new_moving/resized_logitech-fall12.mp4\n",
      "./../datasets/vids/splitted/new_moving/resized_logitech-fall13.mp4\n",
      "./../datasets/vids/splitted/new_moving/resized_logitech-fall14.mp4\n",
      "./../datasets/vids/splitted/new_moving/resized_logitech-fall15.mp4\n",
      "./../datasets/vids/testdata/moving/resized-test-fall1.mp4\n",
      "./../datasets/vids/testdata/moving/resized-test-fall2.mp4\n",
      "./../datasets/vids/testdata/moving/resized-test-fall3.mp4\n",
      "./../datasets/vids/testdata/moving/resized-test-fall4.mp4\n",
      "./../datasets/vids/testdata/moving/resized-test-fall5.mp4\n",
      "./../datasets/vids/testdata/moving/resized-test-fall6.mp4\n",
      "./../datasets/vids/testdata/moving/resized-test-fall7.mp4\n",
      "./../datasets/vids/testdata/moving/resized-test-fall8.mp4\n",
      "./../datasets/vids/testdata/moving/resized-test-fall9.mp4\n",
      "./../datasets/vids/testdata/moving/resized-test-fall10.mp4\n",
      "./../datasets/vids/testdata/moving/resized-test-fall11.mp4\n",
      "./../datasets/vids/testdata/moving/resized-test-fall12.mp4\n",
      "./../datasets/vids/testdata/moving/resized-test-fall13.mp4\n",
      "./../datasets/vids/testdata/moving/resized-test-fall14.mp4\n",
      "./../datasets/vids/testdata/moving/resized-test-fall15.mp4\n",
      "./../datasets/vids/splitted/new_still/resized_logitech-default1.mp4\n",
      "./../datasets/vids/splitted/new_still/resized_logitech-default2.mp4\n",
      "./../datasets/vids/splitted/new_still/resized_logitech-default3.mp4\n",
      "./../datasets/vids/splitted/new_still/resized_logitech-default4.mp4\n",
      "./../datasets/vids/splitted/new_still/resized_logitech-default5.mp4\n",
      "./../datasets/vids/splitted/new_still/resized_logitech-default6.mp4\n",
      "./../datasets/vids/splitted/new_still/resized_logitech-default7.mp4\n",
      "./../datasets/vids/splitted/new_still/resized_logitech-default8.mp4\n",
      "./../datasets/vids/splitted/new_still/resized_logitech-default9.mp4\n",
      "./../datasets/vids/splitted/new_still/resized_logitech-default10.mp4\n",
      "./../datasets/vids/splitted/new_still/resized_logitech-default11.mp4\n",
      "./../datasets/vids/splitted/new_still/resized_logitech-default12.mp4\n",
      "./../datasets/vids/splitted/new_still/resized_logitech-default13.mp4\n",
      "./../datasets/vids/splitted/new_still/resized_logitech-default14.mp4\n",
      "./../datasets/vids/splitted/new_still/resized_logitech-default15.mp4\n",
      "./../datasets/vids/splitted/new_still/resized_logitech-default16.mp4\n",
      "./../datasets/vids/splitted/new_still/resized_logitech-default17.mp4\n",
      "./../datasets/vids/splitted/new_still/resized_logitech-default19.mp4\n",
      "./../datasets/vids/splitted/new_still/resized_logitech-default20.mp4\n",
      "./../datasets/vids/splitted/new_still/resized_logitech-default21.mp4\n",
      "./../datasets/vids/splitted/new_still/resized_logitech-default22.mp4\n",
      "./../datasets/vids/splitted/new_still/resized_logitech-default23.mp4\n"
     ]
    }
   ],
   "source": [
    "result_8 = []\n",
    "labels = []\n",
    "for vid in falling_paths:\n",
    "    vid_frames, vid_diffs = process_single_vid(vid)\n",
    "    # reshape and combine inputs\n",
    "    combined = combine_frames_and_diffs(vid_frames, vid_diffs)\n",
    "    # convert datatype from float 32 to uint8\n",
    "    combined = combined.astype(np.uint8)\n",
    "    # print(combined)\n",
    "    # predict_single_vid\n",
    "    res = predict_single_vid(interpreter, combined)\n",
    "    # save results to array in sliding window fashion 8 at a time\n",
    "    for i in range(len(res) - 8 + 1):\n",
    "        window = res[i:i+8]\n",
    "        result_8.append(window)\n",
    "        # print(result_8)\n",
    "        labels.append(1)\n",
    "\n",
    "for vid in default_paths:\n",
    "    vid_frames, vid_diffs = process_single_vid(vid)\n",
    "    # reshape and combine inputs\n",
    "    combined = combine_frames_and_diffs(vid_frames, vid_diffs)\n",
    "    # convert datatype from float 32 to uint8\n",
    "    combined = combined.astype(np.uint8)\n",
    "    # predict_single_vid\n",
    "    res = predict_single_vid(interpreter, combined)\n",
    "    # save results to array in sliding window fashion 8 at a time\n",
    "    for i in range(len(res) - 8 + 1):\n",
    "        window = res[i:i+8]\n",
    "        result_8.append(window)\n",
    "        labels.append(0)"
   ]
  },
  {
   "cell_type": "code",
   "execution_count": 21,
   "metadata": {},
   "outputs": [],
   "source": [
    "\n",
    "result_8 = np.array(result_8)\n",
    "labels = np.array(labels)\n",
    "\n",
    "result_8 = result_8.reshape(len(result_8), 8)\n",
    "np.savetxt('./text/model2data.txt', result_8, fmt='%d', delimiter=' ')\n",
    "np.savetxt('./text/model2labels.txt', labels, fmt='%d', delimiter=' ')\n",
    "\n",
    "# Data Augmentation by adding noise\n",
    "\n",
    "# noisy_data = add_noise(result_8)\n",
    "# doubled_data = np.vstack((result_8, noisy_data))\n",
    "# augmented_labels = labels\n",
    "# doubled_labels = np.hstack((labels, augmented_labels))\n",
    "\n",
    "# print(doubled_data.shape)\n",
    "# print(doubled_labels.shape)\n",
    "\n",
    "# np.savetxt('./text/model2data_augmented.txt', doubled_data, fmt='%d', delimiter=' ')\n",
    "# np.savetxt('./text/model2labels_augmented.txt', doubled_labels, fmt='%d', delimiter=' ')"
   ]
  },
  {
   "cell_type": "code",
   "execution_count": 22,
   "metadata": {},
   "outputs": [
    {
     "name": "stdout",
     "output_type": "stream",
     "text": [
      "(2404, 8)\n"
     ]
    }
   ],
   "source": [
    "X = np.loadtxt('./text/model2data.txt', dtype=np.float32, delimiter=' ')\n",
    "# X = np.loadtxt('./text/model2data_augmented.txt', dtype=np.float32, delimiter=' ')\n",
    "X = X/255.0\n",
    "\n",
    "print(X.shape)\n",
    "# Y = np.loadtxt('./text/model2labels_augmented.txt', dtype=np.float32, delimiter=' ')\n",
    "Y = np.loadtxt('./text/model2labels.txt', dtype=np.float32, delimiter=' ')\n",
    "# print(Y.shape)\n",
    "\n",
    "# fall_X = np.loadtxt('./../K-optimized1-training/model1_output_fall.txt', dtype=np.uint8, delimiter=' ')\n",
    "# default_X = np.loadtxt('./../K-optimized1-training/model1_output_default.txt', dtype=np.uint8, delimiter=' ')\n",
    "# X = np.concatenate((fall_X, default_X))\n",
    "\n",
    "# fall_Y = np.ones(len(fall_X))\n",
    "# default_Y = np.zeros(len(default_X))\n",
    "\n",
    "# Y = np.concatenate((fall_Y, default_Y))\n",
    "# print(Y.shape)\n",
    "\n",
    "# Create the dataset\n",
    "dataset = tf.data.Dataset.from_tensor_slices((X, Y))\n",
    "dataset = dataset.batch(16).prefetch(buffer_size=tf.data.AUTOTUNE)\n",
    "\n"
   ]
  },
  {
   "cell_type": "markdown",
   "metadata": {},
   "source": [
    "#### Prepare testing data"
   ]
  },
  {
   "cell_type": "code",
   "execution_count": 23,
   "metadata": {},
   "outputs": [],
   "source": [
    "# test_result_8 = []\n",
    "# test_labels = []\n",
    "\n",
    "# for vid in test_falling_paths:\n",
    "#     test_vid_frames, test_vid_diffs = process_single_vid(vid)\n",
    "#     # reshape and combine inputs\n",
    "#     test_combined = combine_frames_and_diffs(test_vid_frames, test_vid_diffs)\n",
    "#     # convert datatype from float 32 to uint8\n",
    "#     test_combined = test_combined.astype(np.uint8)\n",
    "#     # print(combined)\n",
    "#     # predict_single_vid\n",
    "#     test_res = predict_single_vid(interpreter, test_combined)\n",
    "#     # save results to array in sliding window fashion 8 at a time\n",
    "#     for i in range(len(test_res) - 8 + 1):\n",
    "#         window = test_res[i:i+8]\n",
    "#         test_result_8.append(window)\n",
    "#         test_labels.append(1)\n",
    "\n",
    "# for vid in test_default_paths:\n",
    "#     test_vid_frames, test_vid_diffs = process_single_vid(vid)\n",
    "#     # reshape and combine inputs\n",
    "#     test_combined = combine_frames_and_diffs(test_vid_frames, test_vid_diffs)\n",
    "#     # convert datatype from float 32 to uint8\n",
    "#     test_combined = test_combined.astype(np.uint8)\n",
    "#     # predict_single_vid\n",
    "#     test_res = predict_single_vid(interpreter, test_combined)\n",
    "#     # save results to array in sliding window fashion 8 at a time\n",
    "#     for i in range(len(test_res) - 8 + 1):\n",
    "#         window = test_res[i:i+8]\n",
    "#         test_result_8.append(window)\n",
    "#         test_labels.append(0)\n",
    "\n",
    "# test_result_8 = np.array(test_result_8)\n",
    "# test_labels = np.array(test_labels)\n"
   ]
  },
  {
   "cell_type": "code",
   "execution_count": 24,
   "metadata": {},
   "outputs": [],
   "source": [
    "# print(test_result_8.shape)\n",
    "# print(test_labels.shape)\n",
    "# test_result_8 = test_result_8.reshape(len(test_result_8), 8)\n",
    "# np.savetxt('model2data_test.txt', test_result_8, fmt='%d', delimiter=' ')\n",
    "# np.savetxt('model2labels_test.txt', test_labels, fmt='%d', delimiter=' ')\n",
    "# print(test_result_8.shape)"
   ]
  },
  {
   "cell_type": "code",
   "execution_count": 25,
   "metadata": {},
   "outputs": [],
   "source": [
    "# test_X = np.loadtxt('model2data_test.txt', dtype=np.float32, delimiter=' ')\n",
    "# test_X = test_X/255.0\n",
    "# print(test_X.shape)\n",
    "# test_Y = np.loadtxt('model2labels_test.txt', dtype=np.float32, delimiter=' ')\n",
    "# print(test_Y.shape)\n",
    "\n",
    "# test_fall_X = np.loadtxt('./../K-optimized1-training/model1_output_fall_test.txt', dtype=np.uint8, delimiter=' ')\n",
    "# test_default_X = np.loadtxt('./../K-optimized1-training/model1_output_default_test.txt', dtype=np.uint8, delimiter=' ')\n",
    "# test_X = np.concatenate((test_fall_X, test_default_X))\n",
    "\n",
    "# test_fall_Y = np.ones(len(test_fall_X))\n",
    "# test_default_Y = np.zeros(len(test_default_X))\n",
    "\n",
    "# test_Y = np.concatenate((test_fall_Y, test_default_Y))\n",
    "# print(test_Y.shape)\n",
    "\n",
    "# Create the dataset\n",
    "# test_dataset = tf.data.Dataset.from_tensor_slices((test_X, test_Y))\n",
    "# test_dataset = test_dataset.batch(16).prefetch(buffer_size=tf.data.AUTOTUNE)\n",
    "# test_dataset = test_dataset.shuffle(buffer_size=len(test_combined_input))\n",
    "# Split the dataset into training and validation\n",
    "# test = test_dataset.take(int(0.8 * len(test_dataset)))\n",
    "train_dataset = dataset.take(int(0.85 * len(dataset)))\n",
    "val_dataset = dataset.skip(int(0.85 * len(dataset)))"
   ]
  },
  {
   "cell_type": "markdown",
   "metadata": {},
   "source": [
    "#### Create model 2"
   ]
  },
  {
   "cell_type": "code",
   "execution_count": 31,
   "metadata": {},
   "outputs": [
    {
     "name": "stdout",
     "output_type": "stream",
     "text": [
      "Model: \"model_2\"\n",
      "_________________________________________________________________\n",
      " Layer (type)                Output Shape              Param #   \n",
      "=================================================================\n",
      " input_layer (InputLayer)    [(None, 8)]               0         \n",
      "                                                                 \n",
      " dense_7 (Dense)             (None, 64)                576       \n",
      "                                                                 \n",
      " dropout_2 (Dropout)         (None, 64)                0         \n",
      "                                                                 \n",
      " dense_8 (Dense)             (None, 32)                2080      \n",
      "                                                                 \n",
      " dropout_3 (Dropout)         (None, 32)                0         \n",
      "                                                                 \n",
      " dense_9 (Dense)             (None, 16)                528       \n",
      "                                                                 \n",
      " dense_10 (Dense)            (None, 1)                 17        \n",
      "                                                                 \n",
      "=================================================================\n",
      "Total params: 3,201\n",
      "Trainable params: 3,201\n",
      "Non-trainable params: 0\n",
      "_________________________________________________________________\n"
     ]
    }
   ],
   "source": [
    "def create_model_2():\n",
    "    input_shape = (8, )  # Input shape for the sequence of 8 uint8 values\n",
    "    \n",
    "    # Define the model\n",
    "    input_layer = Input(shape=input_shape, name='input_layer')\n",
    "    \n",
    "    # Several dense layers to extract features and relationships\n",
    "    x = Dense(64, activation='relu')(input_layer)\n",
    "    x = Dropout(0.5)(x)\n",
    "    x = Dense(32, activation='relu')(x)\n",
    "    x = Dropout(0.5)(x)\n",
    "    x = Dense(16, activation='relu')(x)\n",
    "    \n",
    "    # Output layer\n",
    "    output = Dense(1, activation='sigmoid')(x)\n",
    "\n",
    "    # Create and compile the model\n",
    "    model = Model(inputs=input_layer, outputs=output)\n",
    "    model.compile(optimizer='adam', loss='binary_crossentropy', metrics=['accuracy'])\n",
    "    \n",
    "    return model\n",
    "\n",
    "model_2 = create_model_2()\n",
    "model_2.summary()"
   ]
  },
  {
   "cell_type": "markdown",
   "metadata": {},
   "source": [
    "#### Prepare Tensorflow dataset"
   ]
  },
  {
   "cell_type": "code",
   "execution_count": 32,
   "metadata": {},
   "outputs": [
    {
     "name": "stdout",
     "output_type": "stream",
     "text": [
      "Epoch 1/7\n"
     ]
    },
    {
     "name": "stdout",
     "output_type": "stream",
     "text": [
      "128/128 [==============================] - 1s 2ms/step - loss: 0.7195 - accuracy: 0.5181 - val_loss: 0.6833 - val_accuracy: 0.9775\n",
      "Epoch 2/7\n",
      "128/128 [==============================] - 0s 2ms/step - loss: 0.6633 - accuracy: 0.5996 - val_loss: 0.6783 - val_accuracy: 0.9775\n",
      "Epoch 3/7\n",
      "128/128 [==============================] - 0s 2ms/step - loss: 0.6476 - accuracy: 0.6323 - val_loss: 0.6476 - val_accuracy: 0.9775\n",
      "Epoch 4/7\n",
      "128/128 [==============================] - 0s 2ms/step - loss: 0.6087 - accuracy: 0.7134 - val_loss: 0.6002 - val_accuracy: 0.9775\n",
      "Epoch 5/7\n",
      "128/128 [==============================] - 1s 7ms/step - loss: 0.5956 - accuracy: 0.7012 - val_loss: 0.5827 - val_accuracy: 0.9775\n",
      "Epoch 6/7\n",
      "128/128 [==============================] - 1s 9ms/step - loss: 0.6065 - accuracy: 0.6562 - val_loss: 0.5470 - val_accuracy: 0.9775\n",
      "Epoch 7/7\n",
      "128/128 [==============================] - 1s 9ms/step - loss: 0.5846 - accuracy: 0.7114 - val_loss: 0.5396 - val_accuracy: 0.9775\n"
     ]
    },
    {
     "data": {
      "text/plain": [
       "<tensorflow.python.training.tracking.util.CheckpointLoadStatus at 0x7f99587bcf10>"
      ]
     },
     "execution_count": 32,
     "metadata": {},
     "output_type": "execute_result"
    }
   ],
   "source": [
    "model_2.fit(train_dataset, validation_data=val_dataset, epochs=8, callbacks=[model_checkpoint_callback])\n",
    "model_2.load_weights(checkpoint_filepath)"
   ]
  },
  {
   "cell_type": "code",
   "execution_count": 28,
   "metadata": {},
   "outputs": [],
   "source": [
    "# model_2.evaluate(test)"
   ]
  },
  {
   "cell_type": "code",
   "execution_count": 29,
   "metadata": {},
   "outputs": [
    {
     "name": "stdout",
     "output_type": "stream",
     "text": [
      "float32\n",
      "INFO:tensorflow:Assets written to: /tmp/tmpv9_odqjy/assets\n"
     ]
    },
    {
     "name": "stderr",
     "output_type": "stream",
     "text": [
      "INFO:tensorflow:Assets written to: /tmp/tmpv9_odqjy/assets\n",
      "/home/sylvia/.local/lib/python3.8/site-packages/tensorflow/lite/python/convert.py:746: UserWarning: Statistics for quantized inputs were expected, but not specified; continuing anyway.\n",
      "  warnings.warn(\"Statistics for quantized inputs were expected, but not \"\n",
      "2023-08-17 11:17:27.634949: W tensorflow/compiler/mlir/lite/python/tf_tfl_flatbuffer_helpers.cc:357] Ignored output_format.\n",
      "2023-08-17 11:17:27.634967: W tensorflow/compiler/mlir/lite/python/tf_tfl_flatbuffer_helpers.cc:360] Ignored drop_control_dependency.\n",
      "2023-08-17 11:17:27.635107: I tensorflow/cc/saved_model/reader.cc:43] Reading SavedModel from: /tmp/tmpv9_odqjy\n",
      "2023-08-17 11:17:27.636174: I tensorflow/cc/saved_model/reader.cc:78] Reading meta graph with tags { serve }\n",
      "2023-08-17 11:17:27.636185: I tensorflow/cc/saved_model/reader.cc:119] Reading SavedModel debug info (if present) from: /tmp/tmpv9_odqjy\n",
      "2023-08-17 11:17:27.639440: I tensorflow/cc/saved_model/loader.cc:228] Restoring SavedModel bundle.\n",
      "2023-08-17 11:17:27.671794: I tensorflow/cc/saved_model/loader.cc:212] Running initialization op on SavedModel bundle at path: /tmp/tmpv9_odqjy\n",
      "2023-08-17 11:17:27.681866: I tensorflow/cc/saved_model/loader.cc:301] SavedModel load for tags { serve }; Status: success: OK. Took 46761 microseconds.\n",
      "fully_quantize: 0, inference_type: 6, input_inference_type: 3, output_inference_type: 3\n"
     ]
    }
   ],
   "source": [
    "print(X.dtype)\n",
    "def representative_dataset_2():\n",
    "    for i in range(len(X)):\n",
    "        sample = X[i:i+1].astype(np.float32)  # Extract and cast in one line\n",
    "        yield [sample]\n",
    "\n",
    "converter = tf.lite.TFLiteConverter.from_keras_model(model_2)\n",
    "converter.optimizations = [tf.lite.Optimize.DEFAULT]\n",
    "converter.representative_dataset = representative_dataset_2\n",
    "converter.target_spec.supported_ops = [tf.lite.OpsSet.TFLITE_BUILTINS_INT8]\n",
    "converter.inference_input_type = tf.uint8\n",
    "converter.inference_output_type = tf.uint8\n",
    "\n",
    "tflite_model = converter.convert()\n",
    "\n",
    "# Save the model to disk\n",
    "with open('./models/m2_quant_v8.tflite', 'wb') as f: f.write(tflite_model)"
   ]
  },
  {
   "cell_type": "markdown",
   "metadata": {},
   "source": [
    "#### Checking input / output of model"
   ]
  },
  {
   "cell_type": "code",
   "execution_count": 30,
   "metadata": {},
   "outputs": [
    {
     "name": "stdout",
     "output_type": "stream",
     "text": [
      "Input shape: [1 8]\n",
      "Input type: <class 'numpy.uint8'>\n",
      "Output shape: [1 1]\n",
      "Output type: <class 'numpy.uint8'>\n"
     ]
    }
   ],
   "source": [
    "# Load TFLite model and allocate tensors.\n",
    "interpreter_2 = tf.lite.Interpreter(model_path=\"./models/m2_quant_v8.tflite\")\n",
    "interpreter_2.allocate_tensors()\n",
    "\n",
    "input_details = interpreter_2.get_input_details()\n",
    "print('Input shape:', input_details[0]['shape'])\n",
    "print('Input type:', input_details[0]['dtype'])\n",
    "output_details = interpreter_2.get_output_details()\n",
    "print('Output shape:', output_details[0]['shape'])\n",
    "print('Output type:', output_details[0]['dtype'])"
   ]
  }
 ],
 "metadata": {
  "kernelspec": {
   "display_name": "Python 3",
   "language": "python",
   "name": "python3"
  },
  "language_info": {
   "codemirror_mode": {
    "name": "ipython",
    "version": 3
   },
   "file_extension": ".py",
   "mimetype": "text/x-python",
   "name": "python",
   "nbconvert_exporter": "python",
   "pygments_lexer": "ipython3",
   "version": "3.8.10"
  },
  "orig_nbformat": 4
 },
 "nbformat": 4,
 "nbformat_minor": 2
}
