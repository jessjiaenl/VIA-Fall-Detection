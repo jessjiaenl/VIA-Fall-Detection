{
 "cells": [
  {
   "cell_type": "markdown",
   "metadata": {},
   "source": [
    "### All needed imports"
   ]
  },
  {
   "cell_type": "code",
   "execution_count": 1,
   "metadata": {},
   "outputs": [],
   "source": [
    "import os\n",
    "import cv2\n",
    "import numpy as np\n",
    "import tensorflow as tf\n",
    "assert tf.__version__.startswith('2')\n",
    "from tensorflow.keras import layers\n",
    "from tensorflow.keras.models import Model\n",
    "from tensorflow.keras.layers import Input, Conv2D, MaxPooling2D, Flatten, Dense\n"
   ]
  },
  {
   "cell_type": "markdown",
   "metadata": {},
   "source": [
    "### Limit GPU Usage"
   ]
  },
  {
   "cell_type": "code",
   "execution_count": 2,
   "metadata": {},
   "outputs": [
    {
     "name": "stdout",
     "output_type": "stream",
     "text": [
      "1 Physical GPUs, 1 Logical GPUs\n"
     ]
    },
    {
     "name": "stderr",
     "output_type": "stream",
     "text": [
      "2023-08-07 14:12:48.293767: I tensorflow/stream_executor/cuda/cuda_gpu_executor.cc:936] successful NUMA node read from SysFS had negative value (-1), but there must be at least one NUMA node, so returning NUMA node zero\n",
      "2023-08-07 14:12:48.341568: I tensorflow/stream_executor/cuda/cuda_gpu_executor.cc:936] successful NUMA node read from SysFS had negative value (-1), but there must be at least one NUMA node, so returning NUMA node zero\n",
      "2023-08-07 14:12:48.341725: I tensorflow/stream_executor/cuda/cuda_gpu_executor.cc:936] successful NUMA node read from SysFS had negative value (-1), but there must be at least one NUMA node, so returning NUMA node zero\n",
      "2023-08-07 14:12:48.342241: I tensorflow/core/platform/cpu_feature_guard.cc:151] This TensorFlow binary is optimized with oneAPI Deep Neural Network Library (oneDNN) to use the following CPU instructions in performance-critical operations:  AVX2 FMA\n",
      "To enable them in other operations, rebuild TensorFlow with the appropriate compiler flags.\n",
      "2023-08-07 14:12:48.342478: I tensorflow/stream_executor/cuda/cuda_gpu_executor.cc:936] successful NUMA node read from SysFS had negative value (-1), but there must be at least one NUMA node, so returning NUMA node zero\n",
      "2023-08-07 14:12:48.342590: I tensorflow/stream_executor/cuda/cuda_gpu_executor.cc:936] successful NUMA node read from SysFS had negative value (-1), but there must be at least one NUMA node, so returning NUMA node zero\n",
      "2023-08-07 14:12:48.342685: I tensorflow/stream_executor/cuda/cuda_gpu_executor.cc:936] successful NUMA node read from SysFS had negative value (-1), but there must be at least one NUMA node, so returning NUMA node zero\n",
      "2023-08-07 14:12:49.727997: I tensorflow/stream_executor/cuda/cuda_gpu_executor.cc:936] successful NUMA node read from SysFS had negative value (-1), but there must be at least one NUMA node, so returning NUMA node zero\n",
      "2023-08-07 14:12:49.728142: I tensorflow/stream_executor/cuda/cuda_gpu_executor.cc:936] successful NUMA node read from SysFS had negative value (-1), but there must be at least one NUMA node, so returning NUMA node zero\n",
      "2023-08-07 14:12:49.728237: I tensorflow/stream_executor/cuda/cuda_gpu_executor.cc:936] successful NUMA node read from SysFS had negative value (-1), but there must be at least one NUMA node, so returning NUMA node zero\n",
      "2023-08-07 14:12:49.728319: I tensorflow/core/common_runtime/gpu/gpu_device.cc:1525] Created device /job:localhost/replica:0/task:0/device:GPU:0 with 2048 MB memory:  -> device: 0, name: NVIDIA GeForce RTX 2080 SUPER, pci bus id: 0000:03:00.0, compute capability: 7.5\n"
     ]
    }
   ],
   "source": [
    "gpus = tf.config.list_physical_devices('GPU')\n",
    "if gpus:\n",
    "    # Restrict TensorFlow to only allocate 2GB of memory on the first GPU\n",
    "    try:\n",
    "        tf.config.set_logical_device_configuration(gpus[0], [tf.config.LogicalDeviceConfiguration(memory_limit=2048)])\n",
    "        logical_gpus = tf.config.list_logical_devices('GPU')\n",
    "        print(len(gpus), \"Physical GPUs,\", len(logical_gpus), \"Logical GPUs\")\n",
    "    except RuntimeError as e:\n",
    "        # Virtual devices must be set before GPUs have been initialized\n",
    "        print(e)"
   ]
  },
  {
   "cell_type": "markdown",
   "metadata": {},
   "source": [
    "### Preprocessing Data for Model 1"
   ]
  },
  {
   "cell_type": "markdown",
   "metadata": {},
   "source": [
    "#### Video Paths"
   ]
  },
  {
   "cell_type": "code",
   "execution_count": 3,
   "metadata": {},
   "outputs": [],
   "source": [
    "falling_paths = [\n",
    "                 \"./../datasets/vids/splitted/new_moving/resized_logitech-fall2.mp4\",\n",
    "                 \"./../datasets/vids/splitted/new_moving/resized_logitech-fall3.mp4\",\n",
    "                 \"./../datasets/vids/splitted/new_moving/resized_logitech-fall4.mp4\",\n",
    "                 \"./../datasets/vids/splitted/new_moving/resized_logitech-fall1.mp4\",\n",
    "                 \"./../datasets/vids/splitted/new_moving/resized_logitech-fall5.mp4\",\n",
    "                 \"./../datasets/vids/splitted/new_moving/resized_logitech-fall6.mp4\",\n",
    "                 \"./../datasets/vids/splitted/new_moving/resized_logitech-fall7.mp4\",\n",
    "                 \"./../datasets/vids/splitted/new_moving/resized_logitech-fall8.mp4\",\n",
    "                 \"./../datasets/vids/splitted/new_moving/resized_logitech-fall9.mp4\",\n",
    "                 \"./../datasets/vids/splitted/new_moving/resized_logitech-fall10.mp4\",\n",
    "                 \"./../datasets/vids/splitted/new_moving/resized_logitech-fall11.mp4\",\n",
    "                 \"./../datasets/vids/splitted/new_moving/resized_logitech-fall12.mp4\",\n",
    "                 \"./../datasets/vids/splitted/new_moving/resized_logitech-fall13.mp4\",\n",
    "                 \"./../datasets/vids/splitted/new_moving/resized_logitech-fall14.mp4\",\n",
    "                 \"./../datasets/vids/splitted/new_moving/resized_logitech-fall15.mp4\"\n",
    "                 ]\n",
    "\n",
    "default_paths = [\n",
    "                 \"./../datasets/vids/splitted/new_still/resized_logitech-default1.mp4\",\n",
    "                 \"./../datasets/vids/splitted/new_still/resized_logitech-default2.mp4\",\n",
    "                 \"./../datasets/vids/splitted/new_still/resized_logitech-default3.mp4\",\n",
    "                 \"./../datasets/vids/splitted/new_still/resized_logitech-default4.mp4\",\n",
    "                 \"./../datasets/vids/splitted/new_still/resized_logitech-default5.mp4\",\n",
    "                 \"./../datasets/vids/splitted/new_still/resized_logitech-default6.mp4\",\n",
    "                 \"./../datasets/vids/splitted/new_still/resized_logitech-default7.mp4\",\n",
    "                 \"./../datasets/vids/splitted/new_still/resized_logitech-default8.mp4\",\n",
    "                 \"./../datasets/vids/splitted/new_still/resized_logitech-default9.mp4\",\n",
    "                 \"./../datasets/vids/splitted/new_still/resized_logitech-default10.mp4\",\n",
    "                 \"./../datasets/vids/splitted/new_still/resized_logitech-default11.mp4\",\n",
    "                 \"./../datasets/vids/splitted/new_still/resized_logitech-default12.mp4\",\n",
    "                 \"./../datasets/vids/splitted/new_still/resized_logitech-default13.mp4\",\n",
    "                 \"./../datasets/vids/splitted/new_still/resized_logitech-default14.mp4\",\n",
    "                 \"./../datasets/vids/splitted/new_still/resized_logitech-default15.mp4\"\n",
    "                 ]\n",
    "\n",
    "test_falling_paths = [\n",
    "                \"./../datasets/vids/testdata/moving/resized-test-fall1.mp4\",\n",
    "                \"./../datasets/vids/testdata/moving/resized-test-fall2.mp4\",\n",
    "                \"./../datasets/vids/testdata/moving/resized-test-fall3.mp4\",\n",
    "                \"./../datasets/vids/testdata/moving/resized-test-fall4.mp4\",\n",
    "                \"./../datasets/vids/testdata/moving/resized-test-fall5.mp4\",\n",
    "                \"./../datasets/vids/testdata/moving/resized-test-fall6.mp4\",\n",
    "                \"./../datasets/vids/testdata/moving/resized-test-fall7.mp4\",\n",
    "                \"./../datasets/vids/testdata/moving/resized-test-fall8.mp4\",\n",
    "                \"./../datasets/vids/testdata/moving/resized-test-fall9.mp4\",\n",
    "                \"./../datasets/vids/testdata/moving/resized-test-fall10.mp4\",\n",
    "                \"./../datasets/vids/testdata/moving/resized-test-fall11.mp4\",\n",
    "                \"./../datasets/vids/testdata/moving/resized-test-fall12.mp4\",\n",
    "                \"./../datasets/vids/testdata/moving/resized-test-fall13.mp4\",\n",
    "                \"./../datasets/vids/testdata/moving/resized-test-fall14.mp4\",\n",
    "                \"./../datasets/vids/testdata/moving/resized-test-fall15.mp4\"\n",
    "]\n",
    "\n",
    "test_default_paths = [\n",
    "                \"./../datasets/vids/testdata/still/resized-test-default1.mp4\",\n",
    "                \"./../datasets/vids/testdata/still/resized-test-default2.mp4\",\n",
    "                \"./../datasets/vids/testdata/still/resized-test-default3.mp4\",\n",
    "                \"./../datasets/vids/testdata/still/resized-test-default4.mp4\",\n",
    "                \"./../datasets/vids/testdata/still/resized-test-default5.mp4\",\n",
    "                \"./../datasets/vids/testdata/still/resized-test-default6.mp4\",\n",
    "                \"./../datasets/vids/testdata/still/resized-test-default7.mp4\",\n",
    "                \"./../datasets/vids/testdata/still/resized-test-default8.mp4\",\n",
    "                \"./../datasets/vids/testdata/still/resized-test-default9.mp4\",\n",
    "                \"./../datasets/vids/testdata/still/resized-test-default10.mp4\",\n",
    "                \"./../datasets/vids/testdata/still/resized-test-default11.mp4\",\n",
    "                \"./../datasets/vids/testdata/still/resized-test-default12.mp4\",\n",
    "                \"./../datasets/vids/testdata/still/resized-test-default13.mp4\",\n",
    "                \"./../datasets/vids/testdata/still/resized-test-default14.mp4\",\n",
    "                \"./../datasets/vids/testdata/still/resized-test-default15.mp4\"\n",
    "]"
   ]
  },
  {
   "cell_type": "markdown",
   "metadata": {},
   "source": [
    "#### Processing code, returns frame (num_frames, 224,224,3) and frame_diffs (num_frames, 224,224)"
   ]
  },
  {
   "cell_type": "code",
   "execution_count": 4,
   "metadata": {},
   "outputs": [],
   "source": [
    "# Code to apply the same random transformation "
   ]
  },
  {
   "cell_type": "code",
   "execution_count": 5,
   "metadata": {},
   "outputs": [],
   "source": [
    "def process_videos(video_paths, label):\n",
    "    frames = []\n",
    "    frame_diffs = []\n",
    "    labels = []\n",
    "    \n",
    "    for path in video_paths:\n",
    "        video_cap = cv2.VideoCapture(path)\n",
    "        \n",
    "        prev_gray_frame = None\n",
    "        \n",
    "        while video_cap.isOpened():\n",
    "            ret, frame = video_cap.read()\n",
    "            \n",
    "            if not ret:\n",
    "                break\n",
    "            \n",
    "            # Resize and convert frame to RGB\n",
    "            frame_resized = cv2.resize(frame, (224, 224))\n",
    "            frame_rgb = cv2.cvtColor(frame_resized, cv2.COLOR_BGR2RGB)\n",
    "            \n",
    "            # Convert frame to grayscale\n",
    "            gray_frame = cv2.cvtColor(frame_resized, cv2.COLOR_BGR2GRAY)\n",
    "\n",
    "            if prev_gray_frame is None:\n",
    "                frame_diff = np.zeros_like(gray_frame, dtype=np.float32)\n",
    "            else:\n",
    "                frame_diff = cv2.absdiff(prev_gray_frame, gray_frame)\n",
    "                # frame_diff = cv2.absdiff(prev_gray_frame, gray_frame) / 255.0\n",
    "            \n",
    "            prev_gray_frame = gray_frame\n",
    "            \n",
    "            frames.append(frame_rgb)\n",
    "            frame_diffs.append(frame_diff)\n",
    "            labels.append(label)  # 0 for still, 1 for moving\n",
    "            \n",
    "            \n",
    "        video_cap.release()\n",
    "\n",
    "    return np.array(frames), np.array(frame_diffs), np.array(labels)"
   ]
  },
  {
   "cell_type": "code",
   "execution_count": 6,
   "metadata": {},
   "outputs": [],
   "source": [
    "# Reshaping to 224 x 224 x 4 for the convolutional model\n",
    "def combine_frames_and_diffs(frames, frame_diffs):\n",
    "    # frame_diffs dimension\n",
    "    # print(frame_diffs.shape)\n",
    "    frame_diffs_expanded = np.expand_dims(frame_diffs, axis=-1) # Add an extra dimension\n",
    "    # frame_diffs_expanded dimension\n",
    "    # print(frame_diffs_expanded.shape)\n",
    "    combined_input = np.concatenate([frames, frame_diffs_expanded], axis=-1) # Concatenate along the last axis\n",
    "    # combined_input dimension\n",
    "    # print(combined_input.shape)\n",
    "    \n",
    "    # Visualize the difference\n",
    "    # cv2.imwrite('img_still.png', combined_input[10])\n",
    "    return combined_input"
   ]
  },
  {
   "cell_type": "code",
   "execution_count": 7,
   "metadata": {},
   "outputs": [
    {
     "name": "stdout",
     "output_type": "stream",
     "text": [
      "(1015, 224, 224, 3)\n",
      "(1015, 224, 224, 4)\n"
     ]
    }
   ],
   "source": [
    "# Generate the frames and frame_diffs array for still\n",
    "still_frames, still_diff, still_labels = process_videos(default_paths, 0)\n",
    "test_still_frames, test_still_diff, test_still_labels = process_videos(test_default_paths, 0)\n",
    "# print(test_still_frames.shape)\n",
    "falling_frames, falling_diff, falling_labels = process_videos(falling_paths, 1)\n",
    "test_falling_frames, test_falling_diff, test_falling_labels = process_videos(test_falling_paths, 1)\n",
    "# print(test_falling_frames.shape)\n",
    "\n",
    "# Combine them\n",
    "concatenate_frames = np.concatenate([still_frames, falling_frames], axis = 0)\n",
    "# print(concatenate_frames.shape)\n",
    "concatenate_diff =  np.concatenate([still_diff, falling_diff], axis = 0)\n",
    "# print(concatenate_diff.shape)\n",
    "concatenate_labels =  np.concatenate([still_labels, falling_labels], axis = 0)\n",
    "# print(concatenate_labels.shape)\n",
    "\n",
    "# Create 224x224x4 shape for the model\n",
    "combined_input = combine_frames_and_diffs(concatenate_frames, concatenate_diff)\n",
    "# print(combined_input)\n",
    "\n",
    "# Combine them\n",
    "test_concatenate_frames = np.concatenate([test_still_frames, test_falling_frames], axis = 0)\n",
    "test_concatenate_diff =  np.concatenate([test_still_diff, test_falling_diff], axis = 0)\n",
    "test_concatenate_labels =  np.concatenate([test_still_labels, test_falling_labels], axis = 0)\n",
    "print(test_concatenate_frames.shape)\n",
    "# Create 224x224x4 shape for the model\n",
    "test_combined_input = combine_frames_and_diffs(test_concatenate_frames, test_concatenate_diff)\n",
    "print(test_combined_input.shape)\n",
    "\n",
    "# Shuffle the data if needed\n",
    "indices = np.arange(combined_input.shape[0])\n",
    "np.random.shuffle(indices)\n",
    "combined_input = combined_input[indices]\n",
    "concatenate_labels = concatenate_labels[indices]\n",
    "\n",
    "#data augmentation \n",
    "data_augmentation = tf.keras.Sequential([\n",
    "    # layers.RandomFlip(\"horizontal_and_vertical\"),\n",
    "    layers.RandomRotation(0.2),\n",
    "    layers.RandomContrast(factor=0.2)\n",
    "\n",
    "])\n"
   ]
  },
  {
   "cell_type": "code",
   "execution_count": 8,
   "metadata": {},
   "outputs": [
    {
     "name": "stderr",
     "output_type": "stream",
     "text": [
      "2023-08-07 14:12:51.726759: W tensorflow/core/framework/cpu_allocator_impl.cc:82] Allocation of 867041280 exceeds 10% of free system memory.\n",
      "2023-08-07 14:12:51.988228: W tensorflow/core/framework/cpu_allocator_impl.cc:82] Allocation of 814858240 exceeds 10% of free system memory.\n"
     ]
    }
   ],
   "source": [
    "# Create a TensorFlow dataset\n",
    "with tf.device('/cpu:0'):\n",
    "    dataset = tf.data.Dataset.from_tensor_slices((combined_input, concatenate_labels))\n",
    "    dataset = dataset.batch(16).prefetch(buffer_size=tf.data.AUTOTUNE)\n",
    "    test_dataset = tf.data.Dataset.from_tensor_slices((test_combined_input, test_concatenate_labels))\n",
    "    test_dataset = test_dataset.batch(16).prefetch(buffer_size=tf.data.AUTOTUNE)\n",
    "\n",
    "# Split the dataset into training and validation\n",
    "train_dataset = dataset.take(int(0.8 * len(dataset)))\n",
    "val_dataset = dataset.skip(int(0.8 * len(dataset)))\n",
    "\n",
    "# dataset = tf.data.Dataset.from_tensor_slices((combined_input, concatenate_labels))\n",
    "# Batch and prefetch if needed\n",
    "# dataset = dataset.batch(16).prefetch(buffer_size=tf.data.AUTOTUNE)"
   ]
  },
  {
   "cell_type": "markdown",
   "metadata": {},
   "source": [
    "#### Create the model"
   ]
  },
  {
   "cell_type": "code",
   "execution_count": 9,
   "metadata": {},
   "outputs": [
    {
     "name": "stdout",
     "output_type": "stream",
     "text": [
      "Model: \"model\"\n",
      "_________________________________________________________________\n",
      " Layer (type)                Output Shape              Param #   \n",
      "=================================================================\n",
      " combined_input (InputLayer)  [(None, 224, 224, 4)]    0         \n",
      "                                                                 \n",
      " sequential (Sequential)     (None, 224, 224, 4)       0         \n",
      "                                                                 \n",
      " conv2d (Conv2D)             (None, 222, 222, 32)      1184      \n",
      "                                                                 \n",
      " max_pooling2d (MaxPooling2D  (None, 111, 111, 32)     0         \n",
      " )                                                               \n",
      "                                                                 \n",
      " conv2d_1 (Conv2D)           (None, 109, 109, 64)      18496     \n",
      "                                                                 \n",
      " max_pooling2d_1 (MaxPooling  (None, 54, 54, 64)       0         \n",
      " 2D)                                                             \n",
      "                                                                 \n",
      " conv2d_2 (Conv2D)           (None, 52, 52, 128)       73856     \n",
      "                                                                 \n",
      " max_pooling2d_2 (MaxPooling  (None, 26, 26, 128)      0         \n",
      " 2D)                                                             \n",
      "                                                                 \n",
      " flatten (Flatten)           (None, 86528)             0         \n",
      "                                                                 \n",
      " dense (Dense)               (None, 128)               11075712  \n",
      "                                                                 \n",
      " dense_1 (Dense)             (None, 64)                8256      \n",
      "                                                                 \n",
      " dense_2 (Dense)             (None, 1)                 65        \n",
      "                                                                 \n",
      "=================================================================\n",
      "Total params: 11,177,569\n",
      "Trainable params: 11,177,569\n",
      "Non-trainable params: 0\n",
      "_________________________________________________________________\n"
     ]
    }
   ],
   "source": [
    "def create_model():\n",
    "    combined_input = Input(shape=(224, 224, 4), name='combined_input')\n",
    "\n",
    "    # Apply data augmentation here\n",
    "    x = data_augmentation(combined_input)\n",
    "\n",
    "    # Convolutional layers for image processing\n",
    "    # Convolutional layers are useful for learning spatial hierarchies and detecting features \n",
    "    x = Conv2D(32, (3, 3), activation='relu')(x) #  Convolutional layers extract spatial features from the image\n",
    "    x = MaxPooling2D((2, 2))(x) #  Max-pooling layers reduce the size of the feature maps.\n",
    "    x = Conv2D(64, (3, 3), activation='relu')(x)\n",
    "    x = MaxPooling2D((2, 2))(x)\n",
    "    x = Conv2D(128, (3, 3), activation='relu')(x)\n",
    "    x = MaxPooling2D((2, 2))(x)\n",
    "    \n",
    "    # Fully connected layers: These layers learn to make decisions based on the features extracted by the convolutional layers\n",
    "    x = Flatten()(x) # This line flattens the 2D feature maps into a 1D vector\n",
    "    x = Dense(128, activation='relu')(x)\n",
    "    x = Dense(64, activation='relu')(x)\n",
    "    output = Dense(1, activation='sigmoid')(x)  # Single output with sigmoid activation\n",
    "\n",
    "    model = Model(inputs=combined_input, outputs=output)\n",
    "    model.compile(optimizer='adam', loss='binary_crossentropy', metrics=['accuracy'])  # Binary cross-entropy loss\n",
    "    \n",
    "    return model\n",
    "    \n",
    "model = create_model()\n",
    "model.summary()"
   ]
  },
  {
   "cell_type": "code",
   "execution_count": 10,
   "metadata": {},
   "outputs": [
    {
     "name": "stderr",
     "output_type": "stream",
     "text": [
      "2023-08-07 14:12:52.389277: W tensorflow/core/framework/cpu_allocator_impl.cc:82] Allocation of 867041280 exceeds 10% of free system memory.\n",
      "2023-08-07 14:12:52.802326: W tensorflow/core/framework/cpu_allocator_impl.cc:82] Allocation of 867041280 exceeds 10% of free system memory.\n"
     ]
    },
    {
     "name": "stdout",
     "output_type": "stream",
     "text": [
      "Epoch 1/5\n"
     ]
    },
    {
     "name": "stderr",
     "output_type": "stream",
     "text": [
      "2023-08-07 14:12:54.182483: I tensorflow/stream_executor/cuda/cuda_dnn.cc:368] Loaded cuDNN version 8600\n",
      "2023-08-07 14:12:54.611678: W tensorflow/stream_executor/gpu/asm_compiler.cc:111] *** WARNING *** You are using ptxas 10.1.243, which is older than 11.1. ptxas before 11.1 is known to miscompile XLA code, leading to incorrect results or invalid-address errors.\n",
      "\n",
      "You may not need to update to CUDA 11.1; cherry-picking the ptxas binary is often sufficient.\n"
     ]
    },
    {
     "name": "stdout",
     "output_type": "stream",
     "text": [
      "53/54 [============================>.] - ETA: 0s - loss: 10.5299 - accuracy: 0.7783"
     ]
    },
    {
     "name": "stderr",
     "output_type": "stream",
     "text": [
      "2023-08-07 14:12:56.162237: W tensorflow/core/framework/cpu_allocator_impl.cc:82] Allocation of 867041280 exceeds 10% of free system memory.\n"
     ]
    },
    {
     "name": "stdout",
     "output_type": "stream",
     "text": [
      "54/54 [==============================] - 4s 45ms/step - loss: 10.3406 - accuracy: 0.7801 - val_loss: 0.2650 - val_accuracy: 0.9028\n",
      "Epoch 2/5\n",
      "54/54 [==============================] - 2s 44ms/step - loss: 0.2897 - accuracy: 0.8889 - val_loss: 0.3662 - val_accuracy: 0.7870\n",
      "Epoch 3/5\n",
      "54/54 [==============================] - 2s 44ms/step - loss: 0.2750 - accuracy: 0.9097 - val_loss: 0.3036 - val_accuracy: 0.8611\n",
      "Epoch 4/5\n",
      "54/54 [==============================] - 2s 45ms/step - loss: 0.1931 - accuracy: 0.9271 - val_loss: 0.2491 - val_accuracy: 0.8889\n",
      "Epoch 5/5\n",
      "54/54 [==============================] - 2s 42ms/step - loss: 0.2573 - accuracy: 0.9213 - val_loss: 0.2285 - val_accuracy: 0.8981\n"
     ]
    },
    {
     "data": {
      "text/plain": [
       "<keras.callbacks.History at 0x7feffc0cebb0>"
      ]
     },
     "execution_count": 10,
     "metadata": {},
     "output_type": "execute_result"
    }
   ],
   "source": [
    "model.fit(train_dataset, validation_data=val_dataset, epochs=5)"
   ]
  },
  {
   "cell_type": "markdown",
   "metadata": {},
   "source": [
    "#### Save the model"
   ]
  },
  {
   "cell_type": "code",
   "execution_count": 11,
   "metadata": {},
   "outputs": [
    {
     "name": "stdout",
     "output_type": "stream",
     "text": [
      "64/64 [==============================] - 2s 14ms/step - loss: 0.6869 - accuracy: 0.7360\n"
     ]
    },
    {
     "name": "stderr",
     "output_type": "stream",
     "text": [
      "2023-08-07 14:13:10.407556: W tensorflow/python/util/util.cc:368] Sets are not currently considered sequences, but this may change in the future, so consider avoiding using them.\n"
     ]
    },
    {
     "name": "stdout",
     "output_type": "stream",
     "text": [
      "INFO:tensorflow:Assets written to: m1/assets\n"
     ]
    }
   ],
   "source": [
    "model.evaluate(test_dataset)\n",
    "model.save(\"m1\")"
   ]
  },
  {
   "cell_type": "code",
   "execution_count": null,
   "metadata": {},
   "outputs": [],
   "source": []
  }
 ],
 "metadata": {
  "kernelspec": {
   "display_name": "Python 3",
   "language": "python",
   "name": "python3"
  },
  "language_info": {
   "codemirror_mode": {
    "name": "ipython",
    "version": 3
   },
   "file_extension": ".py",
   "mimetype": "text/x-python",
   "name": "python",
   "nbconvert_exporter": "python",
   "pygments_lexer": "ipython3",
   "version": "3.8.10"
  },
  "orig_nbformat": 4
 },
 "nbformat": 4,
 "nbformat_minor": 2
}
