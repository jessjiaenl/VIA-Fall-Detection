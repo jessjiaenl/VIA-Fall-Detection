{
 "cells": [
  {
   "cell_type": "markdown",
   "metadata": {},
   "source": [
    "### All needed imports"
   ]
  },
  {
   "cell_type": "code",
   "execution_count": 1,
   "metadata": {},
   "outputs": [],
   "source": [
    "import os\n",
    "import cv2\n",
    "import numpy as np\n",
    "import matplotlib as pl\n",
    "import tensorflow as tf\n",
    "assert tf.__version__.startswith('2')\n",
    "from tensorflow.keras.models import Model\n",
    "from tensorflow.keras.layers import Input, Conv2D, MaxPooling2D, Flatten, Dense\n"
   ]
  },
  {
   "cell_type": "markdown",
   "metadata": {},
   "source": [
    "### Limit GPU Usage"
   ]
  },
  {
   "cell_type": "code",
   "execution_count": 2,
   "metadata": {},
   "outputs": [
    {
     "name": "stdout",
     "output_type": "stream",
     "text": [
      "1 Physical GPUs, 1 Logical GPUs\n"
     ]
    },
    {
     "name": "stderr",
     "output_type": "stream",
     "text": [
      "2023-08-01 13:46:52.556560: I tensorflow/stream_executor/cuda/cuda_gpu_executor.cc:936] successful NUMA node read from SysFS had negative value (-1), but there must be at least one NUMA node, so returning NUMA node zero\n",
      "2023-08-01 13:46:52.572367: I tensorflow/stream_executor/cuda/cuda_gpu_executor.cc:936] successful NUMA node read from SysFS had negative value (-1), but there must be at least one NUMA node, so returning NUMA node zero\n",
      "2023-08-01 13:46:52.572510: I tensorflow/stream_executor/cuda/cuda_gpu_executor.cc:936] successful NUMA node read from SysFS had negative value (-1), but there must be at least one NUMA node, so returning NUMA node zero\n",
      "2023-08-01 13:46:52.573171: I tensorflow/core/platform/cpu_feature_guard.cc:151] This TensorFlow binary is optimized with oneAPI Deep Neural Network Library (oneDNN) to use the following CPU instructions in performance-critical operations:  AVX2 FMA\n",
      "To enable them in other operations, rebuild TensorFlow with the appropriate compiler flags.\n",
      "2023-08-01 13:46:52.573467: I tensorflow/stream_executor/cuda/cuda_gpu_executor.cc:936] successful NUMA node read from SysFS had negative value (-1), but there must be at least one NUMA node, so returning NUMA node zero\n",
      "2023-08-01 13:46:52.573580: I tensorflow/stream_executor/cuda/cuda_gpu_executor.cc:936] successful NUMA node read from SysFS had negative value (-1), but there must be at least one NUMA node, so returning NUMA node zero\n",
      "2023-08-01 13:46:52.573677: I tensorflow/stream_executor/cuda/cuda_gpu_executor.cc:936] successful NUMA node read from SysFS had negative value (-1), but there must be at least one NUMA node, so returning NUMA node zero\n",
      "2023-08-01 13:46:52.947179: I tensorflow/stream_executor/cuda/cuda_gpu_executor.cc:936] successful NUMA node read from SysFS had negative value (-1), but there must be at least one NUMA node, so returning NUMA node zero\n",
      "2023-08-01 13:46:52.947325: I tensorflow/stream_executor/cuda/cuda_gpu_executor.cc:936] successful NUMA node read from SysFS had negative value (-1), but there must be at least one NUMA node, so returning NUMA node zero\n",
      "2023-08-01 13:46:52.947421: I tensorflow/stream_executor/cuda/cuda_gpu_executor.cc:936] successful NUMA node read from SysFS had negative value (-1), but there must be at least one NUMA node, so returning NUMA node zero\n",
      "2023-08-01 13:46:52.947507: I tensorflow/core/common_runtime/gpu/gpu_device.cc:1525] Created device /job:localhost/replica:0/task:0/device:GPU:0 with 2048 MB memory:  -> device: 0, name: NVIDIA GeForce RTX 2080 SUPER, pci bus id: 0000:03:00.0, compute capability: 7.5\n"
     ]
    }
   ],
   "source": [
    "gpus = tf.config.list_physical_devices('GPU')\n",
    "if gpus:\n",
    "    # Restrict TensorFlow to only allocate 2GB of memory on the first GPU\n",
    "    try:\n",
    "        tf.config.set_logical_device_configuration(gpus[0], [tf.config.LogicalDeviceConfiguration(memory_limit=2048)])\n",
    "        logical_gpus = tf.config.list_logical_devices('GPU')\n",
    "        print(len(gpus), \"Physical GPUs,\", len(logical_gpus), \"Logical GPUs\")\n",
    "    except RuntimeError as e:\n",
    "        # Virtual devices must be set before GPUs have been initialized\n",
    "        print(e)"
   ]
  },
  {
   "cell_type": "markdown",
   "metadata": {},
   "source": [
    "### Preprocessing Data for Model 1"
   ]
  },
  {
   "cell_type": "markdown",
   "metadata": {},
   "source": [
    "#### Video Paths"
   ]
  },
  {
   "cell_type": "code",
   "execution_count": 3,
   "metadata": {},
   "outputs": [],
   "source": [
    "falling_paths = [\n",
    "                 \"./../datasets/vids/splitted/new_moving/resized_logitech-fall2.mp4\",\n",
    "                 \"./../datasets/vids/splitted/new_moving/resized_logitech-fall3.mp4\",\n",
    "                 \"./../datasets/vids/splitted/new_moving/resized_logitech-fall4.mp4\",\n",
    "                 \"./../datasets/vids/splitted/new_moving/resized_logitech-fall1.mp4\",\n",
    "                 \"./../datasets/vids/splitted/new_moving/resized_logitech-fall5.mp4\",\n",
    "                 \"./../datasets/vids/splitted/new_moving/resized_logitech-fall6.mp4\",\n",
    "                 \"./../datasets/vids/splitted/new_moving/resized_logitech-fall7.mp4\",\n",
    "                 \"./../datasets/vids/splitted/new_moving/resized_logitech-fall8.mp4\",\n",
    "                 \"./../datasets/vids/splitted/new_moving/resized_logitech-fall9.mp4\",\n",
    "                 \"./../datasets/vids/splitted/new_moving/resized_logitech-fall10.mp4\",\n",
    "                 \"./../datasets/vids/splitted/new_moving/resized_logitech-fall11.mp4\",\n",
    "                 \"./../datasets/vids/splitted/new_moving/resized_logitech-fall12.mp4\",\n",
    "                 \"./../datasets/vids/splitted/new_moving/resized_logitech-fall13.mp4\",\n",
    "                 \"./../datasets/vids/splitted/new_moving/resized_logitech-fall14.mp4\",\n",
    "                 \"./../datasets/vids/splitted/new_moving/resized_logitech-fall15.mp4\"\n",
    "                 ]\n",
    "\n",
    "default_paths = [\n",
    "                 \"./../datasets/vids/splitted/new_still/resized_logitech-default1.mp4\",\n",
    "                 \"./../datasets/vids/splitted/new_still/resized_logitech-default2.mp4\",\n",
    "                 \"./../datasets/vids/splitted/new_still/resized_logitech-default3.mp4\",\n",
    "                 \"./../datasets/vids/splitted/new_still/resized_logitech-default4.mp4\",\n",
    "                 \"./../datasets/vids/splitted/new_still/resized_logitech-default5.mp4\",\n",
    "                 \"./../datasets/vids/splitted/new_still/resized_logitech-default6.mp4\",\n",
    "                 \"./../datasets/vids/splitted/new_still/resized_logitech-default7.mp4\",\n",
    "                 \"./../datasets/vids/splitted/new_still/resized_logitech-default8.mp4\",\n",
    "                 \"./../datasets/vids/splitted/new_still/resized_logitech-default9.mp4\",\n",
    "                 \"./../datasets/vids/splitted/new_still/resized_logitech-default10.mp4\",\n",
    "                 \"./../datasets/vids/splitted/new_still/resized_logitech-default11.mp4\",\n",
    "                 \"./../datasets/vids/splitted/new_still/resized_logitech-default12.mp4\",\n",
    "                 \"./../datasets/vids/splitted/new_still/resized_logitech-default13.mp4\",\n",
    "                 \"./../datasets/vids/splitted/new_still/resized_logitech-default14.mp4\",\n",
    "                 \"./../datasets/vids/splitted/new_still/resized_logitech-default15.mp4\"\n",
    "                 ]"
   ]
  },
  {
   "cell_type": "markdown",
   "metadata": {},
   "source": [
    "#### Processing code, returns frame (num_frames, 224,224,3) and frame_diffs (num_frames, 224,224)"
   ]
  },
  {
   "cell_type": "code",
   "execution_count": 4,
   "metadata": {},
   "outputs": [],
   "source": [
    "def process_videos(video_paths, label):\n",
    "    frames = []\n",
    "    frame_diffs = []\n",
    "    labels = []\n",
    "    \n",
    "    for path in video_paths:\n",
    "        video_cap = cv2.VideoCapture(path)\n",
    "        \n",
    "        prev_gray_frame = None\n",
    "        \n",
    "        while video_cap.isOpened():\n",
    "            ret, frame = video_cap.read()\n",
    "            \n",
    "            if not ret:\n",
    "                break\n",
    "            \n",
    "            # Resize and convert frame to RGB\n",
    "            frame_resized = cv2.resize(frame, (224, 224))\n",
    "            frame_rgb = cv2.cvtColor(frame_resized, cv2.COLOR_BGR2RGB)\n",
    "            \n",
    "            # Convert frame to grayscale\n",
    "            gray_frame = cv2.cvtColor(frame_resized, cv2.COLOR_BGR2GRAY)\n",
    "\n",
    "            if prev_gray_frame is None:\n",
    "                frame_diff = np.zeros_like(gray_frame, dtype=np.float32)\n",
    "            else:\n",
    "                frame_diff = cv2.absdiff(prev_gray_frame, gray_frame)\n",
    "                # frame_diff = cv2.absdiff(prev_gray_frame, gray_frame) / 255.0\n",
    "            \n",
    "            prev_gray_frame = gray_frame\n",
    "            \n",
    "            frames.append(frame_rgb)\n",
    "            frame_diffs.append(frame_diff)\n",
    "            labels.append(label)  # 0 for still, 1 for moving\n",
    "            \n",
    "            \n",
    "        video_cap.release()\n",
    "\n",
    "    return np.array(frames), np.array(frame_diffs), np.array(labels)"
   ]
  },
  {
   "cell_type": "code",
   "execution_count": 66,
   "metadata": {},
   "outputs": [],
   "source": [
    "# Reshaping to 224 x 224 x 4 for the convolutional model\n",
    "def combine_frames_and_diffs(frames, frame_diffs):\n",
    "    # frame_diffs dimension\n",
    "    # print(frame_diffs.shape)\n",
    "    frame_diffs_expanded = np.expand_dims(frame_diffs, axis=-1) # Add an extra dimension\n",
    "    # frame_diffs_expanded dimension\n",
    "    # print(frame_diffs_expanded.shape)\n",
    "    combined_input = np.concatenate([frames, frame_diffs_expanded], axis=-1) # Concatenate along the last axis\n",
    "    # combined_input dimension\n",
    "    # print(combined_input.shape)\n",
    "    \n",
    "    cv2.imwrite('img_still.png', combined_input[10])\n",
    "    return combined_input"
   ]
  },
  {
   "cell_type": "code",
   "execution_count": 67,
   "metadata": {},
   "outputs": [
    {
     "name": "stdout",
     "output_type": "stream",
     "text": [
      "(1080, 224, 224, 3)\n"
     ]
    }
   ],
   "source": [
    "# Generate the frames and frame_diffs array for still\n",
    "still_frames, still_diff, still_labels = process_videos(default_paths, 0)\n",
    "# checking data of still_diff\n",
    "# for i, x in enumerate(still_diff):\n",
    "#     print(\" i= \"+str(i)+\" mean = \"+str(np.mean(x)))\n",
    "\n",
    "falling_frames, falling_diff, falling_labels = process_videos(falling_paths, 1)\n",
    "\n",
    "# checking data of still_diff\n",
    "# for i, x in enumerate(falling_diff):\n",
    "#     print(\" i= \"+str(i)+\" mean = \"+str(np.mean(x)))\n",
    "\n",
    "# Combine them\n",
    "concatenate_frames = np.concatenate([still_frames, falling_frames], axis = 0)\n",
    "# print(concatenate_frames.shape)\n",
    "concatenate_diff =  np.concatenate([still_diff, falling_diff], axis = 0)\n",
    "# print(concatenate_diff.shape)\n",
    "concatenate_labels =  np.concatenate([still_labels, falling_labels], axis = 0)\n",
    "# print(concatenate_labels.shape)\n",
    "\n",
    "# Create 224x224x4 shape for the model\n",
    "combined_input = combine_frames_and_diffs(concatenate_frames, concatenate_diff)\n",
    "# print(combined_input)\n",
    "\n",
    "# Shuffle the data if needed\n",
    "indices = np.arange(combined_input.shape[0])\n",
    "np.random.shuffle(indices)\n",
    "combined_input = combined_input[indices]\n",
    "concatenate_labels = concatenate_labels[indices]\n",
    "\n",
    "\n",
    "# Create a TensorFlow dataset\n",
    "with tf.device('/cpu:0'):\n",
    "    dataset = tf.data.Dataset.from_tensor_slices((combined_input, concatenate_labels))\n",
    "    dataset = dataset.batch(16).prefetch(buffer_size=tf.data.AUTOTUNE)\n",
    "\n",
    "# Split the dataset into training and validation\n",
    "train_dataset = dataset.take(int(0.8 * len(dataset)))\n",
    "val_dataset = dataset.skip(int(0.8 * len(dataset)))\n",
    "\n",
    "# dataset = tf.data.Dataset.from_tensor_slices((combined_input, concatenate_labels))\n",
    "# Batch and prefetch if needed\n",
    "# dataset = dataset.batch(16).prefetch(buffer_size=tf.data.AUTOTUNE)"
   ]
  },
  {
   "cell_type": "markdown",
   "metadata": {},
   "source": [
    "#### Create the model"
   ]
  },
  {
   "cell_type": "code",
   "execution_count": 68,
   "metadata": {},
   "outputs": [],
   "source": [
    "def create_model():\n",
    "    combined_input = Input(shape=(224, 224, 4), name='combined_input')\n",
    "\n",
    "    # Convolutional layers for image processing\n",
    "    # Convolutional layers are useful for learning spatial hierarchies and detecting features \n",
    "    x = Conv2D(32, (3, 3), activation='relu')(combined_input) #  Convolutional layers extract spatial features from the image\n",
    "    x = MaxPooling2D((2, 2))(x) #  Max-pooling layers reduce the size of the feature maps.\n",
    "    x = Conv2D(64, (3, 3), activation='relu')(x)\n",
    "    x = MaxPooling2D((2, 2))(x)\n",
    "    x = Conv2D(128, (3, 3), activation='relu')(x)\n",
    "    x = MaxPooling2D((2, 2))(x)\n",
    "    \n",
    "    # Fully connected layers: These layers learn to make decisions based on the features extracted by the convolutional layers\n",
    "    x = Flatten()(x) # This line flattens the 2D feature maps into a 1D vector\n",
    "    x = Dense(128, activation='relu')(x)\n",
    "    x = Dense(64, activation='relu')(x)\n",
    "    output = Dense(1, activation='sigmoid')(x)  # Single output with sigmoid activation\n",
    "\n",
    "    model = Model(inputs=combined_input, outputs=output)\n",
    "    model.compile(optimizer='adam', loss='binary_crossentropy', metrics=['accuracy'])  # Binary cross-entropy loss\n",
    "    \n",
    "    return model"
   ]
  },
  {
   "cell_type": "code",
   "execution_count": 69,
   "metadata": {},
   "outputs": [
    {
     "name": "stdout",
     "output_type": "stream",
     "text": [
      "Model: \"model_2\"\n",
      "_________________________________________________________________\n",
      " Layer (type)                Output Shape              Param #   \n",
      "=================================================================\n",
      " combined_input (InputLayer)  [(None, 224, 224, 4)]    0         \n",
      "                                                                 \n",
      " conv2d_6 (Conv2D)           (None, 222, 222, 32)      1184      \n",
      "                                                                 \n",
      " max_pooling2d_6 (MaxPooling  (None, 111, 111, 32)     0         \n",
      " 2D)                                                             \n",
      "                                                                 \n",
      " conv2d_7 (Conv2D)           (None, 109, 109, 64)      18496     \n",
      "                                                                 \n",
      " max_pooling2d_7 (MaxPooling  (None, 54, 54, 64)       0         \n",
      " 2D)                                                             \n",
      "                                                                 \n",
      " conv2d_8 (Conv2D)           (None, 52, 52, 128)       73856     \n",
      "                                                                 \n",
      " max_pooling2d_8 (MaxPooling  (None, 26, 26, 128)      0         \n",
      " 2D)                                                             \n",
      "                                                                 \n",
      " flatten_2 (Flatten)         (None, 86528)             0         \n",
      "                                                                 \n",
      " dense_6 (Dense)             (None, 128)               11075712  \n",
      "                                                                 \n",
      " dense_7 (Dense)             (None, 64)                8256      \n",
      "                                                                 \n",
      " dense_8 (Dense)             (None, 1)                 65        \n",
      "                                                                 \n",
      "=================================================================\n",
      "Total params: 11,177,569\n",
      "Trainable params: 11,177,569\n",
      "Non-trainable params: 0\n",
      "_________________________________________________________________\n"
     ]
    },
    {
     "name": "stdout",
     "output_type": "stream",
     "text": [
      "Epoch 1/5\n",
      "68/68 [==============================] - 3s 39ms/step - loss: 29.2882 - accuracy: 0.8519 - val_loss: 0.0197 - val_accuracy: 1.0000\n",
      "Epoch 2/5\n",
      "68/68 [==============================] - 2s 35ms/step - loss: 0.0461 - accuracy: 0.9889 - val_loss: 0.0078 - val_accuracy: 1.0000\n",
      "Epoch 3/5\n",
      "68/68 [==============================] - 3s 38ms/step - loss: 0.0557 - accuracy: 0.9824 - val_loss: 0.0136 - val_accuracy: 0.9954\n",
      "Epoch 4/5\n",
      "68/68 [==============================] - 3s 39ms/step - loss: 0.0750 - accuracy: 0.9815 - val_loss: 0.0148 - val_accuracy: 0.9907\n",
      "Epoch 5/5\n",
      "68/68 [==============================] - 3s 37ms/step - loss: 0.0332 - accuracy: 0.9889 - val_loss: 0.0044 - val_accuracy: 1.0000\n"
     ]
    },
    {
     "data": {
      "text/plain": [
       "<keras.callbacks.History at 0x7f1159934e80>"
      ]
     },
     "execution_count": 69,
     "metadata": {},
     "output_type": "execute_result"
    }
   ],
   "source": [
    "model = create_model()\n",
    "model.summary()\n",
    "model.fit(dataset, validation_data=val_dataset, epochs=5)"
   ]
  },
  {
   "cell_type": "code",
   "execution_count": 17,
   "metadata": {},
   "outputs": [
    {
     "name": "stdout",
     "output_type": "stream",
     "text": [
      "(3, 3)\n",
      "[[1 2 3]\n",
      " [1 2 3]\n",
      " [1 2 3]]\n",
      "\n",
      "(1, 3, 3)\n",
      "[[[1 2 3]\n",
      "  [1 2 3]\n",
      "  [1 2 3]]]\n",
      "\n",
      "(3, 1, 3)\n",
      "[[[1 2 3]]\n",
      "\n",
      " [[1 2 3]]\n",
      "\n",
      " [[1 2 3]]]\n",
      "\n",
      "(3, 3, 1)\n",
      "[[[1]\n",
      "  [2]\n",
      "  [3]]\n",
      "\n",
      " [[1]\n",
      "  [2]\n",
      "  [3]]\n",
      "\n",
      " [[1]\n",
      "  [2]\n",
      "  [3]]]\n"
     ]
    }
   ],
   "source": [
    "# Testing something not part of the main code\n",
    "arr1 = [[1,2,3], [1,2,3], [1,2,3]]\n",
    "arr1 = np.array(arr1)\n",
    "print(arr1.shape)\n",
    "print(arr1)\n",
    "print()\n",
    "# exapand dims through axis 0\n",
    "arr1_expanded = np.expand_dims(arr1, axis = 0)\n",
    "print(arr1_expanded.shape)\n",
    "print(arr1_expanded)\n",
    "print()\n",
    "# exapand dims through axis 1\n",
    "arr2 = [[1,2,3], [1,2,3], [1,2,3]]\n",
    "arr2 = np.array(arr2)\n",
    "arr2_expanded = np.expand_dims(arr2, axis = 1)\n",
    "print(arr2_expanded.shape)\n",
    "print(arr2_expanded)\n",
    "print()\n",
    "arr3 = [[1,2,3], [1,2,3], [1,2,3]]\n",
    "arr3 = np.array(arr3)\n",
    "arr3_expanded = np.expand_dims(arr3, axis = -1)\n",
    "print(arr3_expanded.shape)\n",
    "print(arr3_expanded)"
   ]
  }
 ],
 "metadata": {
  "kernelspec": {
   "display_name": "Python 3",
   "language": "python",
   "name": "python3"
  },
  "language_info": {
   "codemirror_mode": {
    "name": "ipython",
    "version": 3
   },
   "file_extension": ".py",
   "mimetype": "text/x-python",
   "name": "python",
   "nbconvert_exporter": "python",
   "pygments_lexer": "ipython3",
   "version": "3.8.10"
  },
  "orig_nbformat": 4
 },
 "nbformat": 4,
 "nbformat_minor": 2
}
