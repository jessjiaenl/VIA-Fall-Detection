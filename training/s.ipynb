{
 "cells": [
  {
   "cell_type": "markdown",
   "metadata": {},
   "source": [
    "### All needed imports"
   ]
  },
  {
   "cell_type": "code",
   "execution_count": 41,
   "metadata": {},
   "outputs": [],
   "source": [
    "import os\n",
    "import cv2\n",
    "import numpy as np\n",
    "import tensorflow as tf\n",
    "assert tf.__version__.startswith('2')\n",
    "from tensorflow.keras import layers\n",
    "from tensorflow.keras.models import Model\n",
    "from tensorflow.keras.layers import Input, Conv2D, MaxPooling2D, Dense, GlobalAveragePooling2D, Dropout\n"
   ]
  },
  {
   "cell_type": "markdown",
   "metadata": {},
   "source": [
    "### Limit GPU Usage"
   ]
  },
  {
   "cell_type": "code",
   "execution_count": 2,
   "metadata": {},
   "outputs": [
    {
     "name": "stdout",
     "output_type": "stream",
     "text": [
      "1 Physical GPUs, 1 Logical GPUs\n"
     ]
    },
    {
     "name": "stderr",
     "output_type": "stream",
     "text": [
      "2023-08-10 10:30:46.889024: I tensorflow/stream_executor/cuda/cuda_gpu_executor.cc:936] successful NUMA node read from SysFS had negative value (-1), but there must be at least one NUMA node, so returning NUMA node zero\n",
      "2023-08-10 10:30:46.904738: I tensorflow/stream_executor/cuda/cuda_gpu_executor.cc:936] successful NUMA node read from SysFS had negative value (-1), but there must be at least one NUMA node, so returning NUMA node zero\n",
      "2023-08-10 10:30:46.904888: I tensorflow/stream_executor/cuda/cuda_gpu_executor.cc:936] successful NUMA node read from SysFS had negative value (-1), but there must be at least one NUMA node, so returning NUMA node zero\n",
      "2023-08-10 10:30:46.906359: I tensorflow/core/platform/cpu_feature_guard.cc:151] This TensorFlow binary is optimized with oneAPI Deep Neural Network Library (oneDNN) to use the following CPU instructions in performance-critical operations:  AVX2 FMA\n",
      "To enable them in other operations, rebuild TensorFlow with the appropriate compiler flags.\n",
      "2023-08-10 10:30:46.906629: I tensorflow/stream_executor/cuda/cuda_gpu_executor.cc:936] successful NUMA node read from SysFS had negative value (-1), but there must be at least one NUMA node, so returning NUMA node zero\n",
      "2023-08-10 10:30:46.906756: I tensorflow/stream_executor/cuda/cuda_gpu_executor.cc:936] successful NUMA node read from SysFS had negative value (-1), but there must be at least one NUMA node, so returning NUMA node zero\n",
      "2023-08-10 10:30:46.906856: I tensorflow/stream_executor/cuda/cuda_gpu_executor.cc:936] successful NUMA node read from SysFS had negative value (-1), but there must be at least one NUMA node, so returning NUMA node zero\n",
      "2023-08-10 10:30:47.289172: I tensorflow/stream_executor/cuda/cuda_gpu_executor.cc:936] successful NUMA node read from SysFS had negative value (-1), but there must be at least one NUMA node, so returning NUMA node zero\n",
      "2023-08-10 10:30:47.289316: I tensorflow/stream_executor/cuda/cuda_gpu_executor.cc:936] successful NUMA node read from SysFS had negative value (-1), but there must be at least one NUMA node, so returning NUMA node zero\n",
      "2023-08-10 10:30:47.289412: I tensorflow/stream_executor/cuda/cuda_gpu_executor.cc:936] successful NUMA node read from SysFS had negative value (-1), but there must be at least one NUMA node, so returning NUMA node zero\n",
      "2023-08-10 10:30:47.289496: I tensorflow/core/common_runtime/gpu/gpu_device.cc:1525] Created device /job:localhost/replica:0/task:0/device:GPU:0 with 2048 MB memory:  -> device: 0, name: NVIDIA GeForce RTX 2080 SUPER, pci bus id: 0000:03:00.0, compute capability: 7.5\n"
     ]
    }
   ],
   "source": [
    "gpus = tf.config.list_physical_devices('GPU')\n",
    "if gpus:\n",
    "    # Restrict TensorFlow to only allocate 2GB of memory on the first GPU\n",
    "    try:\n",
    "        tf.config.set_logical_device_configuration(gpus[0], [tf.config.LogicalDeviceConfiguration(memory_limit=2048)])\n",
    "        logical_gpus = tf.config.list_logical_devices('GPU')\n",
    "        print(len(gpus), \"Physical GPUs,\", len(logical_gpus), \"Logical GPUs\")\n",
    "    except RuntimeError as e:\n",
    "        # Virtual devices must be set before GPUs have been initialized\n",
    "        print(e)"
   ]
  },
  {
   "cell_type": "markdown",
   "metadata": {},
   "source": [
    "### Preprocessing Data for Model 1"
   ]
  },
  {
   "cell_type": "markdown",
   "metadata": {},
   "source": [
    "#### Video Paths"
   ]
  },
  {
   "cell_type": "code",
   "execution_count": 3,
   "metadata": {},
   "outputs": [],
   "source": [
    "falling_paths = [\n",
    "                 \"./../datasets/vids/splitted/new_moving/resized_logitech-fall2.mp4\",\n",
    "                 \"./../datasets/vids/splitted/new_moving/resized_logitech-fall3.mp4\",\n",
    "                 \"./../datasets/vids/splitted/new_moving/resized_logitech-fall4.mp4\",\n",
    "                 \"./../datasets/vids/splitted/new_moving/resized_logitech-fall1.mp4\",\n",
    "                 \"./../datasets/vids/splitted/new_moving/resized_logitech-fall5.mp4\",\n",
    "                 \"./../datasets/vids/splitted/new_moving/resized_logitech-fall6.mp4\",\n",
    "                 \"./../datasets/vids/splitted/new_moving/resized_logitech-fall7.mp4\",\n",
    "                 \"./../datasets/vids/splitted/new_moving/resized_logitech-fall8.mp4\",\n",
    "                 \"./../datasets/vids/splitted/new_moving/resized_logitech-fall9.mp4\",\n",
    "                 \"./../datasets/vids/splitted/new_moving/resized_logitech-fall10.mp4\",\n",
    "                 \"./../datasets/vids/splitted/new_moving/resized_logitech-fall11.mp4\",\n",
    "                 \"./../datasets/vids/splitted/new_moving/resized_logitech-fall12.mp4\",\n",
    "                 \"./../datasets/vids/splitted/new_moving/resized_logitech-fall13.mp4\",\n",
    "                 \"./../datasets/vids/splitted/new_moving/resized_logitech-fall14.mp4\",\n",
    "                 \"./../datasets/vids/splitted/new_moving/resized_logitech-fall15.mp4\"\n",
    "                 ]\n",
    "\n",
    "default_paths = [\n",
    "                 \"./../datasets/vids/splitted/new_still/resized_logitech-default1.mp4\",\n",
    "                 \"./../datasets/vids/splitted/new_still/resized_logitech-default2.mp4\",\n",
    "                 \"./../datasets/vids/splitted/new_still/resized_logitech-default3.mp4\",\n",
    "                 \"./../datasets/vids/splitted/new_still/resized_logitech-default4.mp4\",\n",
    "                 \"./../datasets/vids/splitted/new_still/resized_logitech-default5.mp4\",\n",
    "                 \"./../datasets/vids/splitted/new_still/resized_logitech-default6.mp4\",\n",
    "                 \"./../datasets/vids/splitted/new_still/resized_logitech-default7.mp4\",\n",
    "                 \"./../datasets/vids/splitted/new_still/resized_logitech-default8.mp4\",\n",
    "                 \"./../datasets/vids/splitted/new_still/resized_logitech-default9.mp4\",\n",
    "                 \"./../datasets/vids/splitted/new_still/resized_logitech-default10.mp4\",\n",
    "                 \"./../datasets/vids/splitted/new_still/resized_logitech-default11.mp4\",\n",
    "                 \"./../datasets/vids/splitted/new_still/resized_logitech-default12.mp4\",\n",
    "                 \"./../datasets/vids/splitted/new_still/resized_logitech-default13.mp4\",\n",
    "                 \"./../datasets/vids/splitted/new_still/resized_logitech-default14.mp4\",\n",
    "                 \"./../datasets/vids/splitted/new_still/resized_logitech-default15.mp4\"\n",
    "                 ]\n",
    "\n",
    "test_falling_paths = [\n",
    "                \"./../datasets/vids/testdata/moving/resized-test-fall1.mp4\",\n",
    "                \"./../datasets/vids/testdata/moving/resized-test-fall2.mp4\",\n",
    "                \"./../datasets/vids/testdata/moving/resized-test-fall3.mp4\",\n",
    "                \"./../datasets/vids/testdata/moving/resized-test-fall4.mp4\",\n",
    "                \"./../datasets/vids/testdata/moving/resized-test-fall5.mp4\",\n",
    "                \"./../datasets/vids/testdata/moving/resized-test-fall6.mp4\",\n",
    "                \"./../datasets/vids/testdata/moving/resized-test-fall7.mp4\",\n",
    "                \"./../datasets/vids/testdata/moving/resized-test-fall8.mp4\",\n",
    "                \"./../datasets/vids/testdata/moving/resized-test-fall9.mp4\",\n",
    "                \"./../datasets/vids/testdata/moving/resized-test-fall10.mp4\",\n",
    "                \"./../datasets/vids/testdata/moving/resized-test-fall11.mp4\",\n",
    "                \"./../datasets/vids/testdata/moving/resized-test-fall12.mp4\",\n",
    "                \"./../datasets/vids/testdata/moving/resized-test-fall13.mp4\",\n",
    "                \"./../datasets/vids/testdata/moving/resized-test-fall14.mp4\",\n",
    "                \"./../datasets/vids/testdata/moving/resized-test-fall15.mp4\"\n",
    "]\n",
    "\n",
    "test_default_paths = [\n",
    "                \"./../datasets/vids/testdata/still/resized-test-default1.mp4\",\n",
    "                \"./../datasets/vids/testdata/still/resized-test-default2.mp4\",\n",
    "                \"./../datasets/vids/testdata/still/resized-test-default3.mp4\",\n",
    "                \"./../datasets/vids/testdata/still/resized-test-default4.mp4\",\n",
    "                \"./../datasets/vids/testdata/still/resized-test-default5.mp4\",\n",
    "                \"./../datasets/vids/testdata/still/resized-test-default6.mp4\",\n",
    "                \"./../datasets/vids/testdata/still/resized-test-default7.mp4\",\n",
    "                \"./../datasets/vids/testdata/still/resized-test-default8.mp4\",\n",
    "                \"./../datasets/vids/testdata/still/resized-test-default9.mp4\",\n",
    "                \"./../datasets/vids/testdata/still/resized-test-default10.mp4\",\n",
    "                \"./../datasets/vids/testdata/still/resized-test-default11.mp4\",\n",
    "                \"./../datasets/vids/testdata/still/resized-test-default12.mp4\",\n",
    "                \"./../datasets/vids/testdata/still/resized-test-default13.mp4\",\n",
    "                \"./../datasets/vids/testdata/still/resized-test-default14.mp4\",\n",
    "                \"./../datasets/vids/testdata/still/resized-test-default15.mp4\"\n",
    "]"
   ]
  },
  {
   "cell_type": "markdown",
   "metadata": {},
   "source": [
    "#### Processing code, returns frame (num_frames, 224,224,3) and frame_diffs (num_frames, 224,224)"
   ]
  },
  {
   "cell_type": "code",
   "execution_count": 4,
   "metadata": {},
   "outputs": [],
   "source": [
    "# Code to apply the same random transformation "
   ]
  },
  {
   "cell_type": "code",
   "execution_count": 4,
   "metadata": {},
   "outputs": [],
   "source": [
    "def process_videos(video_paths, label):\n",
    "    frames = []\n",
    "    frame_diffs = []\n",
    "    labels = []\n",
    "    \n",
    "    for path in video_paths:\n",
    "        video_cap = cv2.VideoCapture(path)\n",
    "        \n",
    "        prev_gray_frame = None\n",
    "        \n",
    "        while video_cap.isOpened():\n",
    "            ret, frame = video_cap.read()\n",
    "            \n",
    "            if not ret:\n",
    "                break\n",
    "            \n",
    "            # Resize and convert frame to RGB\n",
    "            frame_resized = cv2.resize(frame, (224, 224))\n",
    "            frame_rgb = cv2.cvtColor(frame_resized, cv2.COLOR_BGR2RGB)\n",
    "            \n",
    "            # Convert frame to grayscale\n",
    "            gray_frame = cv2.cvtColor(frame_resized, cv2.COLOR_BGR2GRAY)\n",
    "\n",
    "            if prev_gray_frame is None:\n",
    "                frame_diff = np.zeros_like(gray_frame, dtype=np.float32)\n",
    "            else:\n",
    "                frame_diff = cv2.absdiff(prev_gray_frame, gray_frame)\n",
    "                # frame_diff = cv2.absdiff(prev_gray_frame, gray_frame) / 255.0\n",
    "            \n",
    "            prev_gray_frame = gray_frame\n",
    "            \n",
    "            frames.append(frame_rgb)\n",
    "            frame_diffs.append(frame_diff)\n",
    "            labels.append(label)  # 0 for still, 1 for moving\n",
    "        # print(len(labels))\n",
    "        video_cap.release()\n",
    "\n",
    "    return np.array(frames), np.array(frame_diffs), np.array(labels)"
   ]
  },
  {
   "cell_type": "code",
   "execution_count": 5,
   "metadata": {},
   "outputs": [],
   "source": [
    "# Reshaping to 224 x 224 x 4 for the convolutional model\n",
    "def combine_frames_and_diffs(frames, frame_diffs):\n",
    "    # frame_diffs dimension\n",
    "    # print(frame_diffs.shape)\n",
    "    frame_diffs_expanded = np.expand_dims(frame_diffs, axis=-1) # Add an extra dimension\n",
    "    # frame_diffs_expanded dimension\n",
    "    # print(frame_diffs_expanded.shape)\n",
    "    combined_input = np.concatenate([frames, frame_diffs_expanded], axis=-1) # Concatenate along the last axis\n",
    "    # combined_input dimension\n",
    "    # print(combined_input.shape)\n",
    "    \n",
    "    # Visualize the difference\n",
    "    # cv2.imwrite('img_still.png', combined_input[10])\n",
    "    return combined_input"
   ]
  },
  {
   "cell_type": "code",
   "execution_count": 12,
   "metadata": {},
   "outputs": [
    {
     "name": "stdout",
     "output_type": "stream",
     "text": [
      "(1080, 224, 224, 4)\n",
      "(1015, 224, 224, 4)\n"
     ]
    }
   ],
   "source": [
    "# Generate the frames and frame_diffs array for still\n",
    "still_frames, still_diff, still_labels = process_videos(default_paths, 0)\n",
    "test_still_frames, test_still_diff, test_still_labels = process_videos(test_default_paths, 0)\n",
    "# print(still_frames.shape)\n",
    "falling_frames, falling_diff, falling_labels = process_videos(falling_paths, 1)\n",
    "test_falling_frames, test_falling_diff, test_falling_labels = process_videos(test_falling_paths, 1)\n",
    "# print(falling_frames.shape)\n",
    "\n",
    "# Combine them\n",
    "concatenate_frames = np.concatenate([still_frames, falling_frames], axis = 0)\n",
    "# print(concatenate_frames.shape)\n",
    "concatenate_diff =  np.concatenate([still_diff, falling_diff], axis = 0)\n",
    "# print(concatenate_diff.shape)\n",
    "concatenate_labels =  np.concatenate([still_labels, falling_labels], axis = 0)\n",
    "# print(concatenate_labels.shape)\n",
    "\n",
    "# Create 224x224x4 shape for the model\n",
    "combined_input = combine_frames_and_diffs(concatenate_frames, concatenate_diff)\n",
    "# print(combined_input)\n",
    "\n",
    "# Combine them\n",
    "test_concatenate_frames = np.concatenate([test_still_frames, test_falling_frames], axis = 0)\n",
    "test_concatenate_diff =  np.concatenate([test_still_diff, test_falling_diff], axis = 0)\n",
    "test_concatenate_labels =  np.concatenate([test_still_labels, test_falling_labels], axis = 0)\n",
    "# print(test_concatenate_frames.shape)\n",
    "# Create 224x224x4 shape for the model\n",
    "test_combined_input = combine_frames_and_diffs(test_concatenate_frames, test_concatenate_diff)\n",
    "print(combined_input.shape)\n",
    "print(test_combined_input.shape)\n",
    "# Shuffle the data if needed\n",
    "indices = np.arange(combined_input.shape[0])\n",
    "np.random.shuffle(indices)\n",
    "combined_input = combined_input[indices]\n",
    "concatenate_labels = concatenate_labels[indices]\n",
    "\n",
    "#data augmentation \n",
    "data_augmentation = tf.keras.Sequential([\n",
    "    # layers.RandomFlip(\"horizontal_and_vertical\"),\n",
    "    layers.RandomRotation(0.2),\n",
    "    layers.RandomContrast(factor=0.2)\n",
    "\n",
    "])\n"
   ]
  },
  {
   "cell_type": "code",
   "execution_count": 13,
   "metadata": {},
   "outputs": [],
   "source": [
    "# Create a TensorFlow dataset\n",
    "with tf.device('/cpu:0'):\n",
    "    dataset = tf.data.Dataset.from_tensor_slices((combined_input, concatenate_labels))\n",
    "    dataset = dataset.batch(16).prefetch(buffer_size=tf.data.AUTOTUNE)\n",
    "    test_dataset = tf.data.Dataset.from_tensor_slices((test_combined_input, test_concatenate_labels))\n",
    "    test_dataset = test_dataset.batch(16).prefetch(buffer_size=tf.data.AUTOTUNE)\n",
    "\n",
    "# Split the dataset into training and validation\n",
    "train_dataset = dataset.take(int(0.8 * len(dataset)))\n",
    "val_dataset = dataset.skip(int(0.8 * len(dataset)))\n",
    "\n",
    "# dataset = tf.data.Dataset.from_tensor_slices((combined_input, concatenate_labels))\n",
    "# Batch and prefetch if needed\n",
    "# dataset = dataset.batch(16).prefetch(buffer_size=tf.data.AUTOTUNE)"
   ]
  },
  {
   "cell_type": "markdown",
   "metadata": {},
   "source": [
    "#### Create the model"
   ]
  },
  {
   "cell_type": "code",
   "execution_count": 14,
   "metadata": {},
   "outputs": [
    {
     "name": "stdout",
     "output_type": "stream",
     "text": [
      "Model: \"model_1\"\n",
      "_________________________________________________________________\n",
      " Layer (type)                Output Shape              Param #   \n",
      "=================================================================\n",
      " combined_input (InputLayer)  [(None, 224, 224, 4)]    0         \n",
      "                                                                 \n",
      " sequential_1 (Sequential)   (None, 224, 224, 4)       0         \n",
      "                                                                 \n",
      " conv2d_3 (Conv2D)           (None, 222, 222, 32)      1184      \n",
      "                                                                 \n",
      " max_pooling2d_3 (MaxPooling  (None, 111, 111, 32)     0         \n",
      " 2D)                                                             \n",
      "                                                                 \n",
      " conv2d_4 (Conv2D)           (None, 109, 109, 64)      18496     \n",
      "                                                                 \n",
      " max_pooling2d_4 (MaxPooling  (None, 54, 54, 64)       0         \n",
      " 2D)                                                             \n",
      "                                                                 \n",
      " conv2d_5 (Conv2D)           (None, 52, 52, 128)       73856     \n",
      "                                                                 \n",
      " max_pooling2d_5 (MaxPooling  (None, 26, 26, 128)      0         \n",
      " 2D)                                                             \n",
      "                                                                 \n",
      " global_average_pooling2d_1   (None, 128)              0         \n",
      " (GlobalAveragePooling2D)                                        \n",
      "                                                                 \n",
      " dense_3 (Dense)             (None, 128)               16512     \n",
      "                                                                 \n",
      " dense_4 (Dense)             (None, 64)                8256      \n",
      "                                                                 \n",
      " dense_5 (Dense)             (None, 1)                 65        \n",
      "                                                                 \n",
      "=================================================================\n",
      "Total params: 118,369\n",
      "Trainable params: 118,369\n",
      "Non-trainable params: 0\n",
      "_________________________________________________________________\n"
     ]
    }
   ],
   "source": [
    "def create_model():\n",
    "    combined_input = Input(shape=(224, 224, 4), name='combined_input')\n",
    "\n",
    "    # Apply data augmentation here\n",
    "    x = data_augmentation(combined_input)\n",
    "\n",
    "    # Convolutional layers for image processing\n",
    "    # Convolutional layers are useful for learning spatial hierarchies and detecting features \n",
    "    x = Conv2D(32, (3, 3), activation='relu')(x) #  Convolutional layers extract spatial features from the image\n",
    "    x = MaxPooling2D((2, 2))(x) #  Max-pooling layers reduce the size of the feature maps.\n",
    "    x = Conv2D(64, (3, 3), activation='relu')(x)\n",
    "    x = MaxPooling2D((2, 2))(x)\n",
    "    x = Conv2D(128, (3, 3), activation='relu')(x)\n",
    "    x = MaxPooling2D((2, 2))(x)\n",
    "    \n",
    "    # Fully connected layers: These layers learn to make decisions based on the features extracted by the convolutional layers\n",
    "    # x = Flatten()(x) # This line flattens the 2D feature maps into a 1D vector\n",
    "    x = GlobalAveragePooling2D()(x)\n",
    "    x = Dense(128, activation='relu')(x)\n",
    "    x = Dense(64, activation='relu')(x)\n",
    "    output = Dense(1, activation='sigmoid')(x)  # Single output with sigmoid activation\n",
    "\n",
    "    model = Model(inputs=combined_input, outputs=output)\n",
    "    model.compile(optimizer='adam', loss='binary_crossentropy', metrics=['accuracy'])  # Binary cross-entropy loss\n",
    "    \n",
    "    return model\n",
    "    \n",
    "model = create_model()\n",
    "model.summary()"
   ]
  },
  {
   "cell_type": "code",
   "execution_count": 15,
   "metadata": {},
   "outputs": [
    {
     "name": "stdout",
     "output_type": "stream",
     "text": [
      "Epoch 1/5\n",
      "54/54 [==============================] - 3s 40ms/step - loss: 0.7906 - accuracy: 0.7141 - val_loss: 0.4825 - val_accuracy: 0.8333\n",
      "Epoch 2/5\n",
      "54/54 [==============================] - 2s 39ms/step - loss: 0.3707 - accuracy: 0.8507 - val_loss: 0.2282 - val_accuracy: 0.9306\n",
      "Epoch 3/5\n",
      "54/54 [==============================] - 2s 39ms/step - loss: 0.3426 - accuracy: 0.8738 - val_loss: 0.2141 - val_accuracy: 0.9398\n",
      "Epoch 4/5\n",
      "54/54 [==============================] - 2s 39ms/step - loss: 0.2935 - accuracy: 0.8854 - val_loss: 0.2182 - val_accuracy: 0.9491\n",
      "Epoch 5/5\n",
      "54/54 [==============================] - 2s 39ms/step - loss: 0.2982 - accuracy: 0.8889 - val_loss: 0.2227 - val_accuracy: 0.9398\n"
     ]
    },
    {
     "data": {
      "text/plain": [
       "<keras.callbacks.History at 0x7f46e0470820>"
      ]
     },
     "execution_count": 15,
     "metadata": {},
     "output_type": "execute_result"
    }
   ],
   "source": [
    "model.fit(train_dataset, validation_data=val_dataset, epochs=5)"
   ]
  },
  {
   "cell_type": "markdown",
   "metadata": {},
   "source": [
    "#### Save the model"
   ]
  },
  {
   "cell_type": "code",
   "execution_count": 16,
   "metadata": {},
   "outputs": [
    {
     "name": "stdout",
     "output_type": "stream",
     "text": [
      "64/64 [==============================] - 1s 11ms/step - loss: 0.4543 - accuracy: 0.7714\n"
     ]
    },
    {
     "data": {
      "text/plain": [
       "[0.4542892277240753, 0.7714285850524902]"
      ]
     },
     "execution_count": 16,
     "metadata": {},
     "output_type": "execute_result"
    }
   ],
   "source": [
    "model.evaluate(test_dataset)\n",
    "# model.save(\"m1\")"
   ]
  },
  {
   "cell_type": "markdown",
   "metadata": {},
   "source": [
    "#### Quantize and save as tflite"
   ]
  },
  {
   "cell_type": "code",
   "execution_count": 11,
   "metadata": {},
   "outputs": [
    {
     "name": "stdout",
     "output_type": "stream",
     "text": [
      "INFO:tensorflow:Assets written to: /tmp/tmprhk8dmwg/assets\n"
     ]
    },
    {
     "name": "stderr",
     "output_type": "stream",
     "text": [
      "/home/sylvia/.local/lib/python3.8/site-packages/tensorflow/lite/python/convert.py:746: UserWarning: Statistics for quantized inputs were expected, but not specified; continuing anyway.\n",
      "  warnings.warn(\"Statistics for quantized inputs were expected, but not \"\n",
      "2023-08-10 10:32:08.581405: W tensorflow/compiler/mlir/lite/python/tf_tfl_flatbuffer_helpers.cc:357] Ignored output_format.\n",
      "2023-08-10 10:32:08.581426: W tensorflow/compiler/mlir/lite/python/tf_tfl_flatbuffer_helpers.cc:360] Ignored drop_control_dependency.\n",
      "2023-08-10 10:32:08.581972: I tensorflow/cc/saved_model/reader.cc:43] Reading SavedModel from: /tmp/tmprhk8dmwg\n",
      "2023-08-10 10:32:08.584459: I tensorflow/cc/saved_model/reader.cc:78] Reading meta graph with tags { serve }\n",
      "2023-08-10 10:32:08.584471: I tensorflow/cc/saved_model/reader.cc:119] Reading SavedModel debug info (if present) from: /tmp/tmprhk8dmwg\n",
      "2023-08-10 10:32:08.593697: I tensorflow/cc/saved_model/loader.cc:228] Restoring SavedModel bundle.\n",
      "2023-08-10 10:32:08.641366: I tensorflow/cc/saved_model/loader.cc:212] Running initialization op on SavedModel bundle at path: /tmp/tmprhk8dmwg\n",
      "2023-08-10 10:32:08.658135: I tensorflow/cc/saved_model/loader.cc:301] SavedModel load for tags { serve }; Status: success: OK. Took 76166 microseconds.\n",
      "2023-08-10 10:32:08.685283: I tensorflow/compiler/mlir/tensorflow/utils/dump_mlir_util.cc:237] disabling MLIR crash reproducer, set env var `MLIR_CRASH_REPRODUCER_DIRECTORY` to enable.\n",
      "fully_quantize: 0, inference_type: 6, input_inference_type: 3, output_inference_type: 3\n"
     ]
    }
   ],
   "source": [
    "def representative_dataset():\n",
    "    for data, label in tf.data.Dataset.from_tensor_slices((combined_input, concatenate_labels)).batch(1).take(100):\n",
    "        yield [tf.dtypes.cast(data, tf.float32)]\n",
    "\n",
    "converter = tf.lite.TFLiteConverter.from_keras_model(model)\n",
    "converter.optimizations = [tf.lite.Optimize.DEFAULT]\n",
    "converter.representative_dataset = representative_dataset\n",
    "converter.target_spec.supported_ops = [tf.lite.OpsSet.TFLITE_BUILTINS_INT8]\n",
    "converter.inference_input_type = tf.uint8\n",
    "converter.inference_output_type = tf.uint8\n",
    "tflite_quant_m1 = converter.convert()\n",
    "\n",
    "# Save the quantized model 1\n",
    "with open('m1_quant.tflite', 'wb') as f: f.write(tflite_quant_m1)"
   ]
  },
  {
   "cell_type": "markdown",
   "metadata": {},
   "source": [
    "#### Pass in video for model 1 to predict to generate data for model 2"
   ]
  },
  {
   "cell_type": "code",
   "execution_count": 17,
   "metadata": {},
   "outputs": [
    {
     "name": "stdout",
     "output_type": "stream",
     "text": [
      "Input shape: [  1 224 224   4]\n",
      "Output shape: [1 1]\n"
     ]
    }
   ],
   "source": [
    "# Load TFLite model and allocate tensors.\n",
    "interpreter = tf.lite.Interpreter(model_path=\"m1_quant.tflite\")\n",
    "interpreter.allocate_tensors()\n",
    "\n",
    "input_details = interpreter.get_input_details()\n",
    "print('Input shape:', input_details[0]['shape'])\n",
    "output_details = interpreter.get_output_details()\n",
    "print('Output shape:', output_details[0]['shape'])\n",
    "\n",
    "# [1,1] u get [[1]], instead of [1]\n",
    "# idk why it wraps an extra bracket but it just does"
   ]
  },
  {
   "cell_type": "markdown",
   "metadata": {},
   "source": [
    "#### Predict with model 1 and save the results into an array"
   ]
  },
  {
   "cell_type": "code",
   "execution_count": 18,
   "metadata": {},
   "outputs": [],
   "source": [
    "def process_single_vid(path):\n",
    "    frames = []\n",
    "    frame_diffs = []\n",
    "    video_cap = cv2.VideoCapture(path)\n",
    "    \n",
    "    prev_gray_frame = None\n",
    "    \n",
    "    while video_cap.isOpened():\n",
    "        ret, frame = video_cap.read()\n",
    "        \n",
    "        if not ret:\n",
    "            break\n",
    "        \n",
    "        # Resize and convert frame to RGB\n",
    "        frame_resized = cv2.resize(frame, (224, 224))\n",
    "        frame_rgb = cv2.cvtColor(frame_resized, cv2.COLOR_BGR2RGB)\n",
    "        \n",
    "        # Convert frame to grayscale\n",
    "        gray_frame = cv2.cvtColor(frame_resized, cv2.COLOR_BGR2GRAY)\n",
    "\n",
    "        if prev_gray_frame is None:\n",
    "            frame_diff = np.zeros_like(gray_frame, dtype=np.float32)\n",
    "        else:\n",
    "            frame_diff = cv2.absdiff(prev_gray_frame, gray_frame)\n",
    "            # frame_diff = cv2.absdiff(prev_gray_frame, gray_frame) / 255.0\n",
    "        \n",
    "        prev_gray_frame = gray_frame\n",
    "        \n",
    "        frames.append(frame_rgb)\n",
    "        frame_diffs.append(frame_diff)\n",
    "\n",
    "    video_cap.release()\n",
    "    return np.array(frames), np.array(frame_diffs)\n",
    "\n",
    "def predict_single_vid(interpreter, input_data):\n",
    "    # Get the input and output details\n",
    "    input_details = interpreter.get_input_details()[0]\n",
    "    output_details = interpreter.get_output_details()[0]\n",
    "\n",
    "    # Initialize an empty list to store the results\n",
    "    results = []\n",
    "\n",
    "    # Iterate over each instance in the input data\n",
    "    for instance in input_data:\n",
    "        # Set the tensor to point to the input data to be inferred\n",
    "        interpreter.set_tensor(input_details['index'], np.expand_dims(instance, axis=0))\n",
    "\n",
    "        # Run the computation\n",
    "        interpreter.invoke()\n",
    "\n",
    "        # Get the output tensor\n",
    "        output = interpreter.get_tensor(output_details['index'])\n",
    "\n",
    "        # Append the output to the results list\n",
    "        results.append(output)\n",
    "\n",
    "    # Convert the results list to an array and return it\n",
    "    return np.array(results)\n",
    "\n",
    "def add_noise(data, noise_level=5):\n",
    "    # Convert to float\n",
    "    float_data = data.astype(np.float32)\n",
    "    \n",
    "    # Generate random noise\n",
    "    noise = np.random.uniform(-noise_level, noise_level, data.shape)\n",
    "    \n",
    "    # Add the noise to the data\n",
    "    noisy_data = float_data + noise\n",
    "    \n",
    "    # Clip values to uint8 range and convert back to uint8\n",
    "    noisy_data = np.clip(noisy_data, 0, 255).astype(np.uint8)\n",
    "    \n",
    "    return noisy_data"
   ]
  },
  {
   "cell_type": "code",
   "execution_count": 19,
   "metadata": {},
   "outputs": [],
   "source": [
    "result_8 = []\n",
    "labels = []\n",
    "for vid in falling_paths:\n",
    "    vid_frames, vid_diffs = process_single_vid(vid)\n",
    "    # reshape and combine inputs\n",
    "    combined = combine_frames_and_diffs(vid_frames, vid_diffs)\n",
    "    # convert datatype from float 32 to uint8\n",
    "    combined = combined.astype(np.uint8)\n",
    "    # print(combined)\n",
    "    # predict_single_vid\n",
    "    res = predict_single_vid(interpreter, combined)\n",
    "    # save results to array in sliding window fashion 8 at a time\n",
    "    for i in range(len(res) - 8 + 1):\n",
    "        window = res[i:i+8]\n",
    "        result_8.append(window)\n",
    "        # print(result_8)\n",
    "        labels.append(1)\n",
    "\n",
    "for vid in default_paths:\n",
    "    vid_frames, vid_diffs = process_single_vid(vid)\n",
    "    # reshape and combine inputs\n",
    "    combined = combine_frames_and_diffs(vid_frames, vid_diffs)\n",
    "    # convert datatype from float 32 to uint8\n",
    "    combined = combined.astype(np.uint8)\n",
    "    # predict_single_vid\n",
    "    res = predict_single_vid(interpreter, combined)\n",
    "    # save results to array in sliding window fashion 8 at a time\n",
    "    for i in range(len(res) - 8 + 1):\n",
    "        window = res[i:i+8]\n",
    "        result_8.append(window)\n",
    "        labels.append(0)"
   ]
  },
  {
   "cell_type": "code",
   "execution_count": 20,
   "metadata": {},
   "outputs": [
    {
     "name": "stdout",
     "output_type": "stream",
     "text": [
      "(1740, 8)\n",
      "(1740,)\n"
     ]
    }
   ],
   "source": [
    "\n",
    "result_8 = np.array(result_8)\n",
    "labels = np.array(labels)\n",
    "\n",
    "result_8 = result_8.reshape(len(result_8), 8)\n",
    "noisy_data = add_noise(result_8)\n",
    "doubled_data = np.vstack((result_8, noisy_data))\n",
    "augmented_labels = labels\n",
    "doubled_labels = np.hstack((labels, augmented_labels))\n",
    "\n",
    "print(doubled_data.shape)\n",
    "print(doubled_labels.shape)\n",
    "\n",
    "np.savetxt('model2data_augmented.txt', doubled_data, fmt='%d', delimiter=' ')\n",
    "np.savetxt('model2labels_augmented.txt', doubled_labels, fmt='%d', delimiter=' ')"
   ]
  },
  {
   "cell_type": "code",
   "execution_count": 37,
   "metadata": {},
   "outputs": [
    {
     "name": "stdout",
     "output_type": "stream",
     "text": [
      "(1740, 8)\n"
     ]
    }
   ],
   "source": [
    "X = np.loadtxt('model2data_augmented.txt', dtype=np.uint8, delimiter=' ')\n",
    "print(X.shape)\n",
    "Y = np.loadtxt('model2labels_augmented.txt', dtype=np.uint8, delimiter=' ')\n",
    "# print(Y.shape)\n",
    "\n",
    "# fall_X = np.loadtxt('./../K-optimized1-training/model1_output_fall.txt', dtype=np.uint8, delimiter=' ')\n",
    "# default_X = np.loadtxt('./../K-optimized1-training/model1_output_default.txt', dtype=np.uint8, delimiter=' ')\n",
    "# X = np.concatenate((fall_X, default_X))\n",
    "\n",
    "# fall_Y = np.ones(len(fall_X))\n",
    "# default_Y = np.zeros(len(default_X))\n",
    "\n",
    "# Y = np.concatenate((fall_Y, default_Y))\n",
    "# print(Y.shape)\n",
    "\n",
    "# Create the dataset\n",
    "dataset = tf.data.Dataset.from_tensor_slices((X, Y))\n",
    "dataset = dataset.batch(16).prefetch(buffer_size=tf.data.AUTOTUNE)"
   ]
  },
  {
   "cell_type": "markdown",
   "metadata": {},
   "source": [
    "#### Prepare testing data"
   ]
  },
  {
   "cell_type": "code",
   "execution_count": 47,
   "metadata": {},
   "outputs": [],
   "source": [
    "test_result_8 = []\n",
    "test_labels = []\n",
    "\n",
    "for vid in test_falling_paths:\n",
    "    test_vid_frames, test_vid_diffs = process_single_vid(vid)\n",
    "    # reshape and combine inputs\n",
    "    test_combined = combine_frames_and_diffs(test_vid_frames, test_vid_diffs)\n",
    "    # convert datatype from float 32 to uint8\n",
    "    test_combined = test_combined.astype(np.uint8)\n",
    "    # print(combined)\n",
    "    # predict_single_vid\n",
    "    test_res = predict_single_vid(interpreter, test_combined)\n",
    "    # save results to array in sliding window fashion 8 at a time\n",
    "    for i in range(len(test_res) - 8 + 1):\n",
    "        window = test_res[i:i+8]\n",
    "        test_result_8.append(window)\n",
    "        test_labels.append(1)\n",
    "\n",
    "for vid in test_default_paths:\n",
    "    test_vid_frames, test_vid_diffs = process_single_vid(vid)\n",
    "    # reshape and combine inputs\n",
    "    test_combined = combine_frames_and_diffs(test_vid_frames, test_vid_diffs)\n",
    "    # convert datatype from float 32 to uint8\n",
    "    test_combined = test_combined.astype(np.uint8)\n",
    "    # predict_single_vid\n",
    "    test_res = predict_single_vid(interpreter, test_combined)\n",
    "    # save results to array in sliding window fashion 8 at a time\n",
    "    for i in range(len(test_res) - 8 + 1):\n",
    "        window = test_res[i:i+8]\n",
    "        test_result_8.append(window)\n",
    "        test_labels.append(0)\n",
    "\n",
    "test_result_8 = np.array(test_result_8)\n",
    "test_labels = np.array(test_labels)\n"
   ]
  },
  {
   "cell_type": "code",
   "execution_count": 48,
   "metadata": {},
   "outputs": [
    {
     "name": "stdout",
     "output_type": "stream",
     "text": [
      "(805, 8, 1, 1)\n",
      "(805,)\n",
      "(805, 8)\n"
     ]
    }
   ],
   "source": [
    "print(test_result_8.shape)\n",
    "print(test_labels.shape)\n",
    "test_result_8 = test_result_8.reshape(len(test_result_8), 8)\n",
    "np.savetxt('model2data_test.txt', test_result_8, fmt='%d', delimiter=' ')\n",
    "np.savetxt('model2labels_test.txt', test_labels, fmt='%d', delimiter=' ')\n",
    "print(test_result_8.shape)"
   ]
  },
  {
   "cell_type": "code",
   "execution_count": 49,
   "metadata": {},
   "outputs": [
    {
     "name": "stdout",
     "output_type": "stream",
     "text": [
      "(805, 8)\n",
      "(805,)\n"
     ]
    }
   ],
   "source": [
    "test_X = np.loadtxt('model2data_test.txt', dtype=np.uint8, delimiter=' ')\n",
    "print(test_X.shape)\n",
    "test_Y = np.loadtxt('model2labels_test.txt', dtype=np.uint8, delimiter=' ')\n",
    "print(test_Y.shape)\n",
    "\n",
    "# test_fall_X = np.loadtxt('./../K-optimized1-training/model1_output_fall_test.txt', dtype=np.uint8, delimiter=' ')\n",
    "# test_default_X = np.loadtxt('./../K-optimized1-training/model1_output_default_test.txt', dtype=np.uint8, delimiter=' ')\n",
    "# test_X = np.concatenate((test_fall_X, test_default_X))\n",
    "\n",
    "# test_fall_Y = np.ones(len(test_fall_X))\n",
    "# test_default_Y = np.zeros(len(test_default_X))\n",
    "\n",
    "# test_Y = np.concatenate((test_fall_Y, test_default_Y))\n",
    "# print(test_Y.shape)\n",
    "\n",
    "# Create the dataset\n",
    "test_dataset = tf.data.Dataset.from_tensor_slices((test_X, test_Y))\n",
    "test_dataset = test_dataset.batch(16).prefetch(buffer_size=tf.data.AUTOTUNE)"
   ]
  },
  {
   "cell_type": "markdown",
   "metadata": {},
   "source": [
    "#### Create model 2"
   ]
  },
  {
   "cell_type": "code",
   "execution_count": 45,
   "metadata": {},
   "outputs": [
    {
     "name": "stdout",
     "output_type": "stream",
     "text": [
      "Model: \"model_8\"\n",
      "_________________________________________________________________\n",
      " Layer (type)                Output Shape              Param #   \n",
      "=================================================================\n",
      " input_layer (InputLayer)    [(None, 8)]               0         \n",
      "                                                                 \n",
      " dense_41 (Dense)            (None, 64)                576       \n",
      "                                                                 \n",
      " dropout_2 (Dropout)         (None, 64)                0         \n",
      "                                                                 \n",
      " dense_42 (Dense)            (None, 32)                2080      \n",
      "                                                                 \n",
      " dropout_3 (Dropout)         (None, 32)                0         \n",
      "                                                                 \n",
      " dense_43 (Dense)            (None, 16)                528       \n",
      "                                                                 \n",
      " dense_44 (Dense)            (None, 1)                 17        \n",
      "                                                                 \n",
      "=================================================================\n",
      "Total params: 3,201\n",
      "Trainable params: 3,201\n",
      "Non-trainable params: 0\n",
      "_________________________________________________________________\n"
     ]
    }
   ],
   "source": [
    "def create_model_2():\n",
    "    input_shape = (8, )  # Input shape for the sequence of 8 uint8 values\n",
    "    \n",
    "    # Define the model\n",
    "    input_layer = Input(shape=input_shape, dtype='uint8', name='input_layer')\n",
    "    \n",
    "    # Several dense layers to extract features and relationships\n",
    "    x = Dense(64, activation='relu')(input_layer)\n",
    "    x = Dropout(0.5)(x)\n",
    "    x = Dense(32, activation='relu')(x)\n",
    "    x = Dropout(0.5)(x)\n",
    "    x = Dense(16, activation='relu')(x)\n",
    "    \n",
    "    # Output layer\n",
    "    output = Dense(1, activation='sigmoid')(x)\n",
    "\n",
    "    # Create and compile the model\n",
    "    model = Model(inputs=input_layer, outputs=output)\n",
    "    model.compile(optimizer='adam', loss='binary_crossentropy', metrics=['accuracy'])\n",
    "    \n",
    "    return model\n",
    "\n",
    "model_2 = create_model_2()\n",
    "model_2.summary()"
   ]
  },
  {
   "cell_type": "markdown",
   "metadata": {},
   "source": [
    "#### Prepare Tensorflow dataset"
   ]
  },
  {
   "cell_type": "code",
   "execution_count": 46,
   "metadata": {},
   "outputs": [
    {
     "name": "stdout",
     "output_type": "stream",
     "text": [
      "Epoch 1/15\n",
      "87/87 [==============================] - 0s 2ms/step - loss: 6.4268 - accuracy: 0.5352\n",
      "Epoch 2/15\n",
      "87/87 [==============================] - 0s 2ms/step - loss: 2.1799 - accuracy: 0.5675\n",
      "Epoch 3/15\n",
      "87/87 [==============================] - 0s 2ms/step - loss: 1.1681 - accuracy: 0.5977\n",
      "Epoch 4/15\n",
      "87/87 [==============================] - 0s 2ms/step - loss: 0.9399 - accuracy: 0.6128\n",
      "Epoch 5/15\n",
      "87/87 [==============================] - 0s 2ms/step - loss: 0.7069 - accuracy: 0.6466\n",
      "Epoch 6/15\n",
      "87/87 [==============================] - 0s 2ms/step - loss: 0.5736 - accuracy: 0.6861\n",
      "Epoch 7/15\n",
      "87/87 [==============================] - 0s 2ms/step - loss: 0.5787 - accuracy: 0.6990\n",
      "Epoch 8/15\n",
      "87/87 [==============================] - 0s 2ms/step - loss: 0.5263 - accuracy: 0.7392\n",
      "Epoch 9/15\n",
      "87/87 [==============================] - 0s 6ms/step - loss: 0.4821 - accuracy: 0.7608\n",
      "Epoch 10/15\n",
      "87/87 [==============================] - 0s 5ms/step - loss: 0.4655 - accuracy: 0.7751\n",
      "Epoch 11/15\n",
      "87/87 [==============================] - 0s 2ms/step - loss: 0.4464 - accuracy: 0.7795\n",
      "Epoch 12/15\n",
      "87/87 [==============================] - 0s 2ms/step - loss: 0.4200 - accuracy: 0.8147\n",
      "Epoch 13/15\n",
      "87/87 [==============================] - 1s 7ms/step - loss: 0.4021 - accuracy: 0.8204\n",
      "Epoch 14/15\n",
      "87/87 [==============================] - 1s 8ms/step - loss: 0.3928 - accuracy: 0.8226\n",
      "Epoch 15/15\n",
      "87/87 [==============================] - 1s 6ms/step - loss: 0.3723 - accuracy: 0.8305\n"
     ]
    },
    {
     "data": {
      "text/plain": [
       "<keras.callbacks.History at 0x7f4660185f70>"
      ]
     },
     "execution_count": 46,
     "metadata": {},
     "output_type": "execute_result"
    }
   ],
   "source": [
    "model_2.fit(train_dataset, epochs=15)"
   ]
  },
  {
   "cell_type": "code",
   "execution_count": 50,
   "metadata": {},
   "outputs": [
    {
     "name": "stdout",
     "output_type": "stream",
     "text": [
      "51/51 [==============================] - 1s 2ms/step - loss: 0.3853 - accuracy: 0.9031\n"
     ]
    },
    {
     "data": {
      "text/plain": [
       "[0.3853498101234436, 0.903105616569519]"
      ]
     },
     "execution_count": 50,
     "metadata": {},
     "output_type": "execute_result"
    }
   ],
   "source": [
    "model_2.evaluate(test_dataset)"
   ]
  },
  {
   "cell_type": "code",
   "execution_count": 58,
   "metadata": {},
   "outputs": [
    {
     "name": "stdout",
     "output_type": "stream",
     "text": [
      "uint8\n",
      "INFO:tensorflow:Assets written to: /tmp/tmp292xj75e/assets\n"
     ]
    },
    {
     "name": "stderr",
     "output_type": "stream",
     "text": [
      "INFO:tensorflow:Assets written to: /tmp/tmp292xj75e/assets\n",
      "/home/sylvia/.local/lib/python3.8/site-packages/tensorflow/lite/python/convert.py:746: UserWarning: Statistics for quantized inputs were expected, but not specified; continuing anyway.\n",
      "  warnings.warn(\"Statistics for quantized inputs were expected, but not \"\n",
      "2023-08-10 11:56:01.314078: W tensorflow/compiler/mlir/lite/python/tf_tfl_flatbuffer_helpers.cc:357] Ignored output_format.\n",
      "2023-08-10 11:56:01.314096: W tensorflow/compiler/mlir/lite/python/tf_tfl_flatbuffer_helpers.cc:360] Ignored drop_control_dependency.\n",
      "2023-08-10 11:56:01.314263: I tensorflow/cc/saved_model/reader.cc:43] Reading SavedModel from: /tmp/tmp292xj75e\n",
      "2023-08-10 11:56:01.315334: I tensorflow/cc/saved_model/reader.cc:78] Reading meta graph with tags { serve }\n",
      "2023-08-10 11:56:01.315345: I tensorflow/cc/saved_model/reader.cc:119] Reading SavedModel debug info (if present) from: /tmp/tmp292xj75e\n",
      "2023-08-10 11:56:01.318627: I tensorflow/cc/saved_model/loader.cc:228] Restoring SavedModel bundle.\n",
      "2023-08-10 11:56:01.350832: I tensorflow/cc/saved_model/loader.cc:212] Running initialization op on SavedModel bundle at path: /tmp/tmp292xj75e\n",
      "2023-08-10 11:56:01.361066: I tensorflow/cc/saved_model/loader.cc:301] SavedModel load for tags { serve }; Status: success: OK. Took 46803 microseconds.\n",
      "fully_quantize: 0, inference_type: 6, input_inference_type: 3, output_inference_type: 3\n"
     ]
    }
   ],
   "source": [
    "print(X.dtype)\n",
    "def representative_dataset_2():\n",
    "    for i in range(len(X)):\n",
    "        # Reshape your data to match the input shape of your model\n",
    "        # In your case, it looks like each sample in the input data is already in the correct shape\n",
    "        sample = X[i:i+1]  # Extract 1 sample and keep it as a 2D array\n",
    "        sample = X[i:i+1].astype(np.uint8)\n",
    "        yield [sample]\n",
    "\n",
    "# Convert the model to the TensorFlow Lite format with quantization\n",
    "converter = tf.lite.TFLiteConverter.from_keras_model(model_2)\n",
    "# Set the optimization mode to default. This will quantize the model\n",
    "converter.optimizations = [tf.lite.Optimize.DEFAULT]\n",
    "# Provide a representative dataset to guide the quantization process\n",
    "converter.representative_dataset = representative_dataset_2\n",
    "# Ensure that if any ops can't be quantized, the converter throws an error\n",
    "converter.target_spec.supported_ops = [tf.lite.OpsSet.TFLITE_BUILTINS_INT8]\n",
    "# Set the input and output tensors to uint8 (APIs added in r2.3)\n",
    "converter.inference_input_type = tf.uint8\n",
    "converter.inference_output_type = tf.uint8\n",
    "\n",
    "tflite_model = converter.convert()\n",
    "\n",
    "# Save the model to disk\n",
    "with open('m2_quant.tflite', 'wb') as f: f.write(tflite_model)\n",
    "\n",
    "# Save the quantized model 1\n",
    "# with open('m2_quant.tflite', 'wb') as f: f.write(tflite_quant_m2)"
   ]
  },
  {
   "cell_type": "markdown",
   "metadata": {},
   "source": [
    "#### Checking input / output of model"
   ]
  },
  {
   "cell_type": "code",
   "execution_count": 59,
   "metadata": {},
   "outputs": [
    {
     "name": "stdout",
     "output_type": "stream",
     "text": [
      "Input shape: [1 8]\n",
      "Output shape: [1 1]\n"
     ]
    },
    {
     "name": "stderr",
     "output_type": "stream",
     "text": [
      "INFO: Created TensorFlow Lite XNNPACK delegate for CPU.\n"
     ]
    }
   ],
   "source": [
    "# Load TFLite model and allocate tensors.\n",
    "interpreter_2 = tf.lite.Interpreter(model_path=\"m2_quant.tflite\")\n",
    "interpreter_2.allocate_tensors()\n",
    "\n",
    "input_details = interpreter_2.get_input_details()\n",
    "print('Input shape:', input_details[0]['shape'])\n",
    "output_details = interpreter_2.get_output_details()\n",
    "print('Output shape:', output_details[0]['shape'])"
   ]
  },
  {
   "cell_type": "code",
   "execution_count": null,
   "metadata": {},
   "outputs": [],
   "source": []
  }
 ],
 "metadata": {
  "kernelspec": {
   "display_name": "Python 3",
   "language": "python",
   "name": "python3"
  },
  "language_info": {
   "codemirror_mode": {
    "name": "ipython",
    "version": 3
   },
   "file_extension": ".py",
   "mimetype": "text/x-python",
   "name": "python",
   "nbconvert_exporter": "python",
   "pygments_lexer": "ipython3",
   "version": "3.8.10"
  },
  "orig_nbformat": 4
 },
 "nbformat": 4,
 "nbformat_minor": 2
}
