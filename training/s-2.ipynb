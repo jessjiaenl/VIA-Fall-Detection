{
 "cells": [
  {
   "cell_type": "code",
   "execution_count": 24,
   "metadata": {},
   "outputs": [],
   "source": [
    "import tensorflow as tf\n",
    "import tensorflow_datasets as tfds\n",
    "import numpy as np"
   ]
  },
  {
   "cell_type": "code",
   "execution_count": 25,
   "metadata": {},
   "outputs": [
    {
     "name": "stdout",
     "output_type": "stream",
     "text": [
      "Virtual devices cannot be modified after being initialized\n"
     ]
    }
   ],
   "source": [
    "gpus = tf.config.list_physical_devices('GPU')\n",
    "if gpus:\n",
    "    # Restrict TensorFlow to only allocate 2GB of memory on the first GPU\n",
    "    try:\n",
    "        tf.config.set_logical_device_configuration(gpus[0], [tf.config.LogicalDeviceConfiguration(memory_limit=2048)])\n",
    "        logical_gpus = tf.config.list_logical_devices('GPU')\n",
    "        print(len(gpus), \"Physical GPUs,\", len(logical_gpus), \"Logical GPUs\")\n",
    "    except RuntimeError as e:\n",
    "        # Virtual devices must be set before GPUs have been initialized\n",
    "        print(e)"
   ]
  },
  {
   "cell_type": "code",
   "execution_count": 26,
   "metadata": {},
   "outputs": [],
   "source": [
    "default_data = np.loadtxt('./datasets/model2_data/default.txt')\n",
    "falling_data = np.loadtxt('./datasets/model2_data/falling.txt')\n",
    "\n",
    "inputs = np.concatenate((default_data, falling_data))\n",
    "outputs = np.concatenate((np.zeros(len(default_data)), np.ones(len(falling_data))))\n",
    "\n",
    "# Convert inputs and outputs to TensorFlow Dataset\n",
    "dataset = tf.data.Dataset.from_tensor_slices((inputs, outputs))\n",
    "dataset = dataset.shuffle(len(inputs)).batch(128)"
   ]
  },
  {
   "cell_type": "code",
   "execution_count": 27,
   "metadata": {},
   "outputs": [],
   "source": [
    "model = tf.keras.models.Sequential([\n",
    "    tf.keras.layers.Dense(128, activation='relu', input_shape=(16,)),\n",
    "    tf.keras.layers.Dense(1, activation='sigmoid')\n",
    "])\n",
    "\n",
    "# Compile the model\n",
    "model.compile(optimizer='adam', loss='binary_crossentropy', metrics=['accuracy'])"
   ]
  },
  {
   "cell_type": "code",
   "execution_count": 28,
   "metadata": {},
   "outputs": [
    {
     "name": "stdout",
     "output_type": "stream",
     "text": [
      "Epoch 1/12\n",
      "5/5 [==============================] - 0s 2ms/step - loss: 0.6859 - accuracy: 0.7215\n",
      "Epoch 2/12\n",
      "5/5 [==============================] - 0s 2ms/step - loss: 0.6640 - accuracy: 0.7667\n",
      "Epoch 3/12\n",
      "5/5 [==============================] - 0s 1ms/step - loss: 0.6487 - accuracy: 0.7740\n",
      "Epoch 4/12\n",
      "5/5 [==============================] - 0s 1ms/step - loss: 0.6352 - accuracy: 0.8011\n",
      "Epoch 5/12\n",
      "5/5 [==============================] - 0s 1ms/step - loss: 0.6206 - accuracy: 0.8282\n",
      "Epoch 6/12\n",
      "5/5 [==============================] - 0s 2ms/step - loss: 0.6079 - accuracy: 0.8318\n",
      "Epoch 7/12\n",
      "5/5 [==============================] - 0s 2ms/step - loss: 0.5928 - accuracy: 0.8354\n",
      "Epoch 8/12\n",
      "5/5 [==============================] - 0s 3ms/step - loss: 0.5798 - accuracy: 0.8354\n",
      "Epoch 9/12\n",
      "5/5 [==============================] - 0s 4ms/step - loss: 0.5647 - accuracy: 0.8373\n",
      "Epoch 10/12\n",
      "5/5 [==============================] - 0s 5ms/step - loss: 0.5511 - accuracy: 0.8373\n",
      "Epoch 11/12\n",
      "5/5 [==============================] - 0s 5ms/step - loss: 0.5376 - accuracy: 0.8336\n",
      "Epoch 12/12\n",
      "5/5 [==============================] - 0s 4ms/step - loss: 0.5241 - accuracy: 0.8336\n"
     ]
    },
    {
     "data": {
      "text/plain": [
       "<keras.callbacks.History at 0x7f7f5424b460>"
      ]
     },
     "execution_count": 28,
     "metadata": {},
     "output_type": "execute_result"
    }
   ],
   "source": [
    "model.fit(dataset, epochs=12)"
   ]
  },
  {
   "cell_type": "code",
   "execution_count": 29,
   "metadata": {},
   "outputs": [
    {
     "name": "stdout",
     "output_type": "stream",
     "text": [
      "INFO:tensorflow:Assets written to: s-model2/assets\n"
     ]
    },
    {
     "name": "stderr",
     "output_type": "stream",
     "text": [
      "2023-05-31 15:04:19.780987: W tensorflow/python/util/util.cc:368] Sets are not currently considered sequences, but this may change in the future, so consider avoiding using them.\n"
     ]
    }
   ],
   "source": [
    "model.save(\"s-model2\")"
   ]
  },
  {
   "cell_type": "code",
   "execution_count": null,
   "metadata": {},
   "outputs": [],
   "source": []
  }
 ],
 "metadata": {
  "kernelspec": {
   "display_name": "Python 3",
   "language": "python",
   "name": "python3"
  },
  "language_info": {
   "codemirror_mode": {
    "name": "ipython",
    "version": 3
   },
   "file_extension": ".py",
   "mimetype": "text/x-python",
   "name": "python",
   "nbconvert_exporter": "python",
   "pygments_lexer": "ipython3",
   "version": "3.8.10"
  },
  "orig_nbformat": 4
 },
 "nbformat": 4,
 "nbformat_minor": 2
}
