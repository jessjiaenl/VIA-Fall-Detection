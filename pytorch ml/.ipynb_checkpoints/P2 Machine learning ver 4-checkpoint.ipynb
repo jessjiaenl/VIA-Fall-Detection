{
 "cells": [
  {
   "cell_type": "markdown",
   "id": "31352dfb",
   "metadata": {},
   "source": [
    "## P2 Machine Learning "
   ]
  },
  {
   "cell_type": "code",
   "execution_count": 7,
   "id": "73730f39",
   "metadata": {},
   "outputs": [],
   "source": [
    "# All the needed imports\n",
    "import torch\n",
    "from torch import nn\n",
    "from torch.utils.data import DataLoader\n",
    "from torchvision import datasets\n",
    "from torchvision.transforms import ToTensor, Lambda, Compose\n",
    "import matplotlib.pyplot as plt\n",
    "from torch.utils.data.dataset import Dataset\n",
    "import glob\n",
    "from PIL import Image\n",
    "import numpy as np\n",
    "import os\n",
    "\n",
    "import torch.nn.functional as F\n",
    "from torchvision import transforms\n",
    "import torchvision\n",
    "\n",
    "\n",
    "\n",
    "# Paper = 0, Rock = 1, Scissors = 2"
   ]
  },
  {
   "cell_type": "code",
   "execution_count": 8,
   "id": "76bffd04",
   "metadata": {},
   "outputs": [],
   "source": [
    "class CustomDatasetFromFile(Dataset):\n",
    "    def __init__(self, folder_path, transform=None):\n",
    "        \"\"\"\n",
    "        A dataset example where the class is embedded in the file names\n",
    "        This data example also does not use any torch transforms\n",
    "\n",
    "        Args:\n",
    "            folder_path (string): path to image folder\n",
    "        \"\"\"\n",
    "        # Get image list\n",
    "        self.image_list = glob.glob(folder_path+'*/*/*')\n",
    "        # Calculate len\n",
    "        self.data_len = len(self.image_list)\n",
    "        # Set up transform\n",
    "        self.transform = transform\n",
    "\n",
    "    def __getitem__(self, index):\n",
    "        # Get image name from the pandas df\n",
    "        single_image_path = self.image_list[index]\n",
    "        # Open image\n",
    "        img = Image.open(single_image_path)\n",
    "\n",
    "        if self.transform is not None:\n",
    "            img = self.transform(img)\n",
    "        \n",
    "        \"\"\"\n",
    "        # Do some operations on image\n",
    "        # Convert to numpy, dim = 28x28\n",
    "        im_as_np = np.asarray(im_as_im)/255\n",
    "        # Add channel dimension, dim = 1x28x28\n",
    "        # Note: You do not need to do this if you are reading RGB images\n",
    "        # or i there is already channel dimension\n",
    "        im_as_np = np.expand_dims(im_as_np, 0)\n",
    "        # Some preprocessing operations on numpy array\n",
    "        # ...\n",
    "        # ...\n",
    "        # ...\n",
    "\n",
    "        # Transform image to tensor, change data type\n",
    "        im_as_ten = torch.from_numpy(im_as_np).float()\n",
    "        \"\"\"\n",
    "        \n",
    "        # Get label(class) of the image based on the file name\n",
    "        #class_indicator_location = single_image_path.rfind('_c')\n",
    "        class_indicator_location = os.path.basename(os.path.dirname(single_image_path))\n",
    "        if class_indicator_location == \"rock\":\n",
    "            label = 1\n",
    "        elif class_indicator_location == \"scissors\":\n",
    "            label = 2\n",
    "        else:\n",
    "            label = 0\n",
    "            \n",
    "        #img = img.unsqueeze(0)\n",
    "            \n",
    "        #label = F.one_hot(label, num_classes=3)\n",
    "        #label = int(single_image_path[class_indicator_location+2:class_indicator_location+3])\n",
    "        return (img, label)\n",
    "\n",
    "    def __len__(self):\n",
    "        return self.data_len"
   ]
  },
  {
   "cell_type": "code",
   "execution_count": 9,
   "id": "f69ff374",
   "metadata": {},
   "outputs": [],
   "source": [
    "transform = transforms.Compose(\n",
    "    [transforms.ToTensor(),\n",
    "     transforms.Normalize(mean=.5, std=0.5)])\n",
    "\"\"\"\n",
    "batch_size = 64\n",
    "\n",
    "trainset = torchvision.datasets.CIFAR10(root='./data', train=True,\n",
    "                                        download=True, transform=transform)\n",
    "trainloader = torch.utils.data.DataLoader(trainset, batch_size=batch_size,\n",
    "                                          shuffle=True, num_workers=2)\n",
    "\n",
    "testset = torchvision.datasets.CIFAR10(root='./data', train=False,\n",
    "                                       download=True, transform=transform)\n",
    "testloader = torch.utils.data.DataLoader(testset, batch_size=batch_size,\n",
    "                                         shuffle=False, num_workers=2)\"\"\""
   ]
  },
  {
   "cell_type": "code",
   "execution_count": 10,
   "id": "481ff0d2",
   "metadata": {},
   "outputs": [
    {
     "data": {
      "text/plain": [
       "\"\\nbatch_size = 64\\n\\ntrainset = torchvision.datasets.CIFAR10(root='./data', train=True,\\n                                        download=True, transform=transform)\\ntrainloader = torch.utils.data.DataLoader(trainset, batch_size=batch_size,\\n                                          shuffle=True, num_workers=2)\\n\\ntestset = torchvision.datasets.CIFAR10(root='./data', train=False,\\n                                       download=True, transform=transform)\\ntestloader = torch.utils.data.DataLoader(testset, batch_size=batch_size,\\n                                         shuffle=False, num_workers=2)\""
      ]
     },
     "execution_count": 10,
     "metadata": {},
     "output_type": "execute_result"
    }
   ],
   "source": [
    "custom_data_train = CustomDatasetFromFile(r\"C:\\Users\\Sylvia Chen\\Lab4\\data\\P2\\training2\", transform)\n",
    "custom_data_test = CustomDatasetFromFile(r\"C:\\Users\\Sylvia Chen\\Lab4\\data\\P2\\testing2\", transform)\n",
    "\n",
    "#training_data = CustomDatasetFromFile(r\"C:\\Users\\Sylvia Chen\\Lab4\\data\\P2\\training2\")\n",
    "#test_data = CustomDatasetFromFile(r\"C:\\Users\\Sylvia Chen\\Lab4\\data\\P2\\testing2\")"
   ]
  },
  {
   "cell_type": "code",
   "execution_count": 11,
   "id": "19e468aa",
   "metadata": {},
   "outputs": [],
   "source": [
    "# Create data loaders.\n",
    "\n",
    "batch_size = 64\n",
    "\n",
    "trainloader = DataLoader(custom_data_train, batch_size=batch_size, shuffle=True)\n",
    "testloader = DataLoader(custom_data_test, batch_size=batch_size, shuffle=True)\n",
    "\n",
    "#print(len(test_dataloader))\n",
    "\n",
    "for X, y in testloader:\n",
    "    print(\"Shape of X [N, C, H, W]: \", X.shape)\n",
    "    print(\"Shape of y: \", y.shape, y.dtype)\n",
    "    break"
   ]
  },
  {
   "cell_type": "code",
   "execution_count": 12,
   "id": "a5405f4b",
   "metadata": {},
   "outputs": [
    {
     "name": "stdout",
     "output_type": "stream",
     "text": [
      "Shape of X [N, C, H, W]:  torch.Size([64, 1, 28, 28])\n",
      "Shape of y:  torch.Size([64]) torch.int64\n"
     ]
    }
   ],
   "source": [
    "class_names = [\n",
    "    \"paper\",\n",
    "    \"rock\",\n",
    "    \"scissors\",\n",
    "]\n",
    "\n",
    "def imshow(inp, title=None):\n",
    "    \"\"\"Imshow for Tensor.\"\"\"\n",
    "    inp = inp.numpy().transpose((1, 2, 0))\n",
    "    mean = np.array([0.485, 0.456, 0.406])\n",
    "    std = np.array([0.229, 0.224, 0.225])\n",
    "    inp = std * inp + mean\n",
    "    inp = np.clip(inp, 0, 1)\n",
    "    plt.imshow(inp)\n",
    "    if title is not None:\n",
    "        plt.title(title)\n",
    "    plt.pause(0.001)  # pause a bit so that plots are updated\n",
    "# Get a batch of training data\n",
    "inputs, classes = next(iter(trainloader))\n",
    "# Make a grid from batch\n",
    "out = torchvision.utils.make_grid(inputs)\n",
    "imshow(out,title=[class_names[x] for x in classes])"
   ]
  },
  {
   "cell_type": "code",
   "execution_count": 13,
   "id": "9ba900bc",
   "metadata": {},
   "outputs": [
    {
     "data": {
      "image/png": "[encoded data removed]",
      "text/plain": [
       "<Figure size 432x288 with 1 Axes>"
      ]
     },
     "metadata": {
      "needs_background": "light"
     },
     "output_type": "display_data"
    }
   ],
   "source": [
    "# Get cpu or gpu device for training.\n",
    "device = \"cuda\" if torch.cuda.is_available() else \"cpu\"\n",
    "print(\"Using {} device\".format(device))\n",
    "\n",
    "# Define an NN model\n",
    "class NeuralNetwork(nn.Module):\n",
    "    def __init__(self):\n",
    "        super(NeuralNetwork, self).__init__()\n",
    "        self.flatten = nn.Flatten()\n",
    "        self.classifier = nn.Sequential(\n",
    "            #nn.Flatten(),\n",
    "            nn.Linear(1568, 512),\n",
    "            nn.ReLU(True),\n",
    "            nn.Dropout(),\n",
    "            nn.Linear(512, 512),\n",
    "            nn.ReLU(True),\n",
    "            nn.Dropout(),\n",
    "            nn.Linear(512, 3), #3\n",
    "            #nn.ReLU(True),\n",
    "            #nn.Dropout(),\n",
    "            #nn.Linear(10, 3)\n",
    "        )\n",
    "        \n",
    "        self.conv1 = nn.Sequential(nn.Conv2d(1, 16, 3, padding=1), nn.ReLU(True))\n",
    "        self.conv2 = nn.Sequential(nn.Conv2d(16, 16, 3, padding=1), nn.ReLU(True))\n",
    "        self.maxp1 = nn.MaxPool2d(2, 2)\n",
    "        self.conv3 = nn.Sequential(nn.Conv2d(16, 32, 3, padding=1), nn.ReLU(True))\n",
    "        self.conv4 = nn.Sequential(nn.Conv2d(32, 32, 3, padding=1), nn.ReLU(True))\n",
    "        self.conv5 = nn.Sequential(nn.Conv2d(32, 32, 3, padding=1), nn.ReLU(True))\n",
    "        self.maxp2 = nn.MaxPool2d(2, 2)\n",
    "        #self.aap1 = nn.AdaptiveAvgPool2d(7)\n",
    "\n",
    "    def forward(self, x):\n",
    "        x = self.conv1(x)\n",
    "        x = self.conv2(x)\n",
    "        x = self.maxp1(x)\n",
    "        x = self.conv3(x)\n",
    "        x = self.conv4(x)\n",
    "        x = self.conv5(x)\n",
    "        x = self.maxp2(x)\n",
    "        #x = self.aap1(x)\n",
    "        x = torch.flatten(x, 1)\n",
    "        logits = self.classifier(x)\n",
    "        #softmax = nn.Softmax(1)\n",
    "        return logits #softmax(logits)\n",
    "\n",
    "\"\"\"\n",
    "class NeuralNetwork(nn.Module):\n",
    "    def __init__(self):\n",
    "        super().__init__()\n",
    "        self.conv1 = nn.Conv2d(1, 8, 5)\n",
    "        self.pool = nn.MaxPool2d(2, 2)\n",
    "        self.conv2 = nn.Conv2d(8, 16, 5)\n",
    "        self.fc1 = nn.Linear(16*16, 120)\n",
    "        self.fc2 = nn.Linear(120, 84)\n",
    "        self.fc3 = nn.Linear(84, 3)\n",
    "\n",
    "    def forward(self, x):\n",
    "        x = self.pool(F.relu(self.conv1(x)))\n",
    "        x = self.pool(F.relu(self.conv2(x)))\n",
    "        x = torch.flatten(x, 1) # flatten all dimensions except batch\n",
    "        x = F.relu(self.fc1(x))\n",
    "        x = F.relu(self.fc2(x))\n",
    "        x = self.fc3(x)\n",
    "        return x\n",
    "\"\"\"\n",
    "\n",
    "model = NeuralNetwork().to(device)\n",
    "print(model)"
   ]
  },
  {
   "cell_type": "code",
   "execution_count": 14,
   "id": "7510e092",
   "metadata": {},
   "outputs": [
    {
     "name": "stdout",
     "output_type": "stream",
     "text": [
      "Using cpu device\n",
      "NeuralNetwork(\n",
      "  (flatten): Flatten(start_dim=1, end_dim=-1)\n",
      "  (classifier): Sequential(\n",
      "    (0): Linear(in_features=1568, out_features=512, bias=True)\n",
      "    (1): ReLU(inplace=True)\n",
      "    (2): Dropout(p=0.5, inplace=False)\n",
      "    (3): Linear(in_features=512, out_features=512, bias=True)\n",
      "    (4): ReLU(inplace=True)\n",
      "    (5): Dropout(p=0.5, inplace=False)\n",
      "    (6): Linear(in_features=512, out_features=3, bias=True)\n",
      "  )\n",
      "  (conv1): Sequential(\n",
      "    (0): Conv2d(1, 16, kernel_size=(3, 3), stride=(1, 1), padding=(1, 1))\n",
      "    (1): ReLU(inplace=True)\n",
      "  )\n",
      "  (conv2): Sequential(\n",
      "    (0): Conv2d(16, 16, kernel_size=(3, 3), stride=(1, 1), padding=(1, 1))\n",
      "    (1): ReLU(inplace=True)\n",
      "  )\n",
      "  (maxp1): MaxPool2d(kernel_size=2, stride=2, padding=0, dilation=1, ceil_mode=False)\n",
      "  (conv3): Sequential(\n",
      "    (0): Conv2d(16, 32, kernel_size=(3, 3), stride=(1, 1), padding=(1, 1))\n",
      "    (1): ReLU(inplace=True)\n",
      "  )\n",
      "  (conv4): Sequential(\n",
      "    (0): Conv2d(32, 32, kernel_size=(3, 3), stride=(1, 1), padding=(1, 1))\n",
      "    (1): ReLU(inplace=True)\n",
      "  )\n",
      "  (conv5): Sequential(\n",
      "    (0): Conv2d(32, 32, kernel_size=(3, 3), stride=(1, 1), padding=(1, 1))\n",
      "    (1): ReLU(inplace=True)\n",
      "  )\n",
      "  (maxp2): MaxPool2d(kernel_size=2, stride=2, padding=0, dilation=1, ceil_mode=False)\n",
      ")\n"
     ]
    },
    {
     "name": "stderr",
     "output_type": "stream",
     "text": [
      "D:\\Anaconda\\lib\\site-packages\\torch\\cuda\\__init__.py:80: UserWarning: CUDA initialization: CUDA driver initialization failed, you might not have a CUDA gpu. (Triggered internally at  ..\\c10\\cuda\\CUDAFunctions.cpp:112.)\n",
      "  return torch._C._cuda_getDeviceCount() > 0\n"
     ]
    }
   ],
   "source": [
    "# Set the loss and optimizer to be used in the next next cell\n",
    "loss_fn = nn.CrossEntropyLoss()\n",
    "optimizer = torch.optim.Adam(model.parameters(), lr=1e-3) #, momentum=.5)"
   ]
  },
  {
   "cell_type": "code",
   "execution_count": 15,
   "id": "52632ea3",
   "metadata": {},
   "outputs": [],
   "source": [
    "# The following two functions are used in the next cell.\n",
    "def train(dataloader, model, loss_fn, optimizer):\n",
    "    size = len(dataloader.dataset)\n",
    "    #print(size)\n",
    "    model.train()\n",
    "    for batch, (X, y) in enumerate(dataloader):\n",
    "        X, y = X.to(device), y.to(device)\n",
    "\n",
    "        # Compute prediction error\n",
    "        pred = model(X)\n",
    "        #softmax = nn.Softmax(1)\n",
    "        #pred = softmax(pred)\n",
    "        #print(pred)\n",
    "        loss = loss_fn(pred, y)\n",
    "\n",
    "        # Backpropagation\n",
    "        optimizer.zero_grad()\n",
    "        loss.backward()\n",
    "        optimizer.step()\n",
    "\n",
    "        if batch % 20 == 0:\n",
    "            loss, current = loss.item(), batch * len(X)\n",
    "            print(f\"loss: {loss:>7f}  [{current:>5d}/{size:>5d}]\")\n",
    "\n",
    "def test(dataloader, model, loss_fn):\n",
    "    size = len(dataloader.dataset)\n",
    "    num_batches = len(dataloader)\n",
    "    #print(size)\n",
    "    #print(num_batches)\n",
    "    model.eval()\n",
    "    test_loss, correct = 0, 0\n",
    "    #count = 0\n",
    "    with torch.no_grad():\n",
    "        for X, y in dataloader:\n",
    "            X, y = X.to(device), y.to(device)\n",
    "            pred = model(X)\n",
    "            #softmax = nn.Softmax(1)\n",
    "            #pred = softmax(pred)\n",
    "            test_loss += loss_fn(pred, y).item()\n",
    "            correct += (pred.argmax(1) == y).type(torch.float).sum().item()\n",
    "            #print(pred)\n",
    "            print(pred.argmax(1))\n",
    "            #print(y)\n",
    "            #print(correct)\n",
    "            #count += 1\n",
    "            #print(count)\n",
    "    test_loss /= num_batches\n",
    "    correct /= size\n",
    "    #print(correct)\n",
    "    print(f\"Test Error: \\n Accuracy: {(100*correct):>0.1f}%, Avg loss: {test_loss:>8f} \\n\")"
   ]
  },
  {
   "cell_type": "code",
   "execution_count": 16,
   "id": "6b05ba77",
   "metadata": {},
   "outputs": [],
   "source": [
    "# Training the NN model \n",
    "epochs = 5   #starting with 5 epochs --> may need to adjust\n",
    "for t in range(epochs):\n",
    "    print(f\"Epoch {t+1}\\n-------------------------------\")\n",
    "    train(trainloader, model, loss_fn, optimizer)\n",
    "    test(testloader, model, loss_fn)\n",
    "print(\"Done!\")"
   ]
  },
  {
   "cell_type": "code",
   "execution_count": 17,
   "id": "0b730117",
   "metadata": {
    "scrolled": true
   },
   "outputs": [
    {
     "name": "stdout",
     "output_type": "stream",
     "text": [
      "Epoch 1\n",
      "-------------------------------\n",
      "loss: 1.103008  [    0/ 4860]\n",
      "loss: 1.100372  [ 1280/ 4860]\n",
      "loss: 1.099790  [ 2560/ 4860]\n",
      "loss: 1.096746  [ 3840/ 4860]\n",
      "tensor(1)\n",
      "tensor(1)\n",
      "tensor(1)\n",
      "tensor(1)\n",
      "tensor(1)\n",
      "tensor(1)\n",
      "tensor(1)\n",
      "tensor(1)\n",
      "tensor(1)\n",
      "tensor(1)\n",
      "tensor(1)\n",
      "tensor(1)\n",
      "Test Error: \n",
      " Accuracy: 33.3%, Avg loss: 1.098626 \n",
      "\n",
      "Epoch 2\n",
      "-------------------------------\n",
      "loss: 1.098927  [    0/ 4860]\n",
      "loss: 1.098662  [ 1280/ 4860]\n",
      "loss: 1.095788  [ 2560/ 4860]\n",
      "loss: 1.097805  [ 3840/ 4860]\n",
      "tensor(2)\n",
      "tensor(2)\n",
      "tensor(2)\n",
      "tensor(2)\n",
      "tensor(2)\n",
      "tensor(2)\n",
      "tensor(2)\n",
      "tensor(2)\n",
      "tensor(2)\n",
      "tensor(2)\n",
      "tensor(2)\n",
      "tensor(2)\n",
      "Test Error: \n",
      " Accuracy: 33.3%, Avg loss: 1.098673 \n",
      "\n",
      "Epoch 3\n",
      "-------------------------------\n",
      "loss: 1.098355  [    0/ 4860]\n",
      "loss: 1.094457  [ 1280/ 4860]\n",
      "loss: 1.093271  [ 2560/ 4860]\n",
      "loss: 1.101181  [ 3840/ 4860]\n",
      "tensor(2)\n",
      "tensor(2)\n",
      "tensor(2)\n",
      "tensor(2)\n",
      "tensor(2)\n",
      "tensor(2)\n",
      "tensor(2)\n",
      "tensor(2)\n",
      "tensor(2)\n",
      "tensor(2)\n",
      "tensor(2)\n",
      "tensor(2)\n",
      "Test Error: \n",
      " Accuracy: 33.3%, Avg loss: 1.098769 \n",
      "\n",
      "Epoch 4\n",
      "-------------------------------\n",
      "loss: 1.099964  [    0/ 4860]\n",
      "loss: 1.094181  [ 1280/ 4860]\n",
      "loss: 1.092639  [ 2560/ 4860]\n",
      "loss: 1.098399  [ 3840/ 4860]\n",
      "tensor(2)\n",
      "tensor(2)\n",
      "tensor(2)\n",
      "tensor(2)\n",
      "tensor(2)\n",
      "tensor(2)\n",
      "tensor(2)\n",
      "tensor(2)\n",
      "tensor(2)\n",
      "tensor(2)\n",
      "tensor(2)\n",
      "tensor(2)\n",
      "Test Error: \n",
      " Accuracy: 33.3%, Avg loss: 1.098906 \n",
      "\n",
      "Epoch 5\n",
      "-------------------------------\n",
      "loss: 1.095619  [    0/ 4860]\n",
      "loss: 1.090817  [ 1280/ 4860]\n",
      "loss: 1.083059  [ 2560/ 4860]\n",
      "loss: 1.098971  [ 3840/ 4860]\n",
      "tensor(2)\n",
      "tensor(2)\n",
      "tensor(2)\n",
      "tensor(2)\n",
      "tensor(2)\n",
      "tensor(2)\n",
      "tensor(2)\n",
      "tensor(2)\n",
      "tensor(2)\n",
      "tensor(2)\n",
      "tensor(2)\n",
      "tensor(2)\n",
      "Test Error: \n",
      " Accuracy: 33.3%, Avg loss: 1.099350 \n",
      "\n",
      "Done!\n"
     ]
    }
   ],
   "source": [
    "# Saving the model in a file, we will use it in the next cell\n",
    "torch.save(model.state_dict(), \"model.pth\")\n",
    "print(\"Saved PyTorch Model State to model.pth\")"
   ]
  },
  {
   "cell_type": "code",
   "execution_count": 18,
   "id": "8b59ba70",
   "metadata": {},
   "outputs": [
    {
     "name": "stdout",
     "output_type": "stream",
     "text": [
      "Saved PyTorch Model State to modelv3.pth\n"
     ]
    }
   ],
   "source": [
    "# Using the model for some testing\n",
    "model = NeuralNetwork()\n",
    "model.load_state_dict(torch.load(\"model.pth\"))\n",
    "\n",
    "classes = [\n",
    "    \"paper\",\n",
    "    \"rock\",\n",
    "    \"scissors\",\n",
    "]\n",
    "\n",
    "model.eval()\n",
    "x, y = custom_data_test[700][0], custom_data_test[700][1]\n",
    "\n",
    "print(x.unsqueeze(1).shape)\n",
    "with torch.no_grad():\n",
    "    pred = model(x.unsqueeze(0))\n",
    "    predicted, actual = classes[pred[0].argmax(0)], classes[y]\n",
    "    print(f'Predicted: \"{predicted}\", Actual: \"{actual}\"')"
   ]
  },
  {
   "cell_type": "code",
   "execution_count": 20,
   "id": "bf6ddf84",
   "metadata": {},
   "outputs": [
    {
     "name": "stdout",
     "output_type": "stream",
     "text": [
      "torch.Size([1, 1, 28, 28])\n",
      "Predicted: \"scissors\", Actual: \"rock\"\n"
     ]
    }
   ],
   "source": [
    "# Let's plot a few of the test images we used in the previous cell\n",
    "\n",
    "plt.imshow(custom_data_test[700][0].squeeze(), cmap = \"gray\")\n",
    "\n",
    "#try more visualization here"
   ]
  },
  {
   "cell_type": "code",
   "execution_count": 21,
   "id": "06b43a65",
   "metadata": {},
   "outputs": [
    {
     "data": {
      "text/plain": [
       "<matplotlib.image.AxesImage at 0x2ca4f9ac1f0>"
      ]
     },
     "execution_count": 21,
     "metadata": {},
     "output_type": "execute_result"
    },
    {
     "data": {
      "image/png": "[encoded data removed]",
      "text/plain": [
       "<Figure size 432x288 with 1 Axes>"
      ]
     },
     "metadata": {
      "needs_background": "light"
     },
     "output_type": "display_data"
    }
   ],
   "source": []
  },
  {
   "cell_type": "code",
   "execution_count": 14,
   "id": "7e75b25d",
   "metadata": {},
   "outputs": [],
   "source": [
    "# May include more testing and visualization here (optional)\n",
    "\n"
   ]
  },
  {
   "cell_type": "code",
   "execution_count": null,
   "id": "65b13d23",
   "metadata": {},
   "outputs": [],
   "source": []
  }
 ],
 "metadata": {
  "kernelspec": {
   "display_name": "Python 3 (ipykernel)",
   "language": "python",
   "name": "python3"
  },
  "language_info": {
   "codemirror_mode": {
    "name": "ipython",
    "version": 3
   },
   "file_extension": ".py",
   "mimetype": "text/x-python",
   "name": "python",
   "nbconvert_exporter": "python",
   "pygments_lexer": "ipython3",
   "version": "3.9.7"
  }
 },
 "nbformat": 4,
 "nbformat_minor": 5
}
