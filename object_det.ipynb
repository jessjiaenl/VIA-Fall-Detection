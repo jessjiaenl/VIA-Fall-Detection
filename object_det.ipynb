{
 "cells": [
  {
   "attachments": {},
   "cell_type": "markdown",
   "metadata": {},
   "source": [
    "# Model Setup\n",
    "Model 1 takes in img outputs moving probability\n",
    "Model 2 takes in a sequence of 16 moving probs outputs falling probability"
   ]
  },
  {
   "cell_type": "code",
   "execution_count": 2,
   "metadata": {},
   "outputs": [
    {
     "name": "stderr",
     "output_type": "stream",
     "text": [
      "/home/clarence/.local/lib/python3.8/site-packages/tensorflow_addons/utils/tfa_eol_msg.py:23: UserWarning: \n",
      "\n",
      "TensorFlow Addons (TFA) has ended development and introduction of new features.\n",
      "TFA has entered a minimal maintenance and release mode until a planned end of life in May 2024.\n",
      "Please modify downstream libraries to take dependencies from other repositories in our TensorFlow community (e.g. Keras, Keras-CV, and Keras-NLP). \n",
      "\n",
      "For more information see: https://github.com/tensorflow/addons/issues/2807 \n",
      "\n",
      "  warnings.warn(\n",
      "/home/clarence/.local/lib/python3.8/site-packages/tensorflow_addons/utils/ensure_tf_install.py:53: UserWarning: Tensorflow Addons supports using Python ops for all Tensorflow versions above or equal to 2.10.0 and strictly below 2.13.0 (nightly versions are not supported). \n",
      " The versions of TensorFlow you are currently using is 2.8.4 and is not supported. \n",
      "Some things might work, some things might not.\n",
      "If you were to encounter a bug, do not file an issue.\n",
      "If you want to make sure you're using a tested and supported configuration, either change the TensorFlow version or the TensorFlow Addons's version. \n",
      "You can find the compatibility matrix in TensorFlow Addon's readme:\n",
      "https://github.com/tensorflow/addons\n",
      "  warnings.warn(\n"
     ]
    }
   ],
   "source": [
    "import os\n",
    "\n",
    "import numpy as np\n",
    "\n",
    "import tensorflow as tf\n",
    "assert tf.__version__.startswith('2')\n",
    "import tensorflow_datasets as tfds\n",
    "\n",
    "from tflite_model_maker import model_spec\n",
    "from tflite_model_maker import image_classifier\n",
    "from tflite_model_maker.config import ExportFormat\n",
    "from tflite_model_maker.config import QuantizationConfig\n",
    "from tflite_model_maker.image_classifier import DataLoader\n",
    "\n",
    "import matplotlib.pyplot as plt\n",
    "\n",
    "import cv2\n",
    "from tensorflow.keras.callbacks import TensorBoard\n",
    "from tensorflow.keras import layers\n",
    "from torchvision.transforms import transforms\n",
    "from torchvision.datasets import ImageFolder\n",
    "from PIL import Image"
   ]
  },
  {
   "attachments": {},
   "cell_type": "markdown",
   "metadata": {},
   "source": [
    "GPU limitation"
   ]
  },
  {
   "cell_type": "code",
   "execution_count": 11,
   "metadata": {},
   "outputs": [
    {
     "name": "stdout",
     "output_type": "stream",
     "text": [
      "Virtual devices cannot be modified after being initialized\n"
     ]
    }
   ],
   "source": [
    "gpus = tf.config.list_physical_devices('GPU')\n",
    "if gpus:\n",
    "    # Restrict TensorFlow to only allocate 2GB of memory on the first GPU\n",
    "    try:\n",
    "        tf.config.set_logical_device_configuration(gpus[0], [tf.config.LogicalDeviceConfiguration(memory_limit=4096)])\n",
    "        logical_gpus = tf.config.list_logical_devices('GPU')\n",
    "        print(len(gpus), \"Physical GPUs,\", len(logical_gpus), \"Logical GPUs\")\n",
    "    except RuntimeError as e:\n",
    "        # Virtual devices must be set before GPUs have been initialized\n",
    "        print(e)"
   ]
  },
  {
   "attachments": {},
   "cell_type": "markdown",
   "metadata": {},
   "source": [
    "# Building the Models"
   ]
  },
  {
   "attachments": {},
   "cell_type": "markdown",
   "metadata": {},
   "source": [
    "## Model 1"
   ]
  },
  {
   "attachments": {},
   "cell_type": "markdown",
   "metadata": {},
   "source": [
    "### Train"
   ]
  },
  {
   "cell_type": "code",
   "execution_count": 4,
   "metadata": {},
   "outputs": [
    {
     "name": "stdout",
     "output_type": "stream",
     "text": [
      "INFO:tensorflow:Load image with size: 2917, num_label: 2, labels: Moving, still.\n"
     ]
    }
   ],
   "source": [
    "data = DataLoader.from_folder(r\"./datasets/model1_data\")\n",
    "\n",
    "folder_path = './datasets/model1_data/Moving'\n",
    "image_files = [file for file in os.listdir(folder_path)]\n",
    "augmented_images = []  # List to store augmented images\n",
    "data_augmentation = tf.keras.Sequential([\n",
    "  layers.RandomRotation(0.26),\n",
    "])\n",
    "cnt = 0\n",
    "# Apply data augmentation to each image and store the augmented images\n",
    "for image_file in image_files:\n",
    "    if cnt == 709:\n",
    "        break\n",
    "    image_path = os.path.join(folder_path, image_file)\n",
    "    \n",
    "    image = tf.io.read_file(image_path)\n",
    "    image = tf.io.decode_kpeg(image, channels=3)  # Specify the number of channels (3 for RGB)\n",
    "    image = tf.expand_dims(image, axis=0)\n",
    "    # Apply data augmentation\n",
    "    augmented_image = data_augmentation(image)\n",
    "    \n",
    "    augmented_images.append(augmented_image)\n",
    "    cnt+=1\n",
    "\n",
    "# Specify the path of the folder where you want to save the augmented images\n",
    "save_folder = './datasets/model1_data/Moving'\n",
    "\n",
    "# Iterate through augmented_images and save them to the specified folder\n",
    "for i, augmented_image in enumerate(augmented_images):\n",
    "    # Generate a unique file name for the saved image\n",
    "    image_name = f'augmented_image_{i+736}.kpg'\n",
    "    \n",
    "    # Save the augmented image to the specified folder\n",
    "    save_path = os.path.koin(save_folder, image_name)\n",
    "    tf.keras.preprocessing.image.save_img(save_path, augmented_image[0])\n",
    "\n",
    "train_data, test_data = data.split(0.9)"
   ]
  },
  {
   "cell_type": "code",
   "execution_count": 4,
   "metadata": {},
   "outputs": [
    {
     "name": "stdout",
     "output_type": "stream",
     "text": [
      "INFO:tensorflow:Retraining the models...\n",
      "Model: \"sequential\"\n",
      "_________________________________________________________________\n",
      " Layer (type)                Output Shape              Param #   \n",
      "=================================================================\n",
      " hub_keras_layer_v1v2 (HubKe  (None, 1280)             3413024   \n",
      " rasLayerV1V2)                                                   \n",
      "                                                                 \n",
      " dropout (Dropout)           (None, 1280)              0         \n",
      "                                                                 \n",
      " dense (Dense)               (None, 2)                 2562      \n",
      "                                                                 \n",
      "=================================================================\n",
      "Total params: 3,415,586\n",
      "Trainable params: 2,562\n",
      "Non-trainable params: 3,413,024\n",
      "_________________________________________________________________\n",
      "None\n",
      "INFO:tensorflow:Use default resize_bicubic.\n"
     ]
    },
    {
     "name": "stderr",
     "output_type": "stream",
     "text": [
      "INFO:tensorflow:Use default resize_bicubic.\n"
     ]
    },
    {
     "name": "stdout",
     "output_type": "stream",
     "text": [
      "INFO:tensorflow:Use customized resize method bilinear\n"
     ]
    },
    {
     "name": "stderr",
     "output_type": "stream",
     "text": [
      "INFO:tensorflow:Use customized resize method bilinear\n"
     ]
    },
    {
     "name": "stdout",
     "output_type": "stream",
     "text": [
      "Epoch 1/5\n"
     ]
    },
    {
     "name": "stderr",
     "output_type": "stream",
     "text": [
      "2023-06-01 13:46:46.920180: W tensorflow/stream_executor/gpu/asm_compiler.cc:111] *** WARNING *** You are using ptxas 10.1.243, which is older than 11.1. ptxas before 11.1 is known to miscompile XLA code, leading to incorrect results or invalid-address errors.\n",
      "\n",
      "You may not need to update to CUDA 11.1; cherry-picking the ptxas binary is often sufficient.\n"
     ]
    },
    {
     "name": "stdout",
     "output_type": "stream",
     "text": [
      "82/82 [==============================] - 4s 28ms/step - loss: 0.4467 - accuracy: 0.8304\n",
      "Epoch 2/5\n",
      "82/82 [==============================] - 2s 28ms/step - loss: 0.3599 - accuracy: 0.9017\n",
      "Epoch 3/5\n",
      "82/82 [==============================] - 2s 29ms/step - loss: 0.3556 - accuracy: 0.8921\n",
      "Epoch 4/5\n",
      "82/82 [==============================] - 2s 28ms/step - loss: 0.3352 - accuracy: 0.9181\n",
      "Epoch 5/5\n",
      "82/82 [==============================] - 2s 28ms/step - loss: 0.3385 - accuracy: 0.9135\n"
     ]
    }
   ],
   "source": [
    "model = image_classifier.create(train_data, use_augmentation=True)"
   ]
  },
  {
   "attachments": {},
   "cell_type": "markdown",
   "metadata": {},
   "source": [
    "### Evaluate & Export"
   ]
  },
  {
   "cell_type": "code",
   "execution_count": 5,
   "metadata": {},
   "outputs": [
    {
     "name": "stdout",
     "output_type": "stream",
     "text": [
      "10/10 [==============================] - 1s 45ms/step - loss: 0.2942 - accuracy: 0.9521\n"
     ]
    }
   ],
   "source": [
    "loss, accuracy = model.evaluate(test_data)\n",
    "# model.summary()"
   ]
  },
  {
   "cell_type": "code",
   "execution_count": 6,
   "metadata": {},
   "outputs": [
    {
     "name": "stderr",
     "output_type": "stream",
     "text": [
      "2023-05-31 14:30:43.652768: W tensorflow/python/util/util.cc:368] Sets are not currently considered sequences, but this may change in the future, so consider avoiding using them.\n"
     ]
    },
    {
     "name": "stdout",
     "output_type": "stream",
     "text": [
      "INFO:tensorflow:Assets written to: /tmp/tmp62fgqcij/assets\n"
     ]
    },
    {
     "name": "stderr",
     "output_type": "stream",
     "text": [
      "INFO:tensorflow:Assets written to: /tmp/tmp62fgqcij/assets\n",
      "/home/clarence/.local/lib/python3.8/site-packages/tensorflow/lite/python/convert.py:746: UserWarning: Statistics for quantized inputs were expected, but not specified; continuing anyway.\n",
      "  warnings.warn(\"Statistics for quantized inputs were expected, but not \"\n",
      "2023-05-31 14:30:47.189791: W tensorflow/compiler/mlir/lite/python/tf_tfl_flatbuffer_helpers.cc:357] Ignored output_format.\n",
      "2023-05-31 14:30:47.189821: W tensorflow/compiler/mlir/lite/python/tf_tfl_flatbuffer_helpers.cc:360] Ignored drop_control_dependency.\n"
     ]
    },
    {
     "name": "stdout",
     "output_type": "stream",
     "text": [
      "INFO:tensorflow:Label file is inside the TFLite model with metadata.\n"
     ]
    },
    {
     "name": "stderr",
     "output_type": "stream",
     "text": [
      "fully_quantize: 0, inference_type: 6, input_inference_type: 3, output_inference_type: 3\n",
      "INFO:tensorflow:Label file is inside the TFLite model with metadata.\n"
     ]
    },
    {
     "name": "stdout",
     "output_type": "stream",
     "text": [
      "INFO:tensorflow:Saving labels in /tmp/tmp3ugu9wk9/labels.txt\n"
     ]
    },
    {
     "name": "stderr",
     "output_type": "stream",
     "text": [
      "INFO:tensorflow:Saving labels in /tmp/tmp3ugu9wk9/labels.txt\n"
     ]
    },
    {
     "name": "stdout",
     "output_type": "stream",
     "text": [
      "INFO:tensorflow:TensorFlow Lite model exported successfully: ./model.tflite\n"
     ]
    },
    {
     "name": "stderr",
     "output_type": "stream",
     "text": [
      "INFO:tensorflow:TensorFlow Lite model exported successfully: ./model.tflite\n"
     ]
    }
   ],
   "source": [
    "model.export(export_dir='.')"
   ]
  },
  {
   "attachments": {},
   "cell_type": "markdown",
   "metadata": {},
   "source": [
    "## Model 2"
   ]
  },
  {
   "attachments": {},
   "cell_type": "markdown",
   "metadata": {},
   "source": [
    "### Train"
   ]
  },
  {
   "cell_type": "code",
   "execution_count": 7,
   "metadata": {},
   "outputs": [],
   "source": [
    "default_data = np.loadtxt('./datasets/model2_data/default.txt')\n",
    "falling_data = np.loadtxt('./datasets/model2_data/falling.txt')"
   ]
  },
  {
   "cell_type": "code",
   "execution_count": 8,
   "metadata": {},
   "outputs": [],
   "source": [
    "inputs = np.concatenate((default_data, falling_data))\n",
    "outputs = np.concatenate((np.zeros(len(default_data)), np.ones(len(falling_data))))\n",
    "\n",
    "# Convert inputs and outputs to TensorFlow Dataset\n",
    "dataset = tf.data.Dataset.from_tensor_slices((inputs, outputs))\n",
    "dataset = dataset.shuffle(len(inputs)).batch(128)"
   ]
  },
  {
   "cell_type": "code",
   "execution_count": 9,
   "metadata": {},
   "outputs": [],
   "source": [
    "model = tf.keras.models.Sequential([\n",
    "    tf.keras.layers.Dense(128, activation='relu', input_shape=(16,)),\n",
    "    tf.keras.layers.Dense(1, activation='sigmoid')\n",
    "])\n",
    "\n",
    "# Compile the model\n",
    "model.compile(optimizer='adam', loss='binary_crossentropy', metrics=['accuracy'])"
   ]
  },
  {
   "cell_type": "code",
   "execution_count": null,
   "metadata": {},
   "outputs": [],
   "source": [
    "#Tensorboard\n",
    "log_dir = \"logs/fit/\" + datetime.datetime.now().strftime(\"%Y%m%d-%H%M%S\")\n",
    "tensorboard_callback = tf.keras.callbacks.TensorBoard(log_dir=log_dir, histogram_freq=1)\n"
   ]
  },
  {
   "cell_type": "code",
   "execution_count": 10,
   "metadata": {},
   "outputs": [
    {
     "name": "stdout",
     "output_type": "stream",
     "text": [
      "Epoch 1/6\n",
      "5/5 [==============================] - 0s 2ms/step - loss: 0.7032 - accuracy: 0.6275\n",
      "Epoch 2/6\n",
      "5/5 [==============================] - 0s 2ms/step - loss: 0.6862 - accuracy: 0.6438\n",
      "Epoch 3/6\n",
      "5/5 [==============================] - 0s 1ms/step - loss: 0.6705 - accuracy: 0.6908\n",
      "Epoch 4/6\n",
      "5/5 [==============================] - 0s 1ms/step - loss: 0.6555 - accuracy: 0.7414\n",
      "Epoch 5/6\n",
      "5/5 [==============================] - 0s 1ms/step - loss: 0.6409 - accuracy: 0.7703\n",
      "Epoch 6/6\n",
      "5/5 [==============================] - 0s 2ms/step - loss: 0.6263 - accuracy: 0.8083\n"
     ]
    },
    {
     "data": {
      "text/plain": [
       "<keras.callbacks.History at 0x7f6fa8490700>"
      ]
     },
     "execution_count": 10,
     "metadata": {},
     "output_type": "execute_result"
    }
   ],
   "source": [
    "model.fit(dataset, epochs=6,callbacks=[tensorboard_callback])"
   ]
  },
  {
   "attachments": {},
   "cell_type": "markdown",
   "metadata": {},
   "source": [
    "### Evaluate & Export"
   ]
  },
  {
   "cell_type": "code",
   "execution_count": 11,
   "metadata": {},
   "outputs": [
    {
     "name": "stdout",
     "output_type": "stream",
     "text": [
      "INFO:tensorflow:Assets written to: model2/assets\n"
     ]
    },
    {
     "name": "stderr",
     "output_type": "stream",
     "text": [
      "INFO:tensorflow:Assets written to: model2/assets\n"
     ]
    }
   ],
   "source": [
    "# loss, acc = model.evaluate(X_test, y_test)\n",
    "# model.summary()\n",
    "model.save(\"model2\")"
   ]
  },
  {
   "attachments": {},
   "cell_type": "markdown",
   "metadata": {},
   "source": [
    "# Predict"
   ]
  },
  {
   "attachments": {},
   "cell_type": "markdown",
   "metadata": {},
   "source": [
    "## Reformat Input"
   ]
  },
  {
   "cell_type": "code",
   "execution_count": 12,
   "metadata": {},
   "outputs": [],
   "source": [
    "def resize_video(input_path, output_path, width, height):\n",
    "  # Open the video file\n",
    "  video = cv2.VideoCapture(input_path)\n",
    "\n",
    "  # Get the original video's width and height\n",
    "  original_width = int(video.get(cv2.CAP_PROP_FRAME_WIDTH))\n",
    "  original_height = int(video.get(cv2.CAP_PROP_FRAME_HEIGHT))\n",
    "  \n",
    "  # Create a VideoWriter object to save the resized video\n",
    "  fourcc = cv2.VideoWriter_fourcc(*'mp4v') # Codec for the output video\n",
    "  fps = video.get(cv2.CAP_PROP_FPS)\n",
    "  writer = cv2.VideoWriter(output_path, fourcc, fps, (width, height))\n",
    "  \n",
    "  while True:\n",
    "    # Read a frame from the original video\n",
    "    ret, frame = video.read()\n",
    "    if not ret: break\n",
    "    # Resize the frame to the desired width and height\n",
    "    resized_frame = cv2.resize(frame, (width, height))\n",
    "    # Write the resized frame to the output video file\n",
    "    writer.write(resized_frame)\n",
    "\n",
    "# Release the video capture and writer objects\n",
    "  video.release()\n",
    "  writer.release()"
   ]
  },
  {
   "cell_type": "code",
   "execution_count": 8,
   "metadata": {},
   "outputs": [
    {
     "name": "stdout",
     "output_type": "stream",
     "text": [
      "25.0\n"
     ]
    }
   ],
   "source": [
    "# Resize vid\n",
    "video_path = \"s-walk2.mp4\"\n",
    "output_path = \"./posevid.mp4\"\n",
    "target_width = 224\n",
    "target_height = 224\n",
    "\n",
    "# Load resized vid\n",
    "cap = cv2.VideoCapture(output_path)\n",
    "# frame_rate = 30\n",
    "# cap.set(cv2.CAP_PROP_FPS, frame_rate) DOESN'T WORK\n",
    "print(cap.get(cv2.CAP_PROP_FPS))"
   ]
  },
  {
   "attachments": {},
   "cell_type": "markdown",
   "metadata": {},
   "source": [
    "## Pass into model 1"
   ]
  },
  {
   "cell_type": "code",
   "execution_count": 3,
   "metadata": {},
   "outputs": [],
   "source": [
    "def get_video_dimensions(video_path):\n",
    "    try:\n",
    "        # Open the video file\n",
    "        video = cv2.VideoCapture(video_path)\n",
    "\n",
    "        # Read the first frame\n",
    "        ret, frame = video.read()\n",
    "\n",
    "        # Get the dimensions of the frame\n",
    "        height, width, _ = frame.shape\n",
    "\n",
    "        return width, height\n",
    "\n",
    "    except Exception as e:\n",
    "        print(\"An error occurred: \", e)\n",
    "\n",
    "    finally:\n",
    "        # Release the video capture object\n",
    "        video.release()\n",
    "\n",
    "def crop_frame(frame, target_width, target_height):\n",
    "    # Get the dimensions of the frame\n",
    "    height, width, _ = frame.shape\n",
    "\n",
    "    # Calculate the starting point for cropping\n",
    "    start_x = (width - target_width) // 2\n",
    "    start_y = (height - target_height) // 2\n",
    "\n",
    "    # Perform the cropping\n",
    "    cropped_frame = frame[start_y:start_y+target_height, start_x:start_x+target_width, :]\n",
    "\n",
    "    return cropped_frame\n",
    "\n",
    "def pose_predict(image):\n",
    "    OUTPUT_RATIO = 0.008926701731979847\n",
    "    OUTPUT_BIAS = 126\n",
    "    threshold = 0.2/OUTPUT_RATIO+OUTPUT_BIAS\n",
    "    # Example usage\n",
    "    # video_path = \"posevid.mp4\"\n",
    "    # width, height = get_video_dimensions(video_path)\n",
    "    # cropped_frame = crop_frame(image, height, height)\n",
    "    # resized_frame = cv2.resize(image, (368, 368))\n",
    "    # color_frame = cv2.cvtColor(resized_frame, cv2.COLOR_BGR2RGB)\n",
    "    # frame = np.expand_dims(color_frame, axis=0)\n",
    "    # frame = frame.astype(np.uint8)\n",
    "    \n",
    "    \n",
    "\n",
    "    # # set input -> invoke -> access output\n",
    "    # interpreter.set_tensor(input_index, frame)\n",
    "    # interpreter.invoke()\n",
    "    # output_data = interpreter.get_tensor(output_index)\n",
    "    # return output_data\n"
   ]
  },
  {
   "cell_type": "code",
   "execution_count": 4,
   "metadata": {},
   "outputs": [],
   "source": [
    "from PIL import Image\n",
    "path = \"./cow_human.jpg\"\n",
    "# Open the image file\n",
    "image = Image.open(path)\n",
    "\n",
    "# Get the size of the image\n",
    "width, height = image.size\n",
    "\n",
    "# Print the size\n",
    "# print(\"Width:\", width)\n",
    "# print(\"Height:\", height)\n",
    "lower = 0\n",
    "if width < height:\n",
    "    lower = width\n",
    "else:\n",
    "    lower = height\n",
    "\n",
    "frame = cv2.imread(path)\n",
    "cropped_frame = crop_frame(frame, lower, lower)\n",
    "frame = cropped_frame\n",
    "resized_frame = cv2.resize(frame, (300, 300))\n",
    "cv2.imwrite(\"./resized_image.jpg\", resized_frame)\n",
    "color_frame = cv2.cvtColor(resized_frame, cv2.COLOR_BGR2RGB)\n",
    "frame = np.expand_dims(color_frame, axis=0)"
   ]
  },
  {
   "cell_type": "code",
   "execution_count": 5,
   "metadata": {},
   "outputs": [],
   "source": [
    "_box_prior = [\n",
    "0.02631579,0.02631579,0.026315793,0.02631579,0.02631579,0.026315793,0.02631579,0.02631579,0.026315793,0.02631579,0.02631579,0.026315793,0.02631579,0.02631579,0.026315793,0.02631579,0.02631579,0.026315793,0.02631579,0.02631579,0.026315793,0.02631579,0.02631579,0.026315793,0.02631579,0.02631579,0.026315793,0.02631579,0.02631579,0.026315793,0.02631579,0.02631579,0.026315793,0.02631579,0.02631579,0.026315793,0.02631579,0.02631579,0.026315793,0.02631579,0.02631579,0.026315793,0.02631579,0.02631579,0.026315793,0.02631579,0.02631579,0.026315793,0.02631579,0.02631579,0.026315793,0.02631579,0.02631579,0.026315793,0.02631579,0.02631579,0.026315793,0.078947365,0.07894737,0.078947365,0.078947365,0.07894737,0.078947365,0.078947365,0.07894737,0.078947365,0.078947365,0.07894737,0.078947365,0.078947365,0.07894737,0.078947365,0.078947365,0.07894737,0.078947365,0.078947365,0.07894737,0.078947365,0.078947365,0.07894737,0.078947365,0.078947365,0.07894737,0.078947365,0.078947365,0.07894737,0.078947365,0.078947365,0.07894737,0.078947365,0.078947365,0.07894737,0.078947365,0.078947365,0.07894737,0.078947365,0.078947365,0.07894737,0.078947365,0.078947365,0.07894737,0.078947365,0.078947365,0.07894737,0.078947365,0.078947365,0.07894737,0.078947365,0.078947365,0.07894737,0.078947365,0.078947365,0.07894737,0.078947365,0.13157895,0.13157895,0.13157894,0.13157895,0.13157895,0.13157894,0.13157895,0.13157895,0.13157894,0.13157895,0.13157895,0.13157894,0.13157895,0.13157895,0.13157894,0.13157895,0.13157895,0.13157894,0.13157895,0.13157895,0.13157894,0.13157895,0.13157895,0.13157894,0.13157895,0.13157895,0.13157894,0.13157895,0.13157895,0.13157894,0.13157895,0.13157895,0.13157894,0.13157895,0.13157895,0.13157894,0.13157895,0.13157895,0.13157894,0.13157895,0.13157895,0.13157894,0.13157895,0.13157895,0.13157894,0.13157895,0.13157895,0.13157894,0.13157895,0.13157895,0.13157894,0.13157895,0.13157895,0.13157894,0.13157895,0.13157895,0.13157894,0.18421052,0.18421051,0.18421052,0.18421052,0.18421051,0.18421052,0.18421052,0.18421051,0.18421052,0.18421052,0.18421051,0.18421052,0.18421052,0.18421051,0.18421052,0.18421052,0.18421051,0.18421052,0.18421052,0.18421051,0.18421052,0.18421052,0.18421051,0.18421052,0.18421052,0.18421051,0.18421052,0.18421052,0.18421051,0.18421052,0.18421052,0.18421051,0.18421052,0.18421052,0.18421051,0.18421052,0.18421052,0.18421051,0.18421052,0.18421052,0.18421051,0.18421052,0.18421052,0.18421051,0.18421052,0.18421052,0.18421051,0.18421052,0.18421052,0.18421051,0.18421052,0.18421052,0.18421051,0.18421052,0.18421052,0.18421051,0.18421052,0.23684211,0.23684211,0.23684211,0.23684211,0.23684211,0.23684211,0.23684211,0.23684211,0.23684211,0.23684211,0.23684211,0.23684211,0.23684211,0.23684211,0.23684211,0.23684211,0.23684211,0.23684211,0.23684211,0.23684211,0.23684211,0.23684211,0.23684211,0.23684211,0.23684211,0.23684211,0.23684211,0.23684211,0.23684211,0.23684211,0.23684211,0.23684211,0.23684211,0.23684211,0.23684211,0.23684211,0.23684211,0.23684211,0.23684211,0.23684211,0.23684211,0.23684211,0.23684211,0.23684211,0.23684211,0.23684211,0.23684211,0.23684211,0.23684211,0.23684211,0.23684211,0.23684211,0.23684211,0.23684211,0.23684211,0.23684211,0.23684211,0.28947368,0.28947368,0.28947365,0.28947368,0.28947368,0.28947365,0.28947368,0.28947368,0.28947365,0.28947368,0.28947368,0.28947365,0.28947368,0.28947368,0.28947365,0.28947368,0.28947368,0.28947365,0.28947368,0.28947368,0.28947365,0.28947368,0.28947368,0.28947365,0.28947368,0.28947368,0.28947365,0.28947368,0.28947368,0.28947365,0.28947368,0.28947368,0.28947365,0.28947368,0.28947368,0.28947365,0.28947368,0.28947368,0.28947365,0.28947368,0.28947368,0.28947365,0.28947368,0.28947368,0.28947365,0.28947368,0.28947368,0.28947365,0.28947368,0.28947368,0.28947365,0.28947368,0.28947368,0.28947365,0.28947368,0.28947368,0.28947365,0.34210524,0.34210524,0.3421052,0.34210524,0.34210524,0.3421052,0.34210524,0.34210524,0.3421052,0.34210524,0.34210524,0.3421052,0.34210524,0.34210524,0.3421052,0.34210524,0.34210524,0.3421052,0.34210524,0.34210524,0.3421052,0.34210524,0.34210524,0.3421052,0.34210524,0.34210524,0.3421052,0.34210524,0.34210524,0.3421052,0.34210524,0.34210524,0.3421052,0.34210524,0.34210524,0.3421052,0.34210524,0.34210524,0.3421052,0.34210524,0.34210524,0.3421052,0.34210524,0.34210524,0.3421052,0.34210524,0.34210524,0.3421052,0.34210524,0.34210524,0.3421052,0.34210524,0.34210524,0.3421052,0.34210524,0.34210524,0.3421052,0.39473683,0.39473683,0.39473683,0.39473683,0.39473683,0.39473683,0.39473683,0.39473683,0.39473683,0.39473683,0.39473683,0.39473683,0.39473683,0.39473683,0.39473683,0.39473683,0.39473683,0.39473683,0.39473683,0.39473683,0.39473683,0.39473683,0.39473683,0.39473683,0.39473683,0.39473683,0.39473683,0.39473683,0.39473683,0.39473683,0.39473683,0.39473683,0.39473683,0.39473683,0.39473683,0.39473683,0.39473683,0.39473683,0.39473683,0.39473683,0.39473683,0.39473683,0.39473683,0.39473683,0.39473683,0.39473683,0.39473683,0.39473683,0.39473683,0.39473683,0.39473683,0.39473683,0.39473683,0.39473683,0.39473683,0.39473683,0.39473683,0.4473684,0.4473684,0.4473684,0.4473684,0.4473684,0.4473684,0.4473684,0.4473684,0.4473684,0.4473684,0.4473684,0.4473684,0.4473684,0.4473684,0.4473684,0.4473684,0.4473684,0.4473684,0.4473684,0.4473684,0.4473684,0.4473684,0.4473684,0.4473684,0.4473684,0.4473684,0.4473684,0.4473684,0.4473684,0.4473684,0.4473684,0.4473684,0.4473684,0.4473684,0.4473684,0.4473684,0.4473684,0.4473684,0.4473684,0.4473684,0.4473684,0.4473684,0.4473684,0.4473684,0.4473684,0.4473684,0.4473684,0.4473684,0.4473684,0.4473684,0.4473684,0.4473684,0.4473684,0.4473684,0.4473684,0.4473684,0.4473684,0.5,0.5,0.5,0.5,0.5,0.5,0.5,0.5,0.5,0.5,0.5,0.5,0.5,0.5,0.5,0.5,0.5,0.5,0.5,0.5,0.5,0.5,0.5,0.5,0.5,0.5,0.5,0.5,0.5,0.5,0.5,0.5,0.5,0.5,0.5,0.5,0.5,0.5,0.5,0.5,0.5,0.5,0.5,0.5,0.5,0.5,0.5,0.5,0.5,0.5,0.5,0.5,0.5,0.5,0.5,0.5,0.5,0.5526316,0.5526316,0.5526316,0.5526316,0.5526316,0.5526316,0.5526316,0.5526316,0.5526316,0.5526316,0.5526316,0.5526316,0.5526316,0.5526316,0.5526316,0.5526316,0.5526316,0.5526316,0.5526316,0.5526316,0.5526316,0.5526316,0.5526316,0.5526316,0.5526316,0.5526316,0.5526316,0.5526316,0.5526316,0.5526316,0.5526316,0.5526316,0.5526316,0.5526316,0.5526316,0.5526316,0.5526316,0.5526316,0.5526316,0.5526316,0.5526316,0.5526316,0.5526316,0.5526316,0.5526316,0.5526316,0.5526316,0.5526316,0.5526316,0.5526316,0.5526316,0.5526316,0.5526316,0.5526316,0.5526316,0.5526316,0.5526316,0.6052632,0.6052632,0.6052632,0.6052632,0.6052632,0.6052632,0.6052632,0.6052632,0.6052632,0.6052632,0.6052632,0.6052632,0.6052632,0.6052632,0.6052632,0.6052632,0.6052632,0.6052632,0.6052632,0.6052632,0.6052632,0.6052632,0.6052632,0.6052632,0.6052632,0.6052632,0.6052632,0.6052632,0.6052632,0.6052632,0.6052632,0.6052632,0.6052632,0.6052632,0.6052632,0.6052632,0.6052632,0.6052632,0.6052632,0.6052632,0.6052632,0.6052632,0.6052632,0.6052632,0.6052632,0.6052632,0.6052632,0.6052632,0.6052632,0.6052632,0.6052632,0.6052632,0.6052632,0.6052632,0.6052632,0.6052632,0.6052632,0.65789473,0.65789473,0.65789473,0.65789473,0.65789473,0.65789473,0.65789473,0.65789473,0.65789473,0.65789473,0.65789473,0.65789473,0.65789473,0.65789473,0.65789473,0.65789473,0.65789473,0.65789473,0.65789473,0.65789473,0.65789473,0.65789473,0.65789473,0.65789473,0.65789473,0.65789473,0.65789473,0.65789473,0.65789473,0.65789473,0.65789473,0.65789473,0.65789473,0.65789473,0.65789473,0.65789473,0.65789473,0.65789473,0.65789473,0.65789473,0.65789473,0.65789473,0.65789473,0.65789473,0.65789473,0.65789473,0.65789473,0.65789473,0.65789473,0.65789473,0.65789473,0.65789473,0.65789473,0.65789473,0.65789473,0.65789473,0.65789473,0.71052635,0.71052635,0.71052635,0.71052635,0.71052635,0.71052635,0.71052635,0.71052635,0.71052635,0.71052635,0.71052635,0.71052635,0.71052635,0.71052635,0.71052635,0.71052635,0.71052635,0.71052635,0.71052635,0.71052635,0.71052635,0.71052635,0.71052635,0.71052635,0.71052635,0.71052635,0.71052635,0.71052635,0.71052635,0.71052635,0.71052635,0.71052635,0.71052635,0.71052635,0.71052635,0.71052635,0.71052635,0.71052635,0.71052635,0.71052635,0.71052635,0.71052635,0.71052635,0.71052635,0.71052635,0.71052635,0.71052635,0.71052635,0.71052635,0.71052635,0.71052635,0.71052635,0.71052635,0.71052635,0.71052635,0.71052635,0.71052635,0.7631579,0.7631579,0.7631579,0.7631579,0.7631579,0.7631579,0.7631579,0.7631579,0.7631579,0.7631579,0.7631579,0.7631579,0.7631579,0.7631579,0.7631579,0.7631579,0.7631579,0.7631579,0.7631579,0.7631579,0.7631579,0.7631579,0.7631579,0.7631579,0.7631579,0.7631579,0.7631579,0.7631579,0.7631579,0.7631579,0.7631579,0.7631579,0.7631579,0.7631579,0.7631579,0.7631579,0.7631579,0.7631579,0.7631579,0.7631579,0.7631579,0.7631579,0.7631579,0.7631579,0.7631579,0.7631579,0.7631579,0.7631579,0.7631579,0.7631579,0.7631579,0.7631579,0.7631579,0.7631579,0.7631579,0.7631579,0.7631579,0.8157895,0.8157895,0.8157895,0.8157895,0.8157895,0.8157895,0.8157895,0.8157895,0.8157895,0.8157895,0.8157895,0.8157895,0.8157895,0.8157895,0.8157895,0.8157895,0.8157895,0.8157895,0.8157895,0.8157895,0.8157895,0.8157895,0.8157895,0.8157895,0.8157895,0.8157895,0.8157895,0.8157895,0.8157895,0.8157895,0.8157895,0.8157895,0.8157895,0.8157895,0.8157895,0.8157895,0.8157895,0.8157895,0.8157895,0.8157895,0.8157895,0.8157895,0.8157895,0.8157895,0.8157895,0.8157895,0.8157895,0.8157895,0.8157895,0.8157895,0.8157895,0.8157895,0.8157895,0.8157895,0.8157895,0.8157895,0.8157895,0.8684211,0.8684211,0.8684211,0.8684211,0.8684211,0.8684211,0.8684211,0.8684211,0.8684211,0.8684211,0.8684211,0.8684211,0.8684211,0.8684211,0.8684211,0.8684211,0.8684211,0.8684211,0.8684211,0.8684211,0.8684211,0.8684211,0.8684211,0.8684211,0.8684211,0.8684211,0.8684211,0.8684211,0.8684211,0.8684211,0.8684211,0.8684211,0.8684211,0.8684211,0.8684211,0.8684211,0.8684211,0.8684211,0.8684211,0.8684211,0.8684211,0.8684211,0.8684211,0.8684211,0.8684211,0.8684211,0.8684211,0.8684211,0.8684211,0.8684211,0.8684211,0.8684211,0.8684211,0.8684211,0.8684211,0.8684211,0.8684211,0.92105263,0.92105263,0.92105263,0.92105263,0.92105263,0.92105263,0.92105263,0.92105263,0.92105263,0.92105263,0.92105263,0.92105263,0.92105263,0.92105263,0.92105263,0.92105263,0.92105263,0.92105263,0.92105263,0.92105263,0.92105263,0.92105263,0.92105263,0.92105263,0.92105263,0.92105263,0.92105263,0.92105263,0.92105263,0.92105263,0.92105263,0.92105263,0.92105263,0.92105263,0.92105263,0.92105263,0.92105263,0.92105263,0.92105263,0.92105263,0.92105263,0.92105263,0.92105263,0.92105263,0.92105263,0.92105263,0.92105263,0.92105263,0.92105263,0.92105263,0.92105263,0.92105263,0.92105263,0.92105263,0.92105263,0.92105263,0.92105263,0.97368425,0.9736843,0.97368425,0.97368425,0.9736843,0.97368425,0.97368425,0.9736843,0.97368425,0.97368425,0.9736843,0.97368425,0.97368425,0.9736843,0.97368425,0.97368425,0.9736843,0.97368425,0.97368425,0.9736843,0.97368425,0.97368425,0.9736843,0.97368425,0.97368425,0.9736843,0.97368425,0.97368425,0.9736843,0.97368425,0.97368425,0.9736843,0.97368425,0.97368425,0.9736843,0.97368425,0.97368425,0.9736843,0.97368425,0.97368425,0.9736843,0.97368425,0.97368425,0.9736843,0.97368425,0.97368425,0.9736843,0.97368425,0.97368425,0.9736843,0.97368425,0.97368425,0.9736843,0.97368425,0.97368425,0.9736843,0.97368425,0.049999997,0.049999997,0.049999997,0.05,0.050000012,0.049999997,0.049999997,0.049999997,0.049999997,0.05,0.050000012,0.049999997,0.049999997,0.049999997,0.049999997,0.05,0.050000012,0.049999997,0.049999997,0.049999997,0.049999997,0.05,0.050000012,0.049999997,0.049999997,0.049999997,0.049999997,0.05,0.050000012,0.049999997,0.049999997,0.049999997,0.049999997,0.05,0.050000012,0.049999997,0.049999997,0.049999997,0.049999997,0.05,0.050000012,0.049999997,0.049999997,0.049999997,0.049999997,0.05,0.050000012,0.049999997,0.049999997,0.049999997,0.049999997,0.05,0.050000012,0.049999997,0.049999997,0.049999997,0.049999997,0.05,0.050000012,0.049999997,0.15,0.15,0.15,0.15,0.15,0.15,0.15,0.15,0.15,0.15,0.15,0.15,0.15,0.15,0.15,0.15,0.15,0.15,0.15,0.15,0.15,0.15,0.15,0.15,0.15,0.15,0.15,0.15,0.15,0.15,0.15,0.15,0.15,0.15,0.15,0.15,0.15,0.15,0.15,0.15,0.15,0.15,0.15,0.15,0.15,0.15,0.15,0.15,0.15,0.15,0.15,0.15,0.15,0.15,0.15,0.15,0.15,0.15,0.15,0.15,0.25,0.25,0.25,0.25,0.25000003,0.25,0.25,0.25,0.25,0.25,0.25000003,0.25,0.25,0.25,0.25,0.25,0.25000003,0.25,0.25,0.25,0.25,0.25,0.25000003,0.25,0.25,0.25,0.25,0.25,0.25000003,0.25,0.25,0.25,0.25,0.25,0.25000003,0.25,0.25,0.25,0.25,0.25,0.25000003,0.25,0.25,0.25,0.25,0.25,0.25000003,0.25,0.25,0.25,0.25,0.25,0.25000003,0.25,0.25,0.25,0.25,0.25,0.25000003,0.25,0.35000002,0.35000002,0.35000002,0.35000002,0.35000005,0.35000002,0.35000002,0.35000002,0.35000002,0.35000002,0.35000005,0.35000002,0.35000002,0.35000002,0.35000002,0.35000002,0.35000005,0.35000002,0.35000002,0.35000002,0.35000002,0.35000002,0.35000005,0.35000002,0.35000002,0.35000002,0.35000002,0.35000002,0.35000005,0.35000002,0.35000002,0.35000002,0.35000002,0.35000002,0.35000005,0.35000002,0.35000002,0.35000002,0.35000002,0.35000002,0.35000005,0.35000002,0.35000002,0.35000002,0.35000002,0.35000002,0.35000005,0.35000002,0.35000002,0.35000002,0.35000002,0.35000002,0.35000005,0.35000002,0.35000002,0.35000002,0.35000002,0.35000002,0.35000005,0.35000002,0.45,0.45000002,0.45000002,0.45000002,0.45000002,0.45000002,0.45,0.45000002,0.45000002,0.45000002,0.45000002,0.45000002,0.45,0.45000002,0.45000002,0.45000002,0.45000002,0.45000002,0.45,0.45000002,0.45000002,0.45000002,0.45000002,0.45000002,0.45,0.45000002,0.45000002,0.45000002,0.45000002,0.45000002,0.45,0.45000002,0.45000002,0.45000002,0.45000002,0.45000002,0.45,0.45000002,0.45000002,0.45000002,0.45000002,0.45000002,0.45,0.45000002,0.45000002,0.45000002,0.45000002,0.45000002,0.45,0.45000002,0.45000002,0.45000002,0.45000002,0.45000002,0.45,0.45000002,0.45000002,0.45000002,0.45000002,0.45000002,0.55,0.55,0.55,0.55,0.54999995,0.55,0.55,0.55,0.55,0.55,0.54999995,0.55,0.55,0.55,0.55,0.55,0.54999995,0.55,0.55,0.55,0.55,0.55,0.54999995,0.55,0.55,0.55,0.55,0.55,0.54999995,0.55,0.55,0.55,0.55,0.55,0.54999995,0.55,0.55,0.55,0.55,0.55,0.54999995,0.55,0.55,0.55,0.55,0.55,0.54999995,0.55,0.55,0.55,0.55,0.55,0.54999995,0.55,0.55,0.55,0.55,0.55,0.54999995,0.55,0.65000004,0.65000004,0.65000004,0.65000004,0.65,0.65000004,0.65000004,0.65000004,0.65000004,0.65000004,0.65,0.65000004,0.65000004,0.65000004,0.65000004,0.65000004,0.65,0.65000004,0.65000004,0.65000004,0.65000004,0.65000004,0.65,0.65000004,0.65000004,0.65000004,0.65000004,0.65000004,0.65,0.65000004,0.65000004,0.65000004,0.65000004,0.65000004,0.65,0.65000004,0.65000004,0.65000004,0.65000004,0.65000004,0.65,0.65000004,0.65000004,0.65000004,0.65000004,0.65000004,0.65,0.65000004,0.65000004,0.65000004,0.65000004,0.65000004,0.65,0.65000004,0.65000004,0.65000004,0.65000004,0.65000004,0.65,0.65000004,0.75,0.75,0.75,0.75,0.75,0.75,0.75,0.75,0.75,0.75,0.75,0.75,0.75,0.75,0.75,0.75,0.75,0.75,0.75,0.75,0.75,0.75,0.75,0.75,0.75,0.75,0.75,0.75,0.75,0.75,0.75,0.75,0.75,0.75,0.75,0.75,0.75,0.75,0.75,0.75,0.75,0.75,0.75,0.75,0.75,0.75,0.75,0.75,0.75,0.75,0.75,0.75,0.75,0.75,0.75,0.75,0.75,0.75,0.75,0.75,0.85,0.85,0.85,0.85,0.85,0.85,0.85,0.85,0.85,0.85,0.85,0.85,0.85,0.85,0.85,0.85,0.85,0.85,0.85,0.85,0.85,0.85,0.85,0.85,0.85,0.85,0.85,0.85,0.85,0.85,0.85,0.85,0.85,0.85,0.85,0.85,0.85,0.85,0.85,0.85,0.85,0.85,0.85,0.85,0.85,0.85,0.85,0.85,0.85,0.85,0.85,0.85,0.85,0.85,0.85,0.85,0.85,0.85,0.85,0.85,0.95000005,0.95000005,0.95000005,0.95000005,0.95000005,0.95000005,0.95000005,0.95000005,0.95000005,0.95000005,0.95000005,0.95000005,0.95000005,0.95000005,0.95000005,0.95000005,0.95000005,0.95000005,0.95000005,0.95000005,0.95000005,0.95000005,0.95000005,0.95000005,0.95000005,0.95000005,0.95000005,0.95000005,0.95000005,0.95000005,0.95000005,0.95000005,0.95000005,0.95000005,0.95000005,0.95000005,0.95000005,0.95000005,0.95000005,0.95000005,0.95000005,0.95000005,0.95000005,0.95000005,0.95000005,0.95000005,0.95000005,0.95000005,0.95000005,0.95000005,0.95000005,0.95000005,0.95000005,0.95000005,0.95000005,0.95000005,0.95000005,0.95000005,0.95000005,0.95000005,0.099999994,0.1,0.099999994,0.1,0.099999994,0.099999994,0.099999994,0.1,0.099999994,0.1,0.099999994,0.099999994,0.099999994,0.1,0.099999994,0.1,0.099999994,0.099999994,0.099999994,0.1,0.099999994,0.1,0.099999994,0.099999994,0.099999994,0.1,0.099999994,0.1,0.099999994,0.099999994,0.30000004,0.3,0.3,0.3,0.3,0.30000004,0.30000004,0.3,0.3,0.3,0.3,0.30000004,0.30000004,0.3,0.3,0.3,0.3,0.30000004,0.30000004,0.3,0.3,0.3,0.3,0.30000004,0.30000004,0.3,0.3,0.3,0.3,0.30000004,0.49999997,0.5,0.5,0.5,0.5,0.49999997,0.49999997,0.5,0.5,0.5,0.5,0.49999997,0.49999997,0.5,0.5,0.5,0.5,0.49999997,0.49999997,0.5,0.5,0.5,0.5,0.49999997,0.49999997,0.5,0.5,0.5,0.5,0.49999997,0.70000005,0.70000005,0.70000005,0.70000005,0.70000005,0.70000005,0.70000005,0.70000005,0.70000005,0.70000005,0.70000005,0.70000005,0.70000005,0.70000005,0.70000005,0.70000005,0.70000005,0.70000005,0.70000005,0.70000005,0.70000005,0.70000005,0.70000005,0.70000005,0.70000005,0.70000005,0.70000005,0.70000005,0.70000005,0.70000005,0.90000004,0.90000004,0.9,0.90000004,0.90000004,0.90000004,0.90000004,0.90000004,0.9,0.90000004,0.90000004,0.90000004,0.90000004,0.90000004,0.9,0.90000004,0.90000004,0.90000004,0.90000004,0.90000004,0.9,0.90000004,0.90000004,0.90000004,0.90000004,0.90000004,0.9,0.90000004,0.90000004,0.90000004,0.16666667,0.16666667,0.16666666,0.16666667,0.16666669,0.16666667,0.16666667,0.16666667,0.16666666,0.16666667,0.16666669,0.16666667,0.16666667,0.16666667,0.16666666,0.16666667,0.16666669,0.16666667,0.5,0.5,0.49999997,0.5,0.5,0.5,0.5,0.5,0.49999997,0.5,0.5,0.5,0.5,0.5,0.49999997,0.5,0.5,0.5,0.8333334,0.8333334,0.8333334,0.8333334,0.8333334,0.8333334,0.8333334,0.8333334,0.8333334,0.8333334,0.8333334,0.8333334,0.8333334,0.8333334,0.8333334,0.8333334,0.8333334,0.8333334,0.25,0.25,0.25,0.24999999,0.25,0.25,0.25,0.25,0.25,0.24999999,0.25,0.25,0.75,0.75,0.75,0.75,0.74999994,0.75,0.75,0.75,0.75,0.75,0.74999994,0.75,0.5,0.5,0.5,0.5,0.5,0.5,\n",
    "0.02631579,0.026315793,0.02631579,0.078947365,0.078947365,0.07894737,0.13157895,0.13157894,0.13157895,0.18421052,0.18421052,0.18421051,0.23684211,0.23684211,0.23684211,0.28947368,0.28947365,0.28947368,0.34210524,0.3421052,0.34210524,0.39473683,0.39473683,0.39473683,0.4473684,0.4473684,0.4473684,0.5,0.5,0.5,0.5526316,0.5526316,0.5526316,0.6052632,0.6052632,0.6052632,0.65789473,0.65789473,0.65789473,0.71052635,0.71052635,0.71052635,0.7631579,0.7631579,0.7631579,0.8157895,0.8157895,0.8157895,0.8684211,0.8684211,0.8684211,0.92105263,0.92105263,0.92105263,0.97368425,0.97368425,0.9736843,0.02631579,0.026315793,0.02631579,0.078947365,0.078947365,0.07894737,0.13157895,0.13157894,0.13157895,0.18421052,0.18421052,0.18421051,0.23684211,0.23684211,0.23684211,0.28947368,0.28947365,0.28947368,0.34210524,0.3421052,0.34210524,0.39473683,0.39473683,0.39473683,0.4473684,0.4473684,0.4473684,0.5,0.5,0.5,0.5526316,0.5526316,0.5526316,0.6052632,0.6052632,0.6052632,0.65789473,0.65789473,0.65789473,0.71052635,0.71052635,0.71052635,0.7631579,0.7631579,0.7631579,0.8157895,0.8157895,0.8157895,0.8684211,0.8684211,0.8684211,0.92105263,0.92105263,0.92105263,0.97368425,0.97368425,0.9736843,0.02631579,0.026315793,0.02631579,0.078947365,0.078947365,0.07894737,0.13157895,0.13157894,0.13157895,0.18421052,0.18421052,0.18421051,0.23684211,0.23684211,0.23684211,0.28947368,0.28947365,0.28947368,0.34210524,0.3421052,0.34210524,0.39473683,0.39473683,0.39473683,0.4473684,0.4473684,0.4473684,0.5,0.5,0.5,0.5526316,0.5526316,0.5526316,0.6052632,0.6052632,0.6052632,0.65789473,0.65789473,0.65789473,0.71052635,0.71052635,0.71052635,0.7631579,0.7631579,0.7631579,0.8157895,0.8157895,0.8157895,0.8684211,0.8684211,0.8684211,0.92105263,0.92105263,0.92105263,0.97368425,0.97368425,0.9736843,0.02631579,0.026315793,0.02631579,0.078947365,0.078947365,0.07894737,0.13157895,0.13157894,0.13157895,0.18421052,0.18421052,0.18421051,0.23684211,0.23684211,0.23684211,0.28947368,0.28947365,0.28947368,0.34210524,0.3421052,0.34210524,0.39473683,0.39473683,0.39473683,0.4473684,0.4473684,0.4473684,0.5,0.5,0.5,0.5526316,0.5526316,0.5526316,0.6052632,0.6052632,0.6052632,0.65789473,0.65789473,0.65789473,0.71052635,0.71052635,0.71052635,0.7631579,0.7631579,0.7631579,0.8157895,0.8157895,0.8157895,0.8684211,0.8684211,0.8684211,0.92105263,0.92105263,0.92105263,0.97368425,0.97368425,0.9736843,0.02631579,0.026315793,0.02631579,0.078947365,0.078947365,0.07894737,0.13157895,0.13157894,0.13157895,0.18421052,0.18421052,0.18421051,0.23684211,0.23684211,0.23684211,0.28947368,0.28947365,0.28947368,0.34210524,0.3421052,0.34210524,0.39473683,0.39473683,0.39473683,0.4473684,0.4473684,0.4473684,0.5,0.5,0.5,0.5526316,0.5526316,0.5526316,0.6052632,0.6052632,0.6052632,0.65789473,0.65789473,0.65789473,0.71052635,0.71052635,0.71052635,0.7631579,0.7631579,0.7631579,0.8157895,0.8157895,0.8157895,0.8684211,0.8684211,0.8684211,0.92105263,0.92105263,0.92105263,0.97368425,0.97368425,0.9736843,0.02631579,0.026315793,0.02631579,0.078947365,0.078947365,0.07894737,0.13157895,0.13157894,0.13157895,0.18421052,0.18421052,0.18421051,0.23684211,0.23684211,0.23684211,0.28947368,0.28947365,0.28947368,0.34210524,0.3421052,0.34210524,0.39473683,0.39473683,0.39473683,0.4473684,0.4473684,0.4473684,0.5,0.5,0.5,0.5526316,0.5526316,0.5526316,0.6052632,0.6052632,0.6052632,0.65789473,0.65789473,0.65789473,0.71052635,0.71052635,0.71052635,0.7631579,0.7631579,0.7631579,0.8157895,0.8157895,0.8157895,0.8684211,0.8684211,0.8684211,0.92105263,0.92105263,0.92105263,0.97368425,0.97368425,0.9736843,0.02631579,0.026315793,0.02631579,0.078947365,0.078947365,0.07894737,0.13157895,0.13157894,0.13157895,0.18421052,0.18421052,0.18421051,0.23684211,0.23684211,0.23684211,0.28947368,0.28947365,0.28947368,0.34210524,0.3421052,0.34210524,0.39473683,0.39473683,0.39473683,0.4473684,0.4473684,0.4473684,0.5,0.5,0.5,0.5526316,0.5526316,0.5526316,0.6052632,0.6052632,0.6052632,0.65789473,0.65789473,0.65789473,0.71052635,0.71052635,0.71052635,0.7631579,0.7631579,0.7631579,0.8157895,0.8157895,0.8157895,0.8684211,0.8684211,0.8684211,0.92105263,0.92105263,0.92105263,0.97368425,0.97368425,0.9736843,0.02631579,0.026315793,0.02631579,0.078947365,0.078947365,0.07894737,0.13157895,0.13157894,0.13157895,0.18421052,0.18421052,0.18421051,0.23684211,0.23684211,0.23684211,0.28947368,0.28947365,0.28947368,0.34210524,0.3421052,0.34210524,0.39473683,0.39473683,0.39473683,0.4473684,0.4473684,0.4473684,0.5,0.5,0.5,0.5526316,0.5526316,0.5526316,0.6052632,0.6052632,0.6052632,0.65789473,0.65789473,0.65789473,0.71052635,0.71052635,0.71052635,0.7631579,0.7631579,0.7631579,0.8157895,0.8157895,0.8157895,0.8684211,0.8684211,0.8684211,0.92105263,0.92105263,0.92105263,0.97368425,0.97368425,0.9736843,0.02631579,0.026315793,0.02631579,0.078947365,0.078947365,0.07894737,0.13157895,0.13157894,0.13157895,0.18421052,0.18421052,0.18421051,0.23684211,0.23684211,0.23684211,0.28947368,0.28947365,0.28947368,0.34210524,0.3421052,0.34210524,0.39473683,0.39473683,0.39473683,0.4473684,0.4473684,0.4473684,0.5,0.5,0.5,0.5526316,0.5526316,0.5526316,0.6052632,0.6052632,0.6052632,0.65789473,0.65789473,0.65789473,0.71052635,0.71052635,0.71052635,0.7631579,0.7631579,0.7631579,0.8157895,0.8157895,0.8157895,0.8684211,0.8684211,0.8684211,0.92105263,0.92105263,0.92105263,0.97368425,0.97368425,0.9736843,0.02631579,0.026315793,0.02631579,0.078947365,0.078947365,0.07894737,0.13157895,0.13157894,0.13157895,0.18421052,0.18421052,0.18421051,0.23684211,0.23684211,0.23684211,0.28947368,0.28947365,0.28947368,0.34210524,0.3421052,0.34210524,0.39473683,0.39473683,0.39473683,0.4473684,0.4473684,0.4473684,0.5,0.5,0.5,0.5526316,0.5526316,0.5526316,0.6052632,0.6052632,0.6052632,0.65789473,0.65789473,0.65789473,0.71052635,0.71052635,0.71052635,0.7631579,0.7631579,0.7631579,0.8157895,0.8157895,0.8157895,0.8684211,0.8684211,0.8684211,0.92105263,0.92105263,0.92105263,0.97368425,0.97368425,0.9736843,0.02631579,0.026315793,0.02631579,0.078947365,0.078947365,0.07894737,0.13157895,0.13157894,0.13157895,0.18421052,0.18421052,0.18421051,0.23684211,0.23684211,0.23684211,0.28947368,0.28947365,0.28947368,0.34210524,0.3421052,0.34210524,0.39473683,0.39473683,0.39473683,0.4473684,0.4473684,0.4473684,0.5,0.5,0.5,0.5526316,0.5526316,0.5526316,0.6052632,0.6052632,0.6052632,0.65789473,0.65789473,0.65789473,0.71052635,0.71052635,0.71052635,0.7631579,0.7631579,0.7631579,0.8157895,0.8157895,0.8157895,0.8684211,0.8684211,0.8684211,0.92105263,0.92105263,0.92105263,0.97368425,0.97368425,0.9736843,0.02631579,0.026315793,0.02631579,0.078947365,0.078947365,0.07894737,0.13157895,0.13157894,0.13157895,0.18421052,0.18421052,0.18421051,0.23684211,0.23684211,0.23684211,0.28947368,0.28947365,0.28947368,0.34210524,0.3421052,0.34210524,0.39473683,0.39473683,0.39473683,0.4473684,0.4473684,0.4473684,0.5,0.5,0.5,0.5526316,0.5526316,0.5526316,0.6052632,0.6052632,0.6052632,0.65789473,0.65789473,0.65789473,0.71052635,0.71052635,0.71052635,0.7631579,0.7631579,0.7631579,0.8157895,0.8157895,0.8157895,0.8684211,0.8684211,0.8684211,0.92105263,0.92105263,0.92105263,0.97368425,0.97368425,0.9736843,0.02631579,0.026315793,0.02631579,0.078947365,0.078947365,0.07894737,0.13157895,0.13157894,0.13157895,0.18421052,0.18421052,0.18421051,0.23684211,0.23684211,0.23684211,0.28947368,0.28947365,0.28947368,0.34210524,0.3421052,0.34210524,0.39473683,0.39473683,0.39473683,0.4473684,0.4473684,0.4473684,0.5,0.5,0.5,0.5526316,0.5526316,0.5526316,0.6052632,0.6052632,0.6052632,0.65789473,0.65789473,0.65789473,0.71052635,0.71052635,0.71052635,0.7631579,0.7631579,0.7631579,0.8157895,0.8157895,0.8157895,0.8684211,0.8684211,0.8684211,0.92105263,0.92105263,0.92105263,0.97368425,0.97368425,0.9736843,0.02631579,0.026315793,0.02631579,0.078947365,0.078947365,0.07894737,0.13157895,0.13157894,0.13157895,0.18421052,0.18421052,0.18421051,0.23684211,0.23684211,0.23684211,0.28947368,0.28947365,0.28947368,0.34210524,0.3421052,0.34210524,0.39473683,0.39473683,0.39473683,0.4473684,0.4473684,0.4473684,0.5,0.5,0.5,0.5526316,0.5526316,0.5526316,0.6052632,0.6052632,0.6052632,0.65789473,0.65789473,0.65789473,0.71052635,0.71052635,0.71052635,0.7631579,0.7631579,0.7631579,0.8157895,0.8157895,0.8157895,0.8684211,0.8684211,0.8684211,0.92105263,0.92105263,0.92105263,0.97368425,0.97368425,0.9736843,0.02631579,0.026315793,0.02631579,0.078947365,0.078947365,0.07894737,0.13157895,0.13157894,0.13157895,0.18421052,0.18421052,0.18421051,0.23684211,0.23684211,0.23684211,0.28947368,0.28947365,0.28947368,0.34210524,0.3421052,0.34210524,0.39473683,0.39473683,0.39473683,0.4473684,0.4473684,0.4473684,0.5,0.5,0.5,0.5526316,0.5526316,0.5526316,0.6052632,0.6052632,0.6052632,0.65789473,0.65789473,0.65789473,0.71052635,0.71052635,0.71052635,0.7631579,0.7631579,0.7631579,0.8157895,0.8157895,0.8157895,0.8684211,0.8684211,0.8684211,0.92105263,0.92105263,0.92105263,0.97368425,0.97368425,0.9736843,0.02631579,0.026315793,0.02631579,0.078947365,0.078947365,0.07894737,0.13157895,0.13157894,0.13157895,0.18421052,0.18421052,0.18421051,0.23684211,0.23684211,0.23684211,0.28947368,0.28947365,0.28947368,0.34210524,0.3421052,0.34210524,0.39473683,0.39473683,0.39473683,0.4473684,0.4473684,0.4473684,0.5,0.5,0.5,0.5526316,0.5526316,0.5526316,0.6052632,0.6052632,0.6052632,0.65789473,0.65789473,0.65789473,0.71052635,0.71052635,0.71052635,0.7631579,0.7631579,0.7631579,0.8157895,0.8157895,0.8157895,0.8684211,0.8684211,0.8684211,0.92105263,0.92105263,0.92105263,0.97368425,0.97368425,0.9736843,0.02631579,0.026315793,0.02631579,0.078947365,0.078947365,0.07894737,0.13157895,0.13157894,0.13157895,0.18421052,0.18421052,0.18421051,0.23684211,0.23684211,0.23684211,0.28947368,0.28947365,0.28947368,0.34210524,0.3421052,0.34210524,0.39473683,0.39473683,0.39473683,0.4473684,0.4473684,0.4473684,0.5,0.5,0.5,0.5526316,0.5526316,0.5526316,0.6052632,0.6052632,0.6052632,0.65789473,0.65789473,0.65789473,0.71052635,0.71052635,0.71052635,0.7631579,0.7631579,0.7631579,0.8157895,0.8157895,0.8157895,0.8684211,0.8684211,0.8684211,0.92105263,0.92105263,0.92105263,0.97368425,0.97368425,0.9736843,0.02631579,0.026315793,0.02631579,0.078947365,0.078947365,0.07894737,0.13157895,0.13157894,0.13157895,0.18421052,0.18421052,0.18421051,0.23684211,0.23684211,0.23684211,0.28947368,0.28947365,0.28947368,0.34210524,0.3421052,0.34210524,0.39473683,0.39473683,0.39473683,0.4473684,0.4473684,0.4473684,0.5,0.5,0.5,0.5526316,0.5526316,0.5526316,0.6052632,0.6052632,0.6052632,0.65789473,0.65789473,0.65789473,0.71052635,0.71052635,0.71052635,0.7631579,0.7631579,0.7631579,0.8157895,0.8157895,0.8157895,0.8684211,0.8684211,0.8684211,0.92105263,0.92105263,0.92105263,0.97368425,0.97368425,0.9736843,0.02631579,0.026315793,0.02631579,0.078947365,0.078947365,0.07894737,0.13157895,0.13157894,0.13157895,0.18421052,0.18421052,0.18421051,0.23684211,0.23684211,0.23684211,0.28947368,0.28947365,0.28947368,0.34210524,0.3421052,0.34210524,0.39473683,0.39473683,0.39473683,0.4473684,0.4473684,0.4473684,0.5,0.5,0.5,0.5526316,0.5526316,0.5526316,0.6052632,0.6052632,0.6052632,0.65789473,0.65789473,0.65789473,0.71052635,0.71052635,0.71052635,0.7631579,0.7631579,0.7631579,0.8157895,0.8157895,0.8157895,0.8684211,0.8684211,0.8684211,0.92105263,0.92105263,0.92105263,0.97368425,0.97368425,0.9736843,0.049999997,0.049999997,0.050000004,0.050000012,0.05,0.049999997,0.15,0.14999999,0.15,0.15,0.15,0.15,0.25,0.25,0.25,0.25,0.25,0.25,0.35000002,0.35000002,0.35000002,0.35000002,0.35000002,0.35000002,0.45000002,0.45,0.45000002,0.45000002,0.45,0.45000002,0.55,0.55,0.55,0.55,0.55,0.55,0.65000004,0.65000004,0.65000004,0.65000004,0.65000004,0.65000004,0.75,0.75,0.75,0.75,0.75,0.75,0.85,0.85,0.85,0.85,0.85,0.85,0.95000005,0.95000005,0.95000005,0.95000005,0.95000005,0.95000005,0.049999997,0.049999997,0.050000004,0.050000012,0.05,0.049999997,0.15,0.14999999,0.15,0.15,0.15,0.15,0.25,0.25,0.25,0.25,0.25,0.25,0.35000002,0.35000002,0.35000002,0.35000002,0.35000002,0.35000002,0.45000002,0.45,0.45000002,0.45000002,0.45,0.45000002,0.55,0.55,0.55,0.55,0.55,0.55,0.65000004,0.65000004,0.65000004,0.65000004,0.65000004,0.65000004,0.75,0.75,0.75,0.75,0.75,0.75,0.85,0.85,0.85,0.85,0.85,0.85,0.95000005,0.95000005,0.95000005,0.95000005,0.95000005,0.95000005,0.049999997,0.049999997,0.050000004,0.050000012,0.05,0.049999997,0.15,0.14999999,0.15,0.15,0.15,0.15,0.25,0.25,0.25,0.25,0.25,0.25,0.35000002,0.35000002,0.35000002,0.35000002,0.35000002,0.35000002,0.45000002,0.45,0.45000002,0.45000002,0.45,0.45000002,0.55,0.55,0.55,0.55,0.55,0.55,0.65000004,0.65000004,0.65000004,0.65000004,0.65000004,0.65000004,0.75,0.75,0.75,0.75,0.75,0.75,0.85,0.85,0.85,0.85,0.85,0.85,0.95000005,0.95000005,0.95000005,0.95000005,0.95000005,0.95000005,0.049999997,0.049999997,0.050000004,0.050000012,0.05,0.049999997,0.15,0.14999999,0.15,0.15,0.15,0.15,0.25,0.25,0.25,0.25,0.25,0.25,0.35000002,0.35000002,0.35000002,0.35000002,0.35000002,0.35000002,0.45000002,0.45,0.45000002,0.45000002,0.45,0.45000002,0.55,0.55,0.55,0.55,0.55,0.55,0.65000004,0.65000004,0.65000004,0.65000004,0.65000004,0.65000004,0.75,0.75,0.75,0.75,0.75,0.75,0.85,0.85,0.85,0.85,0.85,0.85,0.95000005,0.95000005,0.95000005,0.95000005,0.95000005,0.95000005,0.049999997,0.049999997,0.050000004,0.050000012,0.05,0.049999997,0.15,0.14999999,0.15,0.15,0.15,0.15,0.25,0.25,0.25,0.25,0.25,0.25,0.35000002,0.35000002,0.35000002,0.35000002,0.35000002,0.35000002,0.45000002,0.45,0.45000002,0.45000002,0.45,0.45000002,0.55,0.55,0.55,0.55,0.55,0.55,0.65000004,0.65000004,0.65000004,0.65000004,0.65000004,0.65000004,0.75,0.75,0.75,0.75,0.75,0.75,0.85,0.85,0.85,0.85,0.85,0.85,0.95000005,0.95000005,0.95000005,0.95000005,0.95000005,0.95000005,0.049999997,0.049999997,0.050000004,0.050000012,0.05,0.049999997,0.15,0.14999999,0.15,0.15,0.15,0.15,0.25,0.25,0.25,0.25,0.25,0.25,0.35000002,0.35000002,0.35000002,0.35000002,0.35000002,0.35000002,0.45000002,0.45,0.45000002,0.45000002,0.45,0.45000002,0.55,0.55,0.55,0.55,0.55,0.55,0.65000004,0.65000004,0.65000004,0.65000004,0.65000004,0.65000004,0.75,0.75,0.75,0.75,0.75,0.75,0.85,0.85,0.85,0.85,0.85,0.85,0.95000005,0.95000005,0.95000005,0.95000005,0.95000005,0.95000005,0.049999997,0.049999997,0.050000004,0.050000012,0.05,0.049999997,0.15,0.14999999,0.15,0.15,0.15,0.15,0.25,0.25,0.25,0.25,0.25,0.25,0.35000002,0.35000002,0.35000002,0.35000002,0.35000002,0.35000002,0.45000002,0.45,0.45000002,0.45000002,0.45,0.45000002,0.55,0.55,0.55,0.55,0.55,0.55,0.65000004,0.65000004,0.65000004,0.65000004,0.65000004,0.65000004,0.75,0.75,0.75,0.75,0.75,0.75,0.85,0.85,0.85,0.85,0.85,0.85,0.95000005,0.95000005,0.95000005,0.95000005,0.95000005,0.95000005,0.049999997,0.049999997,0.050000004,0.050000012,0.05,0.049999997,0.15,0.14999999,0.15,0.15,0.15,0.15,0.25,0.25,0.25,0.25,0.25,0.25,0.35000002,0.35000002,0.35000002,0.35000002,0.35000002,0.35000002,0.45000002,0.45,0.45000002,0.45000002,0.45,0.45000002,0.55,0.55,0.55,0.55,0.55,0.55,0.65000004,0.65000004,0.65000004,0.65000004,0.65000004,0.65000004,0.75,0.75,0.75,0.75,0.75,0.75,0.85,0.85,0.85,0.85,0.85,0.85,0.95000005,0.95000005,0.95000005,0.95000005,0.95000005,0.95000005,0.049999997,0.049999997,0.050000004,0.050000012,0.05,0.049999997,0.15,0.14999999,0.15,0.15,0.15,0.15,0.25,0.25,0.25,0.25,0.25,0.25,0.35000002,0.35000002,0.35000002,0.35000002,0.35000002,0.35000002,0.45000002,0.45,0.45000002,0.45000002,0.45,0.45000002,0.55,0.55,0.55,0.55,0.55,0.55,0.65000004,0.65000004,0.65000004,0.65000004,0.65000004,0.65000004,0.75,0.75,0.75,0.75,0.75,0.75,0.85,0.85,0.85,0.85,0.85,0.85,0.95000005,0.95000005,0.95000005,0.95000005,0.95000005,0.95000005,0.049999997,0.049999997,0.050000004,0.050000012,0.05,0.049999997,0.15,0.14999999,0.15,0.15,0.15,0.15,0.25,0.25,0.25,0.25,0.25,0.25,0.35000002,0.35000002,0.35000002,0.35000002,0.35000002,0.35000002,0.45000002,0.45,0.45000002,0.45000002,0.45,0.45000002,0.55,0.55,0.55,0.55,0.55,0.55,0.65000004,0.65000004,0.65000004,0.65000004,0.65000004,0.65000004,0.75,0.75,0.75,0.75,0.75,0.75,0.85,0.85,0.85,0.85,0.85,0.85,0.95000005,0.95000005,0.95000005,0.95000005,0.95000005,0.95000005,0.10000001,0.099999994,0.1,0.099999994,0.1,0.099999994,0.3,0.3,0.3,0.29999998,0.3,0.30000004,0.5,0.5,0.5,0.5,0.5,0.49999997,0.70000005,0.70000005,0.70000005,0.70000005,0.70000005,0.70000005,0.9,0.90000004,0.90000004,0.9,0.90000004,0.90000004,0.10000001,0.099999994,0.1,0.099999994,0.1,0.099999994,0.3,0.3,0.3,0.29999998,0.3,0.30000004,0.5,0.5,0.5,0.5,0.5,0.49999997,0.70000005,0.70000005,0.70000005,0.70000005,0.70000005,0.70000005,0.9,0.90000004,0.90000004,0.9,0.90000004,0.90000004,0.10000001,0.099999994,0.1,0.099999994,0.1,0.099999994,0.3,0.3,0.3,0.29999998,0.3,0.30000004,0.5,0.5,0.5,0.5,0.5,0.49999997,0.70000005,0.70000005,0.70000005,0.70000005,0.70000005,0.70000005,0.9,0.90000004,0.90000004,0.9,0.90000004,0.90000004,0.10000001,0.099999994,0.1,0.099999994,0.1,0.099999994,0.3,0.3,0.3,0.29999998,0.3,0.30000004,0.5,0.5,0.5,0.5,0.5,0.49999997,0.70000005,0.70000005,0.70000005,0.70000005,0.70000005,0.70000005,0.9,0.90000004,0.90000004,0.9,0.90000004,0.90000004,0.10000001,0.099999994,0.1,0.099999994,0.1,0.099999994,0.3,0.3,0.3,0.29999998,0.3,0.30000004,0.5,0.5,0.5,0.5,0.5,0.49999997,0.70000005,0.70000005,0.70000005,0.70000005,0.70000005,0.70000005,0.9,0.90000004,0.90000004,0.9,0.90000004,0.90000004,0.16666667,0.16666669,0.16666667,0.16666669,0.16666667,0.16666667,0.49999997,0.5,0.5,0.50000006,0.5,0.5,0.8333334,0.8333334,0.8333334,0.8333333,0.8333334,0.8333334,0.16666667,0.16666669,0.16666667,0.16666669,0.16666667,0.16666667,0.49999997,0.5,0.5,0.50000006,0.5,0.5,0.8333334,0.8333334,0.8333334,0.8333333,0.8333334,0.8333334,0.16666667,0.16666669,0.16666667,0.16666669,0.16666667,0.16666667,0.49999997,0.5,0.5,0.50000006,0.5,0.5,0.8333334,0.8333334,0.8333334,0.8333333,0.8333334,0.8333334,0.25,0.25,0.25,0.25,0.25,0.25,0.75,0.75,0.75,0.75,0.75,0.75,0.25,0.25,0.25,0.25,0.25,0.25,0.75,0.75,0.75,0.75,0.75,0.75,0.5,0.5,0.5,0.5,0.5,0.5,\n",
    "0.1,0.14142136,0.28284273,0.1,0.14142136,0.28284273,0.1,0.14142136,0.28284273,0.1,0.14142136,0.28284273,0.1,0.14142136,0.28284273,0.1,0.14142136,0.28284273,0.1,0.14142136,0.28284273,0.1,0.14142136,0.28284273,0.1,0.14142136,0.28284273,0.1,0.14142136,0.28284273,0.1,0.14142136,0.28284273,0.1,0.14142136,0.28284273,0.1,0.14142136,0.28284273,0.1,0.14142136,0.28284273,0.1,0.14142136,0.28284273,0.1,0.14142136,0.28284273,0.1,0.14142136,0.28284273,0.1,0.14142136,0.28284273,0.1,0.14142136,0.28284273,0.099999994,0.14142138,0.28284273,0.099999994,0.14142138,0.28284273,0.099999994,0.14142138,0.28284273,0.099999994,0.14142138,0.28284273,0.099999994,0.14142138,0.28284273,0.099999994,0.14142138,0.28284273,0.099999994,0.14142138,0.28284273,0.099999994,0.14142138,0.28284273,0.099999994,0.14142138,0.28284273,0.099999994,0.14142138,0.28284273,0.099999994,0.14142138,0.28284273,0.099999994,0.14142138,0.28284273,0.099999994,0.14142138,0.28284273,0.099999994,0.14142138,0.28284273,0.099999994,0.14142138,0.28284273,0.099999994,0.14142138,0.28284273,0.099999994,0.14142138,0.28284273,0.099999994,0.14142138,0.28284273,0.099999994,0.14142138,0.28284273,0.099999994,0.14142138,0.2828427,0.099999994,0.14142138,0.2828427,0.099999994,0.14142138,0.2828427,0.099999994,0.14142138,0.2828427,0.099999994,0.14142138,0.2828427,0.099999994,0.14142138,0.2828427,0.099999994,0.14142138,0.2828427,0.099999994,0.14142138,0.2828427,0.099999994,0.14142138,0.2828427,0.099999994,0.14142138,0.2828427,0.099999994,0.14142138,0.2828427,0.099999994,0.14142138,0.2828427,0.099999994,0.14142138,0.2828427,0.099999994,0.14142138,0.2828427,0.099999994,0.14142138,0.2828427,0.099999994,0.14142138,0.2828427,0.099999994,0.14142138,0.2828427,0.099999994,0.14142138,0.2828427,0.099999994,0.14142138,0.2828427,0.099999994,0.14142135,0.28284273,0.099999994,0.14142135,0.28284273,0.099999994,0.14142135,0.28284273,0.099999994,0.14142135,0.28284273,0.099999994,0.14142135,0.28284273,0.099999994,0.14142135,0.28284273,0.099999994,0.14142135,0.28284273,0.099999994,0.14142135,0.28284273,0.099999994,0.14142135,0.28284273,0.099999994,0.14142135,0.28284273,0.099999994,0.14142135,0.28284273,0.099999994,0.14142135,0.28284273,0.099999994,0.14142135,0.28284273,0.099999994,0.14142135,0.28284273,0.099999994,0.14142135,0.28284273,0.099999994,0.14142135,0.28284273,0.099999994,0.14142135,0.28284273,0.099999994,0.14142135,0.28284273,0.099999994,0.14142135,0.28284273,0.099999994,0.14142135,0.28284273,0.099999994,0.14142135,0.28284273,0.099999994,0.14142135,0.28284273,0.099999994,0.14142135,0.28284273,0.099999994,0.14142135,0.28284273,0.099999994,0.14142135,0.28284273,0.099999994,0.14142135,0.28284273,0.099999994,0.14142135,0.28284273,0.099999994,0.14142135,0.28284273,0.099999994,0.14142135,0.28284273,0.099999994,0.14142135,0.28284273,0.099999994,0.14142135,0.28284273,0.099999994,0.14142135,0.28284273,0.099999994,0.14142135,0.28284273,0.099999994,0.14142135,0.28284273,0.099999994,0.14142135,0.28284273,0.099999994,0.14142135,0.28284273,0.099999994,0.14142135,0.28284273,0.099999994,0.14142135,0.28284273,0.10000001,0.14142138,0.2828427,0.10000001,0.14142138,0.2828427,0.10000001,0.14142138,0.2828427,0.10000001,0.14142138,0.2828427,0.10000001,0.14142138,0.2828427,0.10000001,0.14142138,0.2828427,0.10000001,0.14142138,0.2828427,0.10000001,0.14142138,0.2828427,0.10000001,0.14142138,0.2828427,0.10000001,0.14142138,0.2828427,0.10000001,0.14142138,0.2828427,0.10000001,0.14142138,0.2828427,0.10000001,0.14142138,0.2828427,0.10000001,0.14142138,0.2828427,0.10000001,0.14142138,0.2828427,0.10000001,0.14142138,0.2828427,0.10000001,0.14142138,0.2828427,0.10000001,0.14142138,0.2828427,0.10000001,0.14142138,0.2828427,0.100000024,0.14142138,0.2828427,0.100000024,0.14142138,0.2828427,0.100000024,0.14142138,0.2828427,0.100000024,0.14142138,0.2828427,0.100000024,0.14142138,0.2828427,0.100000024,0.14142138,0.2828427,0.100000024,0.14142138,0.2828427,0.100000024,0.14142138,0.2828427,0.100000024,0.14142138,0.2828427,0.100000024,0.14142138,0.2828427,0.100000024,0.14142138,0.2828427,0.100000024,0.14142138,0.2828427,0.100000024,0.14142138,0.2828427,0.100000024,0.14142138,0.2828427,0.100000024,0.14142138,0.2828427,0.100000024,0.14142138,0.2828427,0.100000024,0.14142138,0.2828427,0.100000024,0.14142138,0.2828427,0.100000024,0.14142138,0.2828427,0.100000024,0.14142138,0.28284276,0.100000024,0.14142138,0.28284276,0.100000024,0.14142138,0.28284276,0.100000024,0.14142138,0.28284276,0.100000024,0.14142138,0.28284276,0.100000024,0.14142138,0.28284276,0.100000024,0.14142138,0.28284276,0.100000024,0.14142138,0.28284276,0.100000024,0.14142138,0.28284276,0.100000024,0.14142138,0.28284276,0.100000024,0.14142138,0.28284276,0.100000024,0.14142138,0.28284276,0.100000024,0.14142138,0.28284276,0.100000024,0.14142138,0.28284276,0.100000024,0.14142138,0.28284276,0.100000024,0.14142138,0.28284276,0.100000024,0.14142138,0.28284276,0.100000024,0.14142138,0.28284276,0.100000024,0.14142138,0.28284276,0.100000024,0.14142138,0.2828427,0.100000024,0.14142138,0.2828427,0.100000024,0.14142138,0.2828427,0.100000024,0.14142138,0.2828427,0.100000024,0.14142138,0.2828427,0.100000024,0.14142138,0.2828427,0.100000024,0.14142138,0.2828427,0.100000024,0.14142138,0.2828427,0.100000024,0.14142138,0.2828427,0.100000024,0.14142138,0.2828427,0.100000024,0.14142138,0.2828427,0.100000024,0.14142138,0.2828427,0.100000024,0.14142138,0.2828427,0.100000024,0.14142138,0.2828427,0.100000024,0.14142138,0.2828427,0.100000024,0.14142138,0.2828427,0.100000024,0.14142138,0.2828427,0.100000024,0.14142138,0.2828427,0.100000024,0.14142138,0.2828427,0.100000024,0.14142135,0.28284276,0.100000024,0.14142135,0.28284276,0.100000024,0.14142135,0.28284276,0.100000024,0.14142135,0.28284276,0.100000024,0.14142135,0.28284276,0.100000024,0.14142135,0.28284276,0.100000024,0.14142135,0.28284276,0.100000024,0.14142135,0.28284276,0.100000024,0.14142135,0.28284276,0.100000024,0.14142135,0.28284276,0.100000024,0.14142135,0.28284276,0.100000024,0.14142135,0.28284276,0.100000024,0.14142135,0.28284276,0.100000024,0.14142135,0.28284276,0.100000024,0.14142135,0.28284276,0.100000024,0.14142135,0.28284276,0.100000024,0.14142135,0.28284276,0.100000024,0.14142135,0.28284276,0.100000024,0.14142135,0.28284276,0.100000024,0.14142135,0.28284276,0.100000024,0.14142135,0.28284276,0.100000024,0.14142135,0.28284276,0.100000024,0.14142135,0.28284276,0.100000024,0.14142135,0.28284276,0.100000024,0.14142135,0.28284276,0.100000024,0.14142135,0.28284276,0.100000024,0.14142135,0.28284276,0.100000024,0.14142135,0.28284276,0.100000024,0.14142135,0.28284276,0.100000024,0.14142135,0.28284276,0.100000024,0.14142135,0.28284276,0.100000024,0.14142135,0.28284276,0.100000024,0.14142135,0.28284276,0.100000024,0.14142135,0.28284276,0.100000024,0.14142135,0.28284276,0.100000024,0.14142135,0.28284276,0.100000024,0.14142135,0.28284276,0.100000024,0.14142135,0.28284276,0.100000024,0.14142132,0.28284276,0.100000024,0.14142132,0.28284276,0.100000024,0.14142132,0.28284276,0.100000024,0.14142132,0.28284276,0.100000024,0.14142132,0.28284276,0.100000024,0.14142132,0.28284276,0.100000024,0.14142132,0.28284276,0.100000024,0.14142132,0.28284276,0.100000024,0.14142132,0.28284276,0.100000024,0.14142132,0.28284276,0.100000024,0.14142132,0.28284276,0.100000024,0.14142132,0.28284276,0.100000024,0.14142132,0.28284276,0.100000024,0.14142132,0.28284276,0.100000024,0.14142132,0.28284276,0.100000024,0.14142132,0.28284276,0.100000024,0.14142132,0.28284276,0.100000024,0.14142132,0.28284276,0.100000024,0.14142132,0.28284276,0.100000024,0.14142132,0.28284276,0.100000024,0.14142132,0.28284276,0.100000024,0.14142132,0.28284276,0.100000024,0.14142132,0.28284276,0.100000024,0.14142132,0.28284276,0.100000024,0.14142132,0.28284276,0.100000024,0.14142132,0.28284276,0.100000024,0.14142132,0.28284276,0.100000024,0.14142132,0.28284276,0.100000024,0.14142132,0.28284276,0.100000024,0.14142132,0.28284276,0.100000024,0.14142132,0.28284276,0.100000024,0.14142132,0.28284276,0.100000024,0.14142132,0.28284276,0.100000024,0.14142132,0.28284276,0.100000024,0.14142132,0.28284276,0.100000024,0.14142132,0.28284276,0.100000024,0.14142132,0.28284276,0.100000024,0.14142132,0.28284276,0.100000024,0.14142132,0.28284276,0.100000024,0.14142132,0.28284276,0.100000024,0.14142132,0.28284276,0.100000024,0.14142132,0.28284276,0.100000024,0.14142132,0.28284276,0.100000024,0.14142132,0.28284276,0.100000024,0.14142132,0.28284276,0.100000024,0.14142132,0.28284276,0.100000024,0.14142132,0.28284276,0.100000024,0.14142132,0.28284276,0.100000024,0.14142132,0.28284276,0.100000024,0.14142132,0.28284276,0.100000024,0.14142132,0.28284276,0.100000024,0.14142132,0.28284276,0.100000024,0.14142132,0.28284276,0.100000024,0.14142132,0.28284276,0.100000024,0.14142132,0.28284276,0.100000024,0.14142132,0.28284276,0.100000024,0.14142132,0.28284276,0.100000024,0.14142132,0.28284276,0.100000024,0.14142132,0.28284276,0.100000024,0.14142132,0.28284276,0.100000024,0.14142132,0.28284276,0.100000024,0.14142132,0.28284276,0.100000024,0.14142132,0.28284276,0.100000024,0.14142132,0.28284276,0.100000024,0.14142132,0.28284276,0.100000024,0.14142132,0.28284276,0.100000024,0.14142132,0.28284276,0.100000024,0.14142132,0.28284276,0.100000024,0.14142132,0.28284276,0.100000024,0.14142132,0.28284276,0.100000024,0.14142132,0.28284276,0.100000024,0.14142132,0.28284276,0.100000024,0.14142132,0.28284276,0.100000024,0.14142132,0.28284276,0.100000024,0.14142132,0.28284276,0.100000024,0.14142132,0.28284276,0.100000024,0.14142132,0.28284276,0.100000024,0.14142132,0.28284276,0.100000024,0.14142132,0.28284276,0.100000024,0.14142132,0.28284276,0.100000024,0.14142132,0.28284276,0.100000024,0.14142132,0.28284276,0.100000024,0.14142132,0.28284276,0.100000024,0.14142132,0.28284276,0.100000024,0.14142132,0.28284276,0.100000024,0.14142132,0.28284276,0.100000024,0.14142132,0.28284276,0.100000024,0.14142132,0.28284276,0.100000024,0.14142132,0.28284276,0.100000024,0.14142132,0.28284276,0.100000024,0.14142132,0.28284276,0.100000024,0.14142132,0.28284276,0.100000024,0.14142132,0.28284276,0.100000024,0.14142132,0.28284276,0.100000024,0.14142132,0.28284276,0.100000024,0.14142132,0.2828427,0.100000024,0.14142132,0.2828427,0.100000024,0.14142132,0.2828427,0.100000024,0.14142132,0.2828427,0.100000024,0.14142132,0.2828427,0.100000024,0.14142132,0.2828427,0.100000024,0.14142132,0.2828427,0.100000024,0.14142132,0.2828427,0.100000024,0.14142132,0.2828427,0.100000024,0.14142132,0.2828427,0.100000024,0.14142132,0.2828427,0.100000024,0.14142132,0.2828427,0.100000024,0.14142132,0.2828427,0.100000024,0.14142132,0.2828427,0.100000024,0.14142132,0.2828427,0.100000024,0.14142132,0.2828427,0.100000024,0.14142132,0.2828427,0.100000024,0.14142132,0.2828427,0.100000024,0.14142132,0.2828427,0.100000024,0.14142132,0.28284276,0.100000024,0.14142132,0.28284276,0.100000024,0.14142132,0.28284276,0.100000024,0.14142132,0.28284276,0.100000024,0.14142132,0.28284276,0.100000024,0.14142132,0.28284276,0.100000024,0.14142132,0.28284276,0.100000024,0.14142132,0.28284276,0.100000024,0.14142132,0.28284276,0.100000024,0.14142132,0.28284276,0.100000024,0.14142132,0.28284276,0.100000024,0.14142132,0.28284276,0.100000024,0.14142132,0.28284276,0.100000024,0.14142132,0.28284276,0.100000024,0.14142132,0.28284276,0.100000024,0.14142132,0.28284276,0.100000024,0.14142132,0.28284276,0.100000024,0.14142132,0.28284276,0.100000024,0.14142132,0.28284276,0.100000024,0.14142138,0.28284276,0.100000024,0.14142138,0.28284276,0.100000024,0.14142138,0.28284276,0.100000024,0.14142138,0.28284276,0.100000024,0.14142138,0.28284276,0.100000024,0.14142138,0.28284276,0.100000024,0.14142138,0.28284276,0.100000024,0.14142138,0.28284276,0.100000024,0.14142138,0.28284276,0.100000024,0.14142138,0.28284276,0.100000024,0.14142138,0.28284276,0.100000024,0.14142138,0.28284276,0.100000024,0.14142138,0.28284276,0.100000024,0.14142138,0.28284276,0.100000024,0.14142138,0.28284276,0.100000024,0.14142138,0.28284276,0.100000024,0.14142138,0.28284276,0.100000024,0.14142138,0.28284276,0.100000024,0.14142138,0.28284276,0.35000002,0.2474874,0.4949748,0.20207259,0.6062481,0.41833,0.35000002,0.2474874,0.4949748,0.20207259,0.6062481,0.41833,0.35000002,0.2474874,0.4949748,0.20207259,0.6062481,0.41833,0.35000002,0.2474874,0.4949748,0.20207259,0.6062481,0.41833,0.35000002,0.2474874,0.4949748,0.20207259,0.6062481,0.41833,0.35000002,0.2474874,0.4949748,0.20207259,0.6062481,0.41833,0.35000002,0.2474874,0.4949748,0.20207259,0.6062481,0.41833,0.35000002,0.2474874,0.4949748,0.20207259,0.6062481,0.41833,0.35000002,0.2474874,0.4949748,0.20207259,0.6062481,0.41833,0.35000002,0.2474874,0.4949748,0.20207259,0.6062481,0.41833,0.35000002,0.24748738,0.4949748,0.20207258,0.6062481,0.41833,0.35000002,0.24748738,0.4949748,0.20207258,0.6062481,0.41833,0.35000002,0.24748738,0.4949748,0.20207258,0.6062481,0.41833,0.35000002,0.24748738,0.4949748,0.20207258,0.6062481,0.41833,0.35000002,0.24748738,0.4949748,0.20207258,0.6062481,0.41833,0.35000002,0.24748738,0.4949748,0.20207258,0.6062481,0.41833,0.35000002,0.24748738,0.4949748,0.20207258,0.6062481,0.41833,0.35000002,0.24748738,0.4949748,0.20207258,0.6062481,0.41833,0.35000002,0.24748738,0.4949748,0.20207258,0.6062481,0.41833,0.35000002,0.24748738,0.4949748,0.20207258,0.6062481,0.41833,0.35000002,0.24748741,0.4949748,0.2020726,0.60624814,0.41833,0.35000002,0.24748741,0.4949748,0.2020726,0.60624814,0.41833,0.35000002,0.24748741,0.4949748,0.2020726,0.60624814,0.41833,0.35000002,0.24748741,0.4949748,0.2020726,0.60624814,0.41833,0.35000002,0.24748741,0.4949748,0.2020726,0.60624814,0.41833,0.35000002,0.24748741,0.4949748,0.2020726,0.60624814,0.41833,0.35000002,0.24748741,0.4949748,0.2020726,0.60624814,0.41833,0.35000002,0.24748741,0.4949748,0.2020726,0.60624814,0.41833,0.35000002,0.24748741,0.4949748,0.2020726,0.60624814,0.41833,0.35000002,0.24748741,0.4949748,0.2020726,0.60624814,0.41833,0.35000002,0.24748741,0.49497482,0.2020726,0.60624814,0.41832998,0.35000002,0.24748741,0.49497482,0.2020726,0.60624814,0.41832998,0.35000002,0.24748741,0.49497482,0.2020726,0.60624814,0.41832998,0.35000002,0.24748741,0.49497482,0.2020726,0.60624814,0.41832998,0.35000002,0.24748741,0.49497482,0.2020726,0.60624814,0.41832998,0.35000002,0.24748741,0.49497482,0.2020726,0.60624814,0.41832998,0.35000002,0.24748741,0.49497482,0.2020726,0.60624814,0.41832998,0.35000002,0.24748741,0.49497482,0.2020726,0.60624814,0.41832998,0.35000002,0.24748741,0.49497482,0.2020726,0.60624814,0.41832998,0.35000002,0.24748741,0.49497482,0.2020726,0.60624814,0.41832998,0.35,0.24748737,0.4949748,0.20207256,0.6062481,0.41833,0.35,0.24748737,0.4949748,0.20207256,0.6062481,0.41833,0.35,0.24748737,0.4949748,0.20207256,0.6062481,0.41833,0.35,0.24748737,0.4949748,0.20207256,0.6062481,0.41833,0.35,0.24748737,0.4949748,0.20207256,0.6062481,0.41833,0.35,0.24748737,0.4949748,0.20207256,0.6062481,0.41833,0.35,0.24748737,0.4949748,0.20207256,0.6062481,0.41833,0.35,0.24748737,0.4949748,0.20207256,0.6062481,0.41833,0.35,0.24748737,0.4949748,0.20207256,0.6062481,0.41833,0.35,0.24748737,0.4949748,0.20207256,0.6062481,0.41833,0.35000002,0.24748743,0.49497476,0.20207262,0.606248,0.41833004,0.35000002,0.24748743,0.49497476,0.20207262,0.606248,0.41833004,0.35000002,0.24748743,0.49497476,0.20207262,0.606248,0.41833004,0.35000002,0.24748743,0.49497476,0.20207262,0.606248,0.41833004,0.35000002,0.24748743,0.49497476,0.20207262,0.606248,0.41833004,0.35000002,0.24748743,0.49497476,0.20207262,0.606248,0.41833004,0.35000002,0.24748743,0.49497476,0.20207262,0.606248,0.41833004,0.35000002,0.24748743,0.49497476,0.20207262,0.606248,0.41833004,0.35000002,0.24748743,0.49497476,0.20207262,0.606248,0.41833004,0.35000002,0.24748743,0.49497476,0.20207262,0.606248,0.41833004,0.35000002,0.24748743,0.49497476,0.20207262,0.606248,0.41833004,0.35000002,0.24748743,0.49497476,0.20207262,0.606248,0.41833004,0.35000002,0.24748743,0.49497476,0.20207262,0.606248,0.41833004,0.35000002,0.24748743,0.49497476,0.20207262,0.606248,0.41833004,0.35000002,0.24748743,0.49497476,0.20207262,0.606248,0.41833004,0.35000002,0.24748743,0.49497476,0.20207262,0.606248,0.41833004,0.35000002,0.24748743,0.49497476,0.20207262,0.606248,0.41833004,0.35000002,0.24748743,0.49497476,0.20207262,0.606248,0.41833004,0.35000002,0.24748743,0.49497476,0.20207262,0.606248,0.41833004,0.35000002,0.24748743,0.49497476,0.20207262,0.606248,0.41833004,0.35000002,0.24748743,0.49497485,0.20207262,0.60624814,0.41832995,0.35000002,0.24748743,0.49497485,0.20207262,0.60624814,0.41832995,0.35000002,0.24748743,0.49497485,0.20207262,0.60624814,0.41832995,0.35000002,0.24748743,0.49497485,0.20207262,0.60624814,0.41832995,0.35000002,0.24748743,0.49497485,0.20207262,0.60624814,0.41832995,0.35000002,0.24748743,0.49497485,0.20207262,0.60624814,0.41832995,0.35000002,0.24748743,0.49497485,0.20207262,0.60624814,0.41832995,0.35000002,0.24748743,0.49497485,0.20207262,0.60624814,0.41832995,0.35000002,0.24748743,0.49497485,0.20207262,0.60624814,0.41832995,0.35000002,0.24748743,0.49497485,0.20207262,0.60624814,0.41832995,0.35000008,0.24748743,0.49497485,0.20207262,0.60624814,0.41832995,0.35000008,0.24748743,0.49497485,0.20207262,0.60624814,0.41832995,0.35000008,0.24748743,0.49497485,0.20207262,0.60624814,0.41832995,0.35000008,0.24748743,0.49497485,0.20207262,0.60624814,0.41832995,0.35000008,0.24748743,0.49497485,0.20207262,0.60624814,0.41832995,0.35000008,0.24748743,0.49497485,0.20207262,0.60624814,0.41832995,0.35000008,0.24748743,0.49497485,0.20207262,0.60624814,0.41832995,0.35000008,0.24748743,0.49497485,0.20207262,0.60624814,0.41832995,0.35000008,0.24748743,0.49497485,0.20207262,0.60624814,0.41832995,0.35000008,0.24748743,0.49497485,0.20207262,0.60624814,0.41832995,0.34999996,0.24748737,0.49497485,0.20207262,0.60624814,0.41832995,0.34999996,0.24748737,0.49497485,0.20207262,0.60624814,0.41832995,0.34999996,0.24748737,0.49497485,0.20207262,0.60624814,0.41832995,0.34999996,0.24748737,0.49497485,0.20207262,0.60624814,0.41832995,0.34999996,0.24748737,0.49497485,0.20207262,0.60624814,0.41832995,0.34999996,0.24748737,0.49497485,0.20207262,0.60624814,0.41832995,0.34999996,0.24748737,0.49497485,0.20207262,0.60624814,0.41832995,0.34999996,0.24748737,0.49497485,0.20207262,0.60624814,0.41832995,0.34999996,0.24748737,0.49497485,0.20207262,0.60624814,0.41832995,0.34999996,0.24748737,0.49497485,0.20207262,0.60624814,0.41832995,0.50000006,0.3535534,0.7071068,0.28867513,0.8660687,0.57008773,0.50000006,0.3535534,0.7071068,0.28867513,0.8660687,0.57008773,0.50000006,0.3535534,0.7071068,0.28867513,0.8660687,0.57008773,0.50000006,0.3535534,0.7071068,0.28867513,0.8660687,0.57008773,0.50000006,0.3535534,0.7071068,0.28867513,0.8660687,0.57008773,0.5000001,0.3535534,0.7071068,0.28867513,0.8660687,0.5700878,0.5000001,0.3535534,0.7071068,0.28867513,0.8660687,0.5700878,0.5000001,0.3535534,0.7071068,0.28867513,0.8660687,0.5700878,0.5000001,0.3535534,0.7071068,0.28867513,0.8660687,0.5700878,0.5000001,0.3535534,0.7071068,0.28867513,0.8660687,0.5700878,0.5,0.3535534,0.7071068,0.2886751,0.8660687,0.5700877,0.5,0.3535534,0.7071068,0.2886751,0.8660687,0.5700877,0.5,0.3535534,0.7071068,0.2886751,0.8660687,0.5700877,0.5,0.3535534,0.7071068,0.2886751,0.8660687,0.5700877,0.5,0.3535534,0.7071068,0.2886751,0.8660687,0.5700877,0.5,0.3535534,0.7071068,0.28867507,0.8660688,0.5700877,0.5,0.3535534,0.7071068,0.28867507,0.8660688,0.5700877,0.5,0.3535534,0.7071068,0.28867507,0.8660688,0.5700877,0.5,0.3535534,0.7071068,0.28867507,0.8660688,0.5700877,0.5,0.3535534,0.7071068,0.28867507,0.8660688,0.5700877,0.5000001,0.3535534,0.70710677,0.2886752,0.8660687,0.5700878,0.5000001,0.3535534,0.70710677,0.2886752,0.8660687,0.5700878,0.5000001,0.3535534,0.70710677,0.2886752,0.8660687,0.5700878,0.5000001,0.3535534,0.70710677,0.2886752,0.8660687,0.5700878,0.5000001,0.3535534,0.70710677,0.2886752,0.8660687,0.5700878,0.65000004,0.45961943,0.91923887,0.37527767,1.1258893,0.7211102,0.65000004,0.45961943,0.91923887,0.37527767,1.1258893,0.7211102,0.65000004,0.45961943,0.91923887,0.37527767,1.1258893,0.7211102,0.6500001,0.4596194,0.9192388,0.37527764,1.1258893,0.7211102,0.6500001,0.4596194,0.9192388,0.37527764,1.1258893,0.7211102,0.6500001,0.4596194,0.9192388,0.37527764,1.1258893,0.7211102,0.6500001,0.45961946,0.9192388,0.3752777,1.1258893,0.72111017,0.6500001,0.45961946,0.9192388,0.3752777,1.1258893,0.72111017,0.6500001,0.45961946,0.9192388,0.3752777,1.1258893,0.72111017,0.8000001,0.5656855,1.131371,0.4618802,1.3857099,0.8717798,0.8000001,0.5656855,1.131371,0.4618802,1.3857099,0.8717798,0.80000013,0.5656855,1.131371,0.4618802,1.3857098,0.87177986,0.80000013,0.5656855,1.131371,0.4618802,1.3857098,0.87177986,0.95000005,0.6717515,1.343503,0.5484828,1.6455305,0.97467947,\n",
    "0.1,0.28284273,0.14142136,0.099999994,0.28284273,0.14142138,0.099999994,0.2828427,0.14142138,0.099999994,0.28284273,0.14142135,0.099999994,0.28284273,0.14142135,0.10000001,0.2828427,0.14142138,0.100000024,0.2828427,0.14142138,0.100000024,0.28284276,0.14142138,0.100000024,0.2828427,0.14142138,0.100000024,0.28284276,0.14142135,0.100000024,0.28284276,0.14142135,0.100000024,0.28284276,0.14142132,0.100000024,0.28284276,0.14142132,0.100000024,0.28284276,0.14142132,0.100000024,0.28284276,0.14142132,0.100000024,0.28284276,0.14142132,0.100000024,0.2828427,0.14142132,0.100000024,0.28284276,0.14142132,0.100000024,0.28284276,0.14142138,0.1,0.28284273,0.14142136,0.099999994,0.28284273,0.14142138,0.099999994,0.2828427,0.14142138,0.099999994,0.28284273,0.14142135,0.099999994,0.28284273,0.14142135,0.10000001,0.2828427,0.14142138,0.100000024,0.2828427,0.14142138,0.100000024,0.28284276,0.14142138,0.100000024,0.2828427,0.14142138,0.100000024,0.28284276,0.14142135,0.100000024,0.28284276,0.14142135,0.100000024,0.28284276,0.14142132,0.100000024,0.28284276,0.14142132,0.100000024,0.28284276,0.14142132,0.100000024,0.28284276,0.14142132,0.100000024,0.28284276,0.14142132,0.100000024,0.2828427,0.14142132,0.100000024,0.28284276,0.14142132,0.100000024,0.28284276,0.14142138,0.1,0.28284273,0.14142136,0.099999994,0.28284273,0.14142138,0.099999994,0.2828427,0.14142138,0.099999994,0.28284273,0.14142135,0.099999994,0.28284273,0.14142135,0.10000001,0.2828427,0.14142138,0.100000024,0.2828427,0.14142138,0.100000024,0.28284276,0.14142138,0.100000024,0.2828427,0.14142138,0.100000024,0.28284276,0.14142135,0.100000024,0.28284276,0.14142135,0.100000024,0.28284276,0.14142132,0.100000024,0.28284276,0.14142132,0.100000024,0.28284276,0.14142132,0.100000024,0.28284276,0.14142132,0.100000024,0.28284276,0.14142132,0.100000024,0.2828427,0.14142132,0.100000024,0.28284276,0.14142132,0.100000024,0.28284276,0.14142138,0.1,0.28284273,0.14142136,0.099999994,0.28284273,0.14142138,0.099999994,0.2828427,0.14142138,0.099999994,0.28284273,0.14142135,0.099999994,0.28284273,0.14142135,0.10000001,0.2828427,0.14142138,0.100000024,0.2828427,0.14142138,0.100000024,0.28284276,0.14142138,0.100000024,0.2828427,0.14142138,0.100000024,0.28284276,0.14142135,0.100000024,0.28284276,0.14142135,0.100000024,0.28284276,0.14142132,0.100000024,0.28284276,0.14142132,0.100000024,0.28284276,0.14142132,0.100000024,0.28284276,0.14142132,0.100000024,0.28284276,0.14142132,0.100000024,0.2828427,0.14142132,0.100000024,0.28284276,0.14142132,0.100000024,0.28284276,0.14142138,0.1,0.28284273,0.14142136,0.099999994,0.28284273,0.14142138,0.099999994,0.2828427,0.14142138,0.099999994,0.28284273,0.14142135,0.099999994,0.28284273,0.14142135,0.10000001,0.2828427,0.14142138,0.100000024,0.2828427,0.14142138,0.100000024,0.28284276,0.14142138,0.100000024,0.2828427,0.14142138,0.100000024,0.28284276,0.14142135,0.100000024,0.28284276,0.14142135,0.100000024,0.28284276,0.14142132,0.100000024,0.28284276,0.14142132,0.100000024,0.28284276,0.14142132,0.100000024,0.28284276,0.14142132,0.100000024,0.28284276,0.14142132,0.100000024,0.2828427,0.14142132,0.100000024,0.28284276,0.14142132,0.100000024,0.28284276,0.14142138,0.1,0.28284273,0.14142136,0.099999994,0.28284273,0.14142138,0.099999994,0.2828427,0.14142138,0.099999994,0.28284273,0.14142135,0.099999994,0.28284273,0.14142135,0.10000001,0.2828427,0.14142138,0.100000024,0.2828427,0.14142138,0.100000024,0.28284276,0.14142138,0.100000024,0.2828427,0.14142138,0.100000024,0.28284276,0.14142135,0.100000024,0.28284276,0.14142135,0.100000024,0.28284276,0.14142132,0.100000024,0.28284276,0.14142132,0.100000024,0.28284276,0.14142132,0.100000024,0.28284276,0.14142132,0.100000024,0.28284276,0.14142132,0.100000024,0.2828427,0.14142132,0.100000024,0.28284276,0.14142132,0.100000024,0.28284276,0.14142138,0.1,0.28284273,0.14142136,0.099999994,0.28284273,0.14142138,0.099999994,0.2828427,0.14142138,0.099999994,0.28284273,0.14142135,0.099999994,0.28284273,0.14142135,0.10000001,0.2828427,0.14142138,0.100000024,0.2828427,0.14142138,0.100000024,0.28284276,0.14142138,0.100000024,0.2828427,0.14142138,0.100000024,0.28284276,0.14142135,0.100000024,0.28284276,0.14142135,0.100000024,0.28284276,0.14142132,0.100000024,0.28284276,0.14142132,0.100000024,0.28284276,0.14142132,0.100000024,0.28284276,0.14142132,0.100000024,0.28284276,0.14142132,0.100000024,0.2828427,0.14142132,0.100000024,0.28284276,0.14142132,0.100000024,0.28284276,0.14142138,0.1,0.28284273,0.14142136,0.099999994,0.28284273,0.14142138,0.099999994,0.2828427,0.14142138,0.099999994,0.28284273,0.14142135,0.099999994,0.28284273,0.14142135,0.10000001,0.2828427,0.14142138,0.100000024,0.2828427,0.14142138,0.100000024,0.28284276,0.14142138,0.100000024,0.2828427,0.14142138,0.100000024,0.28284276,0.14142135,0.100000024,0.28284276,0.14142135,0.100000024,0.28284276,0.14142132,0.100000024,0.28284276,0.14142132,0.100000024,0.28284276,0.14142132,0.100000024,0.28284276,0.14142132,0.100000024,0.28284276,0.14142132,0.100000024,0.2828427,0.14142132,0.100000024,0.28284276,0.14142132,0.100000024,0.28284276,0.14142138,0.1,0.28284273,0.14142136,0.099999994,0.28284273,0.14142138,0.099999994,0.2828427,0.14142138,0.099999994,0.28284273,0.14142135,0.099999994,0.28284273,0.14142135,0.10000001,0.2828427,0.14142138,0.100000024,0.2828427,0.14142138,0.100000024,0.28284276,0.14142138,0.100000024,0.2828427,0.14142138,0.100000024,0.28284276,0.14142135,0.100000024,0.28284276,0.14142135,0.100000024,0.28284276,0.14142132,0.100000024,0.28284276,0.14142132,0.100000024,0.28284276,0.14142132,0.100000024,0.28284276,0.14142132,0.100000024,0.28284276,0.14142132,0.100000024,0.2828427,0.14142132,0.100000024,0.28284276,0.14142132,0.100000024,0.28284276,0.14142138,0.1,0.28284273,0.14142136,0.099999994,0.28284273,0.14142138,0.099999994,0.2828427,0.14142138,0.099999994,0.28284273,0.14142135,0.099999994,0.28284273,0.14142135,0.10000001,0.2828427,0.14142138,0.100000024,0.2828427,0.14142138,0.100000024,0.28284276,0.14142138,0.100000024,0.2828427,0.14142138,0.100000024,0.28284276,0.14142135,0.100000024,0.28284276,0.14142135,0.100000024,0.28284276,0.14142132,0.100000024,0.28284276,0.14142132,0.100000024,0.28284276,0.14142132,0.100000024,0.28284276,0.14142132,0.100000024,0.28284276,0.14142132,0.100000024,0.2828427,0.14142132,0.100000024,0.28284276,0.14142132,0.100000024,0.28284276,0.14142138,0.1,0.28284273,0.14142136,0.099999994,0.28284273,0.14142138,0.099999994,0.2828427,0.14142138,0.099999994,0.28284273,0.14142135,0.099999994,0.28284273,0.14142135,0.10000001,0.2828427,0.14142138,0.100000024,0.2828427,0.14142138,0.100000024,0.28284276,0.14142138,0.100000024,0.2828427,0.14142138,0.100000024,0.28284276,0.14142135,0.100000024,0.28284276,0.14142135,0.100000024,0.28284276,0.14142132,0.100000024,0.28284276,0.14142132,0.100000024,0.28284276,0.14142132,0.100000024,0.28284276,0.14142132,0.100000024,0.28284276,0.14142132,0.100000024,0.2828427,0.14142132,0.100000024,0.28284276,0.14142132,0.100000024,0.28284276,0.14142138,0.1,0.28284273,0.14142136,0.099999994,0.28284273,0.14142138,0.099999994,0.2828427,0.14142138,0.099999994,0.28284273,0.14142135,0.099999994,0.28284273,0.14142135,0.10000001,0.2828427,0.14142138,0.100000024,0.2828427,0.14142138,0.100000024,0.28284276,0.14142138,0.100000024,0.2828427,0.14142138,0.100000024,0.28284276,0.14142135,0.100000024,0.28284276,0.14142135,0.100000024,0.28284276,0.14142132,0.100000024,0.28284276,0.14142132,0.100000024,0.28284276,0.14142132,0.100000024,0.28284276,0.14142132,0.100000024,0.28284276,0.14142132,0.100000024,0.2828427,0.14142132,0.100000024,0.28284276,0.14142132,0.100000024,0.28284276,0.14142138,0.1,0.28284273,0.14142136,0.099999994,0.28284273,0.14142138,0.099999994,0.2828427,0.14142138,0.099999994,0.28284273,0.14142135,0.099999994,0.28284273,0.14142135,0.10000001,0.2828427,0.14142138,0.100000024,0.2828427,0.14142138,0.100000024,0.28284276,0.14142138,0.100000024,0.2828427,0.14142138,0.100000024,0.28284276,0.14142135,0.100000024,0.28284276,0.14142135,0.100000024,0.28284276,0.14142132,0.100000024,0.28284276,0.14142132,0.100000024,0.28284276,0.14142132,0.100000024,0.28284276,0.14142132,0.100000024,0.28284276,0.14142132,0.100000024,0.2828427,0.14142132,0.100000024,0.28284276,0.14142132,0.100000024,0.28284276,0.14142138,0.1,0.28284273,0.14142136,0.099999994,0.28284273,0.14142138,0.099999994,0.2828427,0.14142138,0.099999994,0.28284273,0.14142135,0.099999994,0.28284273,0.14142135,0.10000001,0.2828427,0.14142138,0.100000024,0.2828427,0.14142138,0.100000024,0.28284276,0.14142138,0.100000024,0.2828427,0.14142138,0.100000024,0.28284276,0.14142135,0.100000024,0.28284276,0.14142135,0.100000024,0.28284276,0.14142132,0.100000024,0.28284276,0.14142132,0.100000024,0.28284276,0.14142132,0.100000024,0.28284276,0.14142132,0.100000024,0.28284276,0.14142132,0.100000024,0.2828427,0.14142132,0.100000024,0.28284276,0.14142132,0.100000024,0.28284276,0.14142138,0.1,0.28284273,0.14142136,0.099999994,0.28284273,0.14142138,0.099999994,0.2828427,0.14142138,0.099999994,0.28284273,0.14142135,0.099999994,0.28284273,0.14142135,0.10000001,0.2828427,0.14142138,0.100000024,0.2828427,0.14142138,0.100000024,0.28284276,0.14142138,0.100000024,0.2828427,0.14142138,0.100000024,0.28284276,0.14142135,0.100000024,0.28284276,0.14142135,0.100000024,0.28284276,0.14142132,0.100000024,0.28284276,0.14142132,0.100000024,0.28284276,0.14142132,0.100000024,0.28284276,0.14142132,0.100000024,0.28284276,0.14142132,0.100000024,0.2828427,0.14142132,0.100000024,0.28284276,0.14142132,0.100000024,0.28284276,0.14142138,0.1,0.28284273,0.14142136,0.099999994,0.28284273,0.14142138,0.099999994,0.2828427,0.14142138,0.099999994,0.28284273,0.14142135,0.099999994,0.28284273,0.14142135,0.10000001,0.2828427,0.14142138,0.100000024,0.2828427,0.14142138,0.100000024,0.28284276,0.14142138,0.100000024,0.2828427,0.14142138,0.100000024,0.28284276,0.14142135,0.100000024,0.28284276,0.14142135,0.100000024,0.28284276,0.14142132,0.100000024,0.28284276,0.14142132,0.100000024,0.28284276,0.14142132,0.100000024,0.28284276,0.14142132,0.100000024,0.28284276,0.14142132,0.100000024,0.2828427,0.14142132,0.100000024,0.28284276,0.14142132,0.100000024,0.28284276,0.14142138,0.1,0.28284273,0.14142136,0.099999994,0.28284273,0.14142138,0.099999994,0.2828427,0.14142138,0.099999994,0.28284273,0.14142135,0.099999994,0.28284273,0.14142135,0.10000001,0.2828427,0.14142138,0.100000024,0.2828427,0.14142138,0.100000024,0.28284276,0.14142138,0.100000024,0.2828427,0.14142138,0.100000024,0.28284276,0.14142135,0.100000024,0.28284276,0.14142135,0.100000024,0.28284276,0.14142132,0.100000024,0.28284276,0.14142132,0.100000024,0.28284276,0.14142132,0.100000024,0.28284276,0.14142132,0.100000024,0.28284276,0.14142132,0.100000024,0.2828427,0.14142132,0.100000024,0.28284276,0.14142132,0.100000024,0.28284276,0.14142138,0.1,0.28284273,0.14142136,0.099999994,0.28284273,0.14142138,0.099999994,0.2828427,0.14142138,0.099999994,0.28284273,0.14142135,0.099999994,0.28284273,0.14142135,0.10000001,0.2828427,0.14142138,0.100000024,0.2828427,0.14142138,0.100000024,0.28284276,0.14142138,0.100000024,0.2828427,0.14142138,0.100000024,0.28284276,0.14142135,0.100000024,0.28284276,0.14142135,0.100000024,0.28284276,0.14142132,0.100000024,0.28284276,0.14142132,0.100000024,0.28284276,0.14142132,0.100000024,0.28284276,0.14142132,0.100000024,0.28284276,0.14142132,0.100000024,0.2828427,0.14142132,0.100000024,0.28284276,0.14142132,0.100000024,0.28284276,0.14142138,0.1,0.28284273,0.14142136,0.099999994,0.28284273,0.14142138,0.099999994,0.2828427,0.14142138,0.099999994,0.28284273,0.14142135,0.099999994,0.28284273,0.14142135,0.10000001,0.2828427,0.14142138,0.100000024,0.2828427,0.14142138,0.100000024,0.28284276,0.14142138,0.100000024,0.2828427,0.14142138,0.100000024,0.28284276,0.14142135,0.100000024,0.28284276,0.14142135,0.100000024,0.28284276,0.14142132,0.100000024,0.28284276,0.14142132,0.100000024,0.28284276,0.14142132,0.100000024,0.28284276,0.14142132,0.100000024,0.28284276,0.14142132,0.100000024,0.2828427,0.14142132,0.100000024,0.28284276,0.14142132,0.100000024,0.28284276,0.14142138,0.34999996,0.4949747,0.24748735,0.60621774,0.20206249,0.41833,0.34999996,0.49497467,0.24748737,0.60621774,0.20206249,0.41833,0.34999996,0.49497473,0.24748737,0.60621774,0.20206249,0.41833,0.34999993,0.49497473,0.24748737,0.60621774,0.20206249,0.41832998,0.34999996,0.49497467,0.24748737,0.60621774,0.20206246,0.41833,0.35,0.49497473,0.24748734,0.60621774,0.20206249,0.41833004,0.35,0.49497473,0.2474873,0.60621774,0.20206249,0.41833004,0.3499999,0.49497473,0.2474873,0.6062178,0.20206249,0.41832995,0.3499999,0.49497467,0.2474873,0.6062177,0.20206249,0.41832995,0.3499999,0.49497467,0.2474873,0.6062178,0.20206255,0.41832995,0.34999996,0.4949747,0.24748735,0.60621774,0.20206249,0.41833,0.34999996,0.49497467,0.24748737,0.60621774,0.20206249,0.41833,0.34999996,0.49497473,0.24748737,0.60621774,0.20206249,0.41833,0.34999993,0.49497473,0.24748737,0.60621774,0.20206249,0.41832998,0.34999996,0.49497467,0.24748737,0.60621774,0.20206246,0.41833,0.35,0.49497473,0.24748734,0.60621774,0.20206249,0.41833004,0.35,0.49497473,0.2474873,0.60621774,0.20206249,0.41833004,0.3499999,0.49497473,0.2474873,0.6062178,0.20206249,0.41832995,0.3499999,0.49497467,0.2474873,0.6062177,0.20206249,0.41832995,0.3499999,0.49497467,0.2474873,0.6062178,0.20206255,0.41832995,0.34999996,0.4949747,0.24748735,0.60621774,0.20206249,0.41833,0.34999996,0.49497467,0.24748737,0.60621774,0.20206249,0.41833,0.34999996,0.49497473,0.24748737,0.60621774,0.20206249,0.41833,0.34999993,0.49497473,0.24748737,0.60621774,0.20206249,0.41832998,0.34999996,0.49497467,0.24748737,0.60621774,0.20206246,0.41833,0.35,0.49497473,0.24748734,0.60621774,0.20206249,0.41833004,0.35,0.49497473,0.2474873,0.60621774,0.20206249,0.41833004,0.3499999,0.49497473,0.2474873,0.6062178,0.20206249,0.41832995,0.3499999,0.49497467,0.2474873,0.6062177,0.20206249,0.41832995,0.3499999,0.49497467,0.2474873,0.6062178,0.20206255,0.41832995,0.34999996,0.4949747,0.24748735,0.60621774,0.20206249,0.41833,0.34999996,0.49497467,0.24748737,0.60621774,0.20206249,0.41833,0.34999996,0.49497473,0.24748737,0.60621774,0.20206249,0.41833,0.34999993,0.49497473,0.24748737,0.60621774,0.20206249,0.41832998,0.34999996,0.49497467,0.24748737,0.60621774,0.20206246,0.41833,0.35,0.49497473,0.24748734,0.60621774,0.20206249,0.41833004,0.35,0.49497473,0.2474873,0.60621774,0.20206249,0.41833004,0.3499999,0.49497473,0.2474873,0.6062178,0.20206249,0.41832995,0.3499999,0.49497467,0.2474873,0.6062177,0.20206249,0.41832995,0.3499999,0.49497467,0.2474873,0.6062178,0.20206255,0.41832995,0.34999996,0.4949747,0.24748735,0.60621774,0.20206249,0.41833,0.34999996,0.49497467,0.24748737,0.60621774,0.20206249,0.41833,0.34999996,0.49497473,0.24748737,0.60621774,0.20206249,0.41833,0.34999993,0.49497473,0.24748737,0.60621774,0.20206249,0.41832998,0.34999996,0.49497467,0.24748737,0.60621774,0.20206246,0.41833,0.35,0.49497473,0.24748734,0.60621774,0.20206249,0.41833004,0.35,0.49497473,0.2474873,0.60621774,0.20206249,0.41833004,0.3499999,0.49497473,0.2474873,0.6062178,0.20206249,0.41832995,0.3499999,0.49497467,0.2474873,0.6062177,0.20206249,0.41832995,0.3499999,0.49497467,0.2474873,0.6062178,0.20206255,0.41832995,0.34999996,0.4949747,0.24748735,0.60621774,0.20206249,0.41833,0.34999996,0.49497467,0.24748737,0.60621774,0.20206249,0.41833,0.34999996,0.49497473,0.24748737,0.60621774,0.20206249,0.41833,0.34999993,0.49497473,0.24748737,0.60621774,0.20206249,0.41832998,0.34999996,0.49497467,0.24748737,0.60621774,0.20206246,0.41833,0.35,0.49497473,0.24748734,0.60621774,0.20206249,0.41833004,0.35,0.49497473,0.2474873,0.60621774,0.20206249,0.41833004,0.3499999,0.49497473,0.2474873,0.6062178,0.20206249,0.41832995,0.3499999,0.49497467,0.2474873,0.6062177,0.20206249,0.41832995,0.3499999,0.49497467,0.2474873,0.6062178,0.20206255,0.41832995,0.34999996,0.4949747,0.24748735,0.60621774,0.20206249,0.41833,0.34999996,0.49497467,0.24748737,0.60621774,0.20206249,0.41833,0.34999996,0.49497473,0.24748737,0.60621774,0.20206249,0.41833,0.34999993,0.49497473,0.24748737,0.60621774,0.20206249,0.41832998,0.34999996,0.49497467,0.24748737,0.60621774,0.20206246,0.41833,0.35,0.49497473,0.24748734,0.60621774,0.20206249,0.41833004,0.35,0.49497473,0.2474873,0.60621774,0.20206249,0.41833004,0.3499999,0.49497473,0.2474873,0.6062178,0.20206249,0.41832995,0.3499999,0.49497467,0.2474873,0.6062177,0.20206249,0.41832995,0.3499999,0.49497467,0.2474873,0.6062178,0.20206255,0.41832995,0.34999996,0.4949747,0.24748735,0.60621774,0.20206249,0.41833,0.34999996,0.49497467,0.24748737,0.60621774,0.20206249,0.41833,0.34999996,0.49497473,0.24748737,0.60621774,0.20206249,0.41833,0.34999993,0.49497473,0.24748737,0.60621774,0.20206249,0.41832998,0.34999996,0.49497467,0.24748737,0.60621774,0.20206246,0.41833,0.35,0.49497473,0.24748734,0.60621774,0.20206249,0.41833004,0.35,0.49497473,0.2474873,0.60621774,0.20206249,0.41833004,0.3499999,0.49497473,0.2474873,0.6062178,0.20206249,0.41832995,0.3499999,0.49497467,0.2474873,0.6062177,0.20206249,0.41832995,0.3499999,0.49497467,0.2474873,0.6062178,0.20206255,0.41832995,0.34999996,0.4949747,0.24748735,0.60621774,0.20206249,0.41833,0.34999996,0.49497467,0.24748737,0.60621774,0.20206249,0.41833,0.34999996,0.49497473,0.24748737,0.60621774,0.20206249,0.41833,0.34999993,0.49497473,0.24748737,0.60621774,0.20206249,0.41832998,0.34999996,0.49497467,0.24748737,0.60621774,0.20206246,0.41833,0.35,0.49497473,0.24748734,0.60621774,0.20206249,0.41833004,0.35,0.49497473,0.2474873,0.60621774,0.20206249,0.41833004,0.3499999,0.49497473,0.2474873,0.6062178,0.20206249,0.41832995,0.3499999,0.49497467,0.2474873,0.6062177,0.20206249,0.41832995,0.3499999,0.49497467,0.2474873,0.6062178,0.20206255,0.41832995,0.34999996,0.4949747,0.24748735,0.60621774,0.20206249,0.41833,0.34999996,0.49497467,0.24748737,0.60621774,0.20206249,0.41833,0.34999996,0.49497473,0.24748737,0.60621774,0.20206249,0.41833,0.34999993,0.49497473,0.24748737,0.60621774,0.20206249,0.41832998,0.34999996,0.49497467,0.24748737,0.60621774,0.20206246,0.41833,0.35,0.49497473,0.24748734,0.60621774,0.20206249,0.41833004,0.35,0.49497473,0.2474873,0.60621774,0.20206249,0.41833004,0.3499999,0.49497473,0.2474873,0.6062178,0.20206249,0.41832995,0.3499999,0.49497467,0.2474873,0.6062177,0.20206249,0.41832995,0.3499999,0.49497467,0.2474873,0.6062178,0.20206255,0.41832995,0.49999997,0.7071067,0.35355335,0.8660254,0.2886607,0.57008773,0.5,0.7071067,0.35355335,0.8660253,0.2886607,0.5700878,0.5,0.7071067,0.35355332,0.86602545,0.28866073,0.5700877,0.5,0.70710665,0.3535533,0.86602545,0.28866076,0.5700877,0.49999994,0.7071067,0.3535534,0.8660253,0.28866065,0.5700878,0.49999997,0.7071067,0.35355335,0.8660254,0.2886607,0.57008773,0.5,0.7071067,0.35355335,0.8660253,0.2886607,0.5700878,0.5,0.7071067,0.35355332,0.86602545,0.28866073,0.5700877,0.5,0.70710665,0.3535533,0.86602545,0.28866076,0.5700877,0.49999994,0.7071067,0.3535534,0.8660253,0.28866065,0.5700878,0.49999997,0.7071067,0.35355335,0.8660254,0.2886607,0.57008773,0.5,0.7071067,0.35355335,0.8660253,0.2886607,0.5700878,0.5,0.7071067,0.35355332,0.86602545,0.28866073,0.5700877,0.5,0.70710665,0.3535533,0.86602545,0.28866076,0.5700877,0.49999994,0.7071067,0.3535534,0.8660253,0.28866065,0.5700878,0.49999997,0.7071067,0.35355335,0.8660254,0.2886607,0.57008773,0.5,0.7071067,0.35355335,0.8660253,0.2886607,0.5700878,0.5,0.7071067,0.35355332,0.86602545,0.28866073,0.5700877,0.5,0.70710665,0.3535533,0.86602545,0.28866076,0.5700877,0.49999994,0.7071067,0.3535534,0.8660253,0.28866065,0.5700878,0.49999997,0.7071067,0.35355335,0.8660254,0.2886607,0.57008773,0.5,0.7071067,0.35355335,0.8660253,0.2886607,0.5700878,0.5,0.7071067,0.35355332,0.86602545,0.28866073,0.5700877,0.5,0.70710665,0.3535533,0.86602545,0.28866076,0.5700877,0.49999994,0.7071067,0.3535534,0.8660253,0.28866065,0.5700878,0.6499999,0.9192387,0.45961934,1.1258329,0.3752589,0.7211102,0.64999986,0.9192387,0.4596193,1.125833,0.37525892,0.7211102,0.64999986,0.91923875,0.45961928,1.1258328,0.37525892,0.72111017,0.6499999,0.9192387,0.45961934,1.1258329,0.3752589,0.7211102,0.64999986,0.9192387,0.4596193,1.125833,0.37525892,0.7211102,0.64999986,0.91923875,0.45961928,1.1258328,0.37525892,0.72111017,0.6499999,0.9192387,0.45961934,1.1258329,0.3752589,0.7211102,0.64999986,0.9192387,0.4596193,1.125833,0.37525892,0.7211102,0.64999986,0.91923875,0.45961928,1.1258328,0.37525892,0.72111017,0.79999995,1.1313708,0.5656854,1.3856406,0.46185714,0.8717798,0.79999995,1.1313708,0.56568533,1.3856406,0.46185708,0.87177986,0.79999995,1.1313708,0.5656854,1.3856406,0.46185714,0.8717798,0.79999995,1.1313708,0.56568533,1.3856406,0.46185708,0.87177986,0.9499999,1.3435028,0.6717514,1.6454482,0.54845536,0.97467947\n",
    "]"
   ]
  },
  {
   "cell_type": "code",
   "execution_count": 6,
   "metadata": {},
   "outputs": [],
   "source": [
    "CLASS_NUM = 21\n",
    "RESULT_NUM = 1917\n",
    "X_SCALE = 10\n",
    "Y_SCALE = 10\n",
    "W_SCALE = 5\n",
    "H_SCALE = 5\n",
    "IMG_DIMENSION = 300\n",
    "import math\n",
    "def getbox(input, region_id):\n",
    "    x_center, y_center = 0.0, 0.0\n",
    "    w, h = 0.0, 0.0\n",
    "    bbox = [-1,-1,-1,-1]\n",
    "    prior_x = _box_prior[1 * RESULT_NUM + region_id]\n",
    "    prior_y = _box_prior[0 * RESULT_NUM + region_id]\n",
    "    prior_w = _box_prior[3 * RESULT_NUM + region_id]\n",
    "    prior_h = _box_prior[2 * RESULT_NUM + region_id]\n",
    "\n",
    "    y_center = input[0] / Y_SCALE * prior_h + prior_y\n",
    "    x_center = input[1] / X_SCALE * prior_w + prior_x\n",
    "\n",
    "    h = math.exp(input[2] / H_SCALE) * prior_h\n",
    "    w = math.exp(input[3] / W_SCALE) * prior_w\n",
    "\n",
    "    bbox[0] = IMG_DIMENSION * (x_center - w / 2)\n",
    "    bbox[1] = IMG_DIMENSION * (y_center - h / 2)\n",
    "    bbox[2] = IMG_DIMENSION * w\n",
    "    bbox[3] = IMG_DIMENSION * h\n",
    "    return bbox\n",
    "\n",
    "def getconfidence(input):\n",
    "    max_val = -1.0\n",
    "    adjusted = 0.0\n",
    "    class_index = 0\n",
    "    confidence = 0\n",
    "    # Skip the first catch-all class\n",
    "    input = input[1:]\n",
    "\n",
    "    for i in range(0, CLASS_NUM-1):\n",
    "        data = input[i]\n",
    "        adjusted = 1 / (1 + math.exp(-1*data))\n",
    "\n",
    "        if adjusted > max_val:\n",
    "            max_val = adjusted\n",
    "            class_index = i\n",
    "\n",
    "    confidence = max_val\n",
    "    ans = [class_index,confidence]\n",
    "    \n",
    "    return ans\n",
    "\n",
    "def clip_window(data):\n",
    "    if data is None:\n",
    "        return -1\n",
    "  \n",
    "    wx1 = 0\n",
    "    wx2 = 300\n",
    "    wy1 = 0\n",
    "    wy2 = 300\n",
    "\n",
    "    bx1 = data[0]\n",
    "    by1 = data[1]\n",
    "    bx2 = data[0] + data[2]\n",
    "    by2 = data[1] + data[3]\n",
    "\n",
    "    if bx1 < wx1:\n",
    "        bx1 = wx1\n",
    "    if bx2 < wx1:\n",
    "        bx2 = wx1\n",
    "    if bx1 > wx2:\n",
    "        bx1 = wx2\n",
    "    if bx2 > wx2:\n",
    "        bx2 = wx2\n",
    "    if by1 < wy1:\n",
    "        by1 = wy1\n",
    "    if by2 < wy1:\n",
    "        by2 = wy1\n",
    "    if by1 > wy2:\n",
    "        by1 = wy2\n",
    "    if by2 > wy2:\n",
    "        by2 = wy2\n",
    "    newdata = [-1,-1,-1,-1]\n",
    "    newdata[0] = bx1\n",
    "    newdata[1] = by1\n",
    "    newdata[2] = bx2 - bx1\n",
    "    newdata[3] = by2 - by1\n",
    "    invalid = False\n",
    "    if newdata[2] * newdata[3] < 1e-5:\n",
    "        invalid = True\n",
    "\n",
    "    return newdata, invalid\n",
    "\n",
    "def classbox_compare(a, b):\n",
    "    if a[3]:\n",
    "        if b[3]:\n",
    "            return 0\n",
    "        else:\n",
    "            return 1\n",
    "    if b[3]:\n",
    "        return -1\n",
    "    return -1 if a[2] < b[2] else 1\n",
    "\n",
    "def resultbox_compare(a,b):\n",
    "    x = a\n",
    "    y = b\n",
    "    \n",
    "    if x == -1:\n",
    "        if y == -1:\n",
    "            return 0\n",
    "        else:\n",
    "            return 1\n",
    "    \n",
    "    if y == -1:\n",
    "        return -1\n",
    "    \n",
    "    return 1 if x[2] < y[2] else -1\n",
    "\n",
    "def MIN(x, y):\n",
    "    return y if x > y else x\n",
    "\n",
    "def MAX(x, y):\n",
    "    return y if x < y else x\n",
    "\n",
    "def IS_VALID_RECT(bbox):\n",
    "    return bbox[2] > 0 and bbox[3] > 0\n",
    "\n",
    "def RECT_AREA(bbox):\n",
    "    return bbox[2] * bbox[3]\n",
    "\n",
    "def get_iou(box_a, box_b):\n",
    "    overlap = [-1,-1,-1,-1]\n",
    "\n",
    "    overlap[0] = MAX(box_a[0], box_b[0])\n",
    "    overlap[1] = MAX(box_a[1], box_b[1])\n",
    "\n",
    "    overlap[2] = MIN(box_a[0] + box_a[2], box_b[0] + box_b[2]) - overlap[0]\n",
    "    overlap[3] = MIN(box_a[1] + box_a[3], box_b[1] + box_b[3]) - overlap[1]\n",
    "\n",
    "    if not IS_VALID_RECT(overlap):\n",
    "        return 0.0\n",
    "\n",
    "    return RECT_AREA(overlap) / (RECT_AREA(box_a) + RECT_AREA(box_b) - RECT_AREA(overlap))\n",
    "\n",
    "MIN_CONFIDENCE = 0.5\n",
    "IOU_THRESHOLD = 0.6\n",
    "\n",
    "def NMS_byclass(classboxlist, boxlist, classid, current_id, boxes):\n",
    "    if classboxlist[current_id][1] != classid:\n",
    "        return -1\n",
    "    \n",
    "    curid = current_id\n",
    "    next_item = -1\n",
    "    indexes = [] # invalid indexes for classboxlist\n",
    "    \n",
    "    for i in range(curid + 1, RESULT_NUM):\n",
    "        if classboxlist[i][3]:\n",
    "            continue\n",
    "        \n",
    "        if classboxlist[i][2] < MIN_CONFIDENCE:\n",
    "            indexes.append(i)\n",
    "            #classboxlist[i][3] = True\n",
    "            continue\n",
    "        \n",
    "        boxid = classboxlist[i][0]\n",
    "        curboxid = classboxlist[curid][0]\n",
    "        #if boxlist[boxid][3]:\n",
    "        if boxlist[boxid] == True:\n",
    "            indexes.append(i)\n",
    "            #classboxlist[i][3] = True\n",
    "            continue\n",
    "        \n",
    "        if classboxlist[i][1] == classid and get_iou(boxes[boxid], boxes[curboxid]) > IOU_THRESHOLD:\n",
    "            indexes.append(i)\n",
    "            #classboxlist[i][3] = True\n",
    "            continue\n",
    "        \n",
    "        if next_item < 0:\n",
    "            next_item = i\n",
    "    \n",
    "    return next_item, indexes"
   ]
  },
  {
   "cell_type": "code",
   "execution_count": 8,
   "metadata": {},
   "outputs": [],
   "source": [
    "labels = [\n",
    "    \"???\",\n",
    "    \"aeroplane\",\n",
    "    \"bicycle\",\n",
    "    \"bird\",\n",
    "    \"boat\",\n",
    "    \"bottle\",\n",
    "    \"bus\",\n",
    "    \"car\",\n",
    "    \"cat\",\n",
    "    \"chair\",\n",
    "    \"cow\",\n",
    "    \"diningtable\",\n",
    "    \"dog\",\n",
    "    \"horse\",\n",
    "    \"motorbike\",\n",
    "    \"person\",\n",
    "    \"pottedplant\",\n",
    "    \"sheep\",\n",
    "    \"sofa\",\n",
    "    \"train\",\n",
    "    \"tvmonitor\"\n",
    "]\n",
    "interpreter = tf.lite.Interpreter(model_path=\"./tflite_models/mobilenet_ssd_pascal_quant.tflite\")\n",
    "interpreter.allocate_tensors()\n",
    "output = interpreter.get_output_details()\n",
    "input = interpreter.get_input_details()\n",
    "output_index1 = output[0]['index']\n",
    "output_index2 = output[1]['index']\n",
    "input_index = input[0]['index']\n",
    "\n",
    "\n",
    "from PIL import Image\n",
    "vid_path = \"./posevid.mp4\"\n",
    "cap = cv2.VideoCapture(vid_path)\n",
    "ret, frame = cap.read()\n",
    "alldata = []\n",
    "for h in range(0,250): \n",
    "    width, height = get_video_dimensions(vid_path) \n",
    "    cropped_frame = crop_frame(frame, height, height)\n",
    "    frame = cropped_frame\n",
    "    resized_frame = cv2.resize(frame, (300, 300))\n",
    "    #cv2.imwrite(\"./resized_image.jpg\", resized_frame)\n",
    "    color_frame = cv2.cvtColor(resized_frame, cv2.COLOR_BGR2RGB)\n",
    "    frame = np.expand_dims(color_frame, axis=0)\n",
    "    interpreter.set_tensor(input_index, frame)\n",
    "    interpreter.invoke()\n",
    "    output_data1 = interpreter.get_tensor(output_index1)\n",
    "    output_data2 = interpreter.get_tensor(output_index2)\n",
    "    # print(output_data1[0][0])\n",
    "    # print(output_data2.shape)\n",
    "    MIN_CONFIDENCE = 0.5\n",
    "    TOP_N_INCLASS = 2\n",
    "    ALL_RESULT_SIZE = TOP_N_INCLASS*CLASS_NUM\n",
    "    cols0 = 4\n",
    "    rows0 = 1917\n",
    "    boxdata = [[-1 for _ in range(cols0)] for _ in range(rows0)]\n",
    "    #print(np.array(boxdata).shape)\n",
    "    classdata = [] # [class_id, confidence]\n",
    "    cols = 1917\n",
    "    rows = 21\n",
    "    classboxlist = [[-1 for _ in range(cols)] for _ in range(rows)] # size 21 [1st class: [(box_id, class_id, confidence, invalid)], [1st info],... [1917th info]\n",
    "                                                                    #           2nd class:                                         ]\n",
    "    #classresultlist = [[-1 for _ in range(4)] for _ in range(ALL_RESULT_SIZE)]\n",
    "    classresultlist = [-1]*ALL_RESULT_SIZE\n",
    "\n",
    "    import time\n",
    "    DEQUANT_BBOX_MEAN = 173\n",
    "    DEQUANT_BBOX_STEP = 0.064610\n",
    "    DEQUANT_CLASS_MEAN = 159\n",
    "    DEQUANT_CLASS_STEP = 0.141151\n",
    "    dequant_box = output_data2.astype(float)\n",
    "    dequant_class = output_data1.astype(float)\n",
    "    for a in range(0,1917):\n",
    "        for b in range(0,4):\n",
    "            newval = ((output_data2[0][a][b]).astype(float)- DEQUANT_BBOX_MEAN)*DEQUANT_BBOX_STEP\n",
    "            dequant_box[0][a][b] = newval\n",
    "        for c in range(0,21):\n",
    "            newval = ((output_data1[0][a][c]).astype(float) - DEQUANT_CLASS_MEAN)*DEQUANT_CLASS_STEP\n",
    "            dequant_class[0][a][c] = newval\n",
    "\n",
    "    # dequant_box = [(x - DEQUANT_BBOX_MEAN)*DEQUANT_BBOX_STEP for x in output_data2]\n",
    "    # dequant_class = [(x - DEQUANT_CLASS_MEAN)*DEQUANT_CLASS_STEP for x in output_data1]\n",
    "    invalidindexes= [False] * 1917 # 0 = not invalid, -1 = invalid for &data\n",
    "    for i in range(0,1917):\n",
    "        boxdata[i] = (getbox(dequant_box[0][i], i))\n",
    "        classdata.append(getconfidence(dequant_class[0][i]))\n",
    "        for j in range(1, CLASS_NUM):\n",
    "            info = (i,j,1 / (1 + math.exp(-1*dequant_class[0][i][j])),False)\n",
    "            classboxlist[j][i] = info\n",
    "        clip_window_output = clip_window(boxdata[i])\n",
    "        boxdata[i] = clip_window_output[0]\n",
    "        invalidindexes[i] = clip_window_output[1]\n",
    "    import functools\n",
    "    #NMS\n",
    "    for k in range(1, CLASS_NUM):#1->21\n",
    "        current_item = 0\n",
    "        # Sort the result (descending)\n",
    "        classboxlist[k] = sorted(classboxlist[k], key=functools.cmp_to_key(classbox_compare), reverse=True)\n",
    "        \n",
    "        if classboxlist[k][0][3] == True:\n",
    "            continue\n",
    "        \n",
    "        if classboxlist[k][0][2] < MIN_CONFIDENCE:\n",
    "            oldtup = classboxlist[k][0]\n",
    "            newtup = (oldtup[0],oldtup[1],oldtup[2],True)\n",
    "            classboxlist[k][0] = newtup\n",
    "            continue\n",
    "\n",
    "        for l in range(0,TOP_N_INCLASS):#0->2\n",
    "            if current_item >= RESULT_NUM:\n",
    "                break\n",
    "            # Perform non-maximum suppression and get the next item to be output\n",
    "            NMS_output = NMS_byclass(classboxlist[k],invalidindexes,k,current_item,boxdata)\n",
    "            next_item = NMS_output[0]\n",
    "            invalids = NMS_output[1]\n",
    "            for z in range(0,len(invalids)):\n",
    "                oldtup = classboxlist[k][invalids[z]]\n",
    "                newtup = (oldtup[0],oldtup[1],oldtup[2],True)\n",
    "                classboxlist[k][invalids[z]] = newtup\n",
    "            classresultlist[k * TOP_N_INCLASS + l] = classboxlist[k][current_item]\n",
    "            # No more valid output\n",
    "            if next_item < 0:\n",
    "                break\n",
    "\n",
    "            current_item = next_item\n",
    "\n",
    "    rescnt = 0\n",
    "    for i in range(ALL_RESULT_SIZE):\n",
    "        if classresultlist[i] != -1:\n",
    "            classresultlist[rescnt] = classresultlist[i]\n",
    "            rescnt += 1\n",
    "\n",
    "    #print(\"Detections: \"+str(rescnt))\n",
    "    classresultlist = classresultlist[:rescnt]\n",
    "    #print(classresultlist)\n",
    "    TOP_N_RESULT = 2\n",
    "    # Sort the classresultlist\n",
    "    classresultlist = sorted(classresultlist, key=functools.cmp_to_key(resultbox_compare), reverse=True)\n",
    "    outputsize = 0\n",
    "    if rescnt > TOP_N_RESULT:\n",
    "        outputsize = TOP_N_RESULT\n",
    "    else:\n",
    "        outputsize = rescnt\n",
    "\n",
    "    #print(\"Top \"+str(outputsize)+\" Results:\")\n",
    "    #[(box_id, class_id, confidence, invalid)]\n",
    "    for i in range(outputsize):\n",
    "        pclassbox = classresultlist[i]\n",
    "        if pclassbox == -1:\n",
    "            continue\n",
    "        current_item = pclassbox[0]\n",
    "        if pclassbox[3] == False and invalidindexes[current_item] == False:\n",
    "            if current_item < 0 or current_item > RESULT_NUM:\n",
    "                print(\"Something wrong\")\n",
    "            # output msg\n",
    "            framedata = []\n",
    "            framedata.append((int)(boxdata[current_item][0]))\n",
    "            framedata.append((int)(boxdata[current_item][1]))\n",
    "            framedata.append((int)(boxdata[current_item][0]+boxdata[current_item][2]))\n",
    "            framedata.append((int)(boxdata[current_item][1]+boxdata[current_item][3]))\n",
    "            alldata.append(framedata)\n",
    "            #return_msg = str(labels[pclassbox[1]])+\" (ID: \"+str(pclassbox[1])+\"): \"+\"\\nConfidence: \"+str(pclassbox[2])+\"\\nBBOx: \"+str(boxdata[current_item][0])+\", \"+str(boxdata[current_item][1])+\", \"+str(boxdata[current_item][2])+\", \"+str(boxdata[current_item][3])\n",
    "            #print(return_msg)\n",
    "    \n",
    "\n",
    "    ret, frame = cap.read()\n",
    "\n",
    "    # for i in range(0,len(items)):\n",
    "    #     cv2.rectangle(image, ((int)(boxdata[items[i]][0]),(int)(boxdata[items[i]][1])),((int)(boxdata[items[i]][0]+boxdata[items[i]][2]),(int)(boxdata[items[i]][1]+boxdata[items[i]][3])), color, thickness)\n",
    "    # # Display the image with the bounding box\n",
    "    # cv2.imshow(\"Image with Bounding Box\", image)\n",
    "    # cv2.waitKey(0)\n",
    "    # cv2.destroyAllWindows()"
   ]
  },
  {
   "cell_type": "code",
   "execution_count": 9,
   "metadata": {},
   "outputs": [
    {
     "name": "stdout",
     "output_type": "stream",
     "text": [
      "441\n"
     ]
    }
   ],
   "source": [
    "print(len(alldata))\n"
   ]
  },
  {
   "cell_type": "code",
   "execution_count": 48,
   "metadata": {},
   "outputs": [
    {
     "ename": "NameError",
     "evalue": "name 'AllPoints' is not defined",
     "output_type": "error",
     "traceback": [
      "\u001b[0;31m---------------------------------------------------------------------------\u001b[0m",
      "\u001b[0;31mNameError\u001b[0m                                 Traceback (most recent call last)",
      "Cell \u001b[0;32mIn[48], line 2\u001b[0m\n\u001b[1;32m      1\u001b[0m \u001b[39m#newarr = np.array(AllPoints)\u001b[39;00m\n\u001b[0;32m----> 2\u001b[0m \u001b[39mprint\u001b[39m(\u001b[39mlen\u001b[39m(AllPoints[\u001b[39m0\u001b[39m]))\n\u001b[1;32m      3\u001b[0m \u001b[39m#print(newarr.shape)\u001b[39;00m\n\u001b[1;32m      4\u001b[0m \u001b[39m# AllPoints = [[1, 2, 3], [4, 5, 6], [7, 8, 9]]\u001b[39;00m\n\u001b[1;32m      5\u001b[0m \n\u001b[1;32m      6\u001b[0m \u001b[39m# Specify the file path and name\u001b[39;00m\n\u001b[1;32m      7\u001b[0m file_path \u001b[39m=\u001b[39m \u001b[39m\"\u001b[39m\u001b[39m./test.txt\u001b[39m\u001b[39m\"\u001b[39m\n",
      "\u001b[0;31mNameError\u001b[0m: name 'AllPoints' is not defined"
     ]
    }
   ],
   "source": [
    "#newarr = np.array(AllPoints)\n",
    "print(len(AllPoints[0]))\n",
    "#print(newarr.shape)\n",
    "# AllPoints = [[1, 2, 3], [4, 5, 6], [7, 8, 9]]\n",
    "\n",
    "# Specify the file path and name\n",
    "file_path = \"./test.txt\"\n",
    "\n",
    "# Open the file in write mode\n",
    "with open(file_path, 'w') as file:\n",
    "    # Iterate over each sublist in AllPoints\n",
    "    for sublist in AllPoints:\n",
    "        # Convert the sublist to a string\n",
    "        sublist_str = ' '.join(map(str, sublist))\n",
    "        # Write the sublist string to the file\n",
    "        file.write(sublist_str + '\\n')\n",
    "\n",
    "# Specify the file path and name\n",
    "file_path = \"./test.txt\"\n",
    "\n",
    "# Initialize the larger list\n",
    "larger_list = []\n",
    "\n",
    "# Read the contents of the file\n",
    "with open(file_path, 'r') as file:\n",
    "    # Iterate over each line in the file\n",
    "    for line in file:\n",
    "        # Strip any leading/trailing whitespaces and newline characters\n",
    "        line = line.strip()\n",
    "        line = line.replace(\", \",\",\")\n",
    "        # Split the line by spaces to separate the elements\n",
    "        elements_str = line.split()\n",
    "        \n",
    "        # Ensure the line has exactly 18 elements\n",
    "        if len(elements_str) == 18:\n",
    "            # Convert elements to tuples\n",
    "            elements = [tuple(map(int, elem.strip('()').split(','))) for elem in elements_str]\n",
    "            \n",
    "            # Append the elements list to the larger list\n",
    "            larger_list.append(elements)\n",
    "print(larger_list[0])\n",
    "new_large = []\n",
    "\n",
    "for row in larger_list:\n",
    "    new_row = []\n",
    "    for pt in row:\n",
    "        if pt[0] != -1:\n",
    "            newx = (int)(pt[0]/46*900)\n",
    "            newy = (int)(pt[1]/46*900)\n",
    "            pt = (newx,newy) \n",
    "            new_row.append(pt)\n",
    "        else:\n",
    "            new_row.append((-1,-1))\n",
    "    new_large.append(new_row)\n",
    "print(new_large[0])\n",
    "print(new_large[1])\n",
    "\n"
   ]
  },
  {
   "attachments": {},
   "cell_type": "markdown",
   "metadata": {},
   "source": [
    "## Prepare data for model 2"
   ]
  },
  {
   "cell_type": "code",
   "execution_count": 52,
   "metadata": {},
   "outputs": [],
   "source": [
    "moving_probs_trimmed = moving_prob[:-(len(moving_prob)%16)] if len(moving_prob) % 16 != 0 else moving_prob\n",
    "model2_in = np.array(moving_probs_trimmed).reshape((len(moving_prob)//16, 16))\n",
    "# print(model2_in)"
   ]
  },
  {
   "attachments": {},
   "cell_type": "markdown",
   "metadata": {},
   "source": [
    "## Pass into Model 2 and get final prediction"
   ]
  },
  {
   "cell_type": "code",
   "execution_count": 53,
   "metadata": {},
   "outputs": [],
   "source": [
    "model2 = tf.keras.models.load_model(\"model2\")"
   ]
  },
  {
   "cell_type": "code",
   "execution_count": 54,
   "metadata": {},
   "outputs": [],
   "source": [
    "vid_preds = model2.predict(model2_in)"
   ]
  },
  {
   "cell_type": "code",
   "execution_count": 55,
   "metadata": {},
   "outputs": [
    {
     "name": "stdout",
     "output_type": "stream",
     "text": [
      "[[ True  True False False False False False False False False False]]\n"
     ]
    }
   ],
   "source": [
    "bools = vid_preds.reshape((1, len(vid_preds))) > 0.5\n",
    "print(bools)"
   ]
  }
 ],
 "metadata": {
  "kernelspec": {
   "display_name": ".venv",
   "language": "python",
   "name": "python3"
  },
  "language_info": {
   "codemirror_mode": {
    "name": "ipython",
    "version": 3
   },
   "file_extension": ".py",
   "mimetype": "text/x-python",
   "name": "python",
   "nbconvert_exporter": "python",
   "pygments_lexer": "ipython3",
   "version": "3.8.10"
  },
  "orig_nbformat": 4
 },
 "nbformat": 4,
 "nbformat_minor": 2
}
